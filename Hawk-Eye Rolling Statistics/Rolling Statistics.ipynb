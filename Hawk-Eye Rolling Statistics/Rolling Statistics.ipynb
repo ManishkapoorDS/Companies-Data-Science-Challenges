{
 "cells": [
  {
   "cell_type": "markdown",
   "metadata": {
    "toc": true
   },
   "source": [
    "<h1>Table of Contents<span class=\"tocSkip\"></span></h1>\n",
    "<div class=\"toc\"><ul class=\"toc-item\"><li><span><a href=\"#Test-1:-Dataframe\" data-toc-modified-id=\"Test-1:-Dataframe-1\"><span class=\"toc-item-num\">1&nbsp;&nbsp;</span>Test 1: Dataframe</a></span></li><li><span><a href=\"#Test-2:-Checking-data-is-configurable\" data-toc-modified-id=\"Test-2:-Checking-data-is-configurable-2\"><span class=\"toc-item-num\">2&nbsp;&nbsp;</span>Test 2: Checking data is configurable</a></span></li><li><span><a href=\"#Test-3:-Lists\" data-toc-modified-id=\"Test-3:-Lists-3\"><span class=\"toc-item-num\">3&nbsp;&nbsp;</span>Test 3: Lists</a></span></li><li><span><a href=\"#Test-4:-Dealing-with-strings\" data-toc-modified-id=\"Test-4:-Dealing-with-strings-4\"><span class=\"toc-item-num\">4&nbsp;&nbsp;</span>Test 4: Dealing with strings</a></span></li><li><span><a href=\"#Test-5:-Arrays\" data-toc-modified-id=\"Test-5:-Arrays-5\"><span class=\"toc-item-num\">5&nbsp;&nbsp;</span>Test 5: Arrays</a></span></li></ul></div>"
   ]
  },
  {
   "cell_type": "markdown",
   "metadata": {},
   "source": [
    "# ROLLING STATISTICS"
   ]
  },
  {
   "cell_type": "markdown",
   "metadata": {},
   "source": [
    "Creating a class which can store data and provide various statistics. The\n",
    "number of items should be configurable: the oldest data should be removed when new data comes in. It should be possible to get the following information about the data:\n",
    "1. Mean\n",
    "2. Median\n",
    "3. Sum\n",
    "4. Standard deviation"
   ]
  },
  {
   "cell_type": "markdown",
   "metadata": {},
   "source": [
    "Extensions points: <br>\n",
    "● Can one class provide all the functionality, or do you need separate classes? <br>\n",
    "● Can more generic data be stored? How would you handle getting the statistics of them? <br>\n",
    "● Can the data be queried for a specific range rather than getting all of the data? <br>\n",
    "● Can the data be stored with timestamps such that the maximum range of data stored is\n",
    "over a specified time rather than a specified amount?"
   ]
  },
  {
   "cell_type": "code",
   "execution_count": 1,
   "metadata": {},
   "outputs": [],
   "source": [
    "from dataclasses import dataclass\n",
    "import pandas as pd\n",
    "import numpy as np\n",
    "import time"
   ]
  },
  {
   "cell_type": "code",
   "execution_count": 2,
   "metadata": {},
   "outputs": [],
   "source": [
    "@dataclass\n",
    "class DataClassStat:\n",
    "    df: any\n",
    "    \n",
    "    def strlist(self, df):\n",
    "        if type(self.df) is list:\n",
    "            self.df = [int(n) for n in self.df if n]\n",
    "        elif type(self.df) is str:\n",
    "            self.df = float(self.df)\n",
    "    def mean(self):\n",
    "        start = time.process_time()\n",
    "        self.strlist(self.df)\n",
    "        mean = np.mean(self.df)\n",
    "        print(\"Time Taken (s): \", time.process_time() - start)\n",
    "        return mean\n",
    "    def median(self):\n",
    "        start = time.process_time()\n",
    "        self.strlist(self.df)\n",
    "        median = np.median(self.df)\n",
    "        print(\"Time Taken (s): \", time.process_time() - start)\n",
    "        return median\n",
    "    def numsum(self):\n",
    "        start = time.process_time()\n",
    "        self.strlist(self.df)\n",
    "        totsum = np.sum(self.df)\n",
    "        print(\"Time Taken (s): \", time.process_time() - start)\n",
    "        return totsum\n",
    "    def std(self):\n",
    "        start = time.process_time()\n",
    "        self.strlist(self.df)\n",
    "        std = np.std(self.df)\n",
    "        print(\"Time Taken (s): \", time.process_time() - start)\n",
    "        return std\n",
    "    def firstn(self, n):\n",
    "        start = time.process_time()\n",
    "        self.strlist(self.df)\n",
    "        firstslice = self.df[:n]\n",
    "        print(\"Time Taken (s): \", time.process_time() - start)\n",
    "        return firstslice\n",
    "    def lastn(self, n):\n",
    "        start = time.process_time()\n",
    "        self.strlist(self.df)\n",
    "        lastslice = self.df[len(self.df)-n:]\n",
    "        print(\"Time Taken (s): \", time.process_time() - start)\n",
    "        return lastslice"
   ]
  },
  {
   "cell_type": "markdown",
   "metadata": {},
   "source": [
    "## Test 1: Dataframe"
   ]
  },
  {
   "cell_type": "code",
   "execution_count": 3,
   "metadata": {},
   "outputs": [
    {
     "data": {
      "text/plain": [
       "1000000"
      ]
     },
     "execution_count": 3,
     "metadata": {},
     "output_type": "execute_result"
    }
   ],
   "source": [
    "dataset_len = 1000000\n",
    "dlen = int(dataset_len/2)\n",
    "X_11 = pd.Series(np.random.normal(1,1,dlen))\n",
    "X_12 = pd.Series(np.random.normal(10,2,dlen))\n",
    "X_1 = pd.concat([X_11, X_12]).reset_index(drop=True)\n",
    "X_21 = pd.Series(np.random.normal(2,1,dlen))\n",
    "X_22 = pd.Series(np.random.normal(9,2,dlen))\n",
    "X_2 = pd.concat([X_21, X_22]).reset_index(drop=True)\n",
    "Y = pd.Series(np.repeat([0,1],dlen))\n",
    "df = pd.concat([X_1, X_2, Y], axis=1)\n",
    "df.columns = ['X1', 'X2', 'Y']\n",
    "len(df)"
   ]
  },
  {
   "cell_type": "code",
   "execution_count": 4,
   "metadata": {},
   "outputs": [
    {
     "data": {
      "text/html": [
       "<div>\n",
       "<style scoped>\n",
       "    .dataframe tbody tr th:only-of-type {\n",
       "        vertical-align: middle;\n",
       "    }\n",
       "\n",
       "    .dataframe tbody tr th {\n",
       "        vertical-align: top;\n",
       "    }\n",
       "\n",
       "    .dataframe thead th {\n",
       "        text-align: right;\n",
       "    }\n",
       "</style>\n",
       "<table border=\"1\" class=\"dataframe\">\n",
       "  <thead>\n",
       "    <tr style=\"text-align: right;\">\n",
       "      <th></th>\n",
       "      <th>X1</th>\n",
       "      <th>X2</th>\n",
       "      <th>Y</th>\n",
       "    </tr>\n",
       "  </thead>\n",
       "  <tbody>\n",
       "    <tr>\n",
       "      <th>0</th>\n",
       "      <td>1.924025</td>\n",
       "      <td>3.324965</td>\n",
       "      <td>0</td>\n",
       "    </tr>\n",
       "    <tr>\n",
       "      <th>1</th>\n",
       "      <td>1.259442</td>\n",
       "      <td>0.768392</td>\n",
       "      <td>0</td>\n",
       "    </tr>\n",
       "    <tr>\n",
       "      <th>2</th>\n",
       "      <td>1.202980</td>\n",
       "      <td>1.925732</td>\n",
       "      <td>0</td>\n",
       "    </tr>\n",
       "    <tr>\n",
       "      <th>3</th>\n",
       "      <td>1.242305</td>\n",
       "      <td>1.119963</td>\n",
       "      <td>0</td>\n",
       "    </tr>\n",
       "    <tr>\n",
       "      <th>4</th>\n",
       "      <td>2.073625</td>\n",
       "      <td>1.427494</td>\n",
       "      <td>0</td>\n",
       "    </tr>\n",
       "  </tbody>\n",
       "</table>\n",
       "</div>"
      ],
      "text/plain": [
       "         X1        X2  Y\n",
       "0  1.924025  3.324965  0\n",
       "1  1.259442  0.768392  0\n",
       "2  1.202980  1.925732  0\n",
       "3  1.242305  1.119963  0\n",
       "4  2.073625  1.427494  0"
      ]
     },
     "execution_count": 4,
     "metadata": {},
     "output_type": "execute_result"
    }
   ],
   "source": [
    "stats = DataClassStat(df)\n",
    "stats.df.head()"
   ]
  },
  {
   "cell_type": "code",
   "execution_count": 5,
   "metadata": {},
   "outputs": [
    {
     "name": "stdout",
     "output_type": "stream",
     "text": [
      "Time Taken (s):  0.015625\n"
     ]
    },
    {
     "data": {
      "text/plain": [
       "X1    5.498451\n",
       "X2    5.502959\n",
       "Y     0.500000\n",
       "dtype: float64"
      ]
     },
     "execution_count": 5,
     "metadata": {},
     "output_type": "execute_result"
    }
   ],
   "source": [
    "stats.mean()"
   ]
  },
  {
   "cell_type": "code",
   "execution_count": 6,
   "metadata": {},
   "outputs": [
    {
     "name": "stdout",
     "output_type": "stream",
     "text": [
      "Time Taken (s):  0.046875\n"
     ]
    },
    {
     "data": {
      "text/plain": [
       "1.4995983672753734"
      ]
     },
     "execution_count": 6,
     "metadata": {},
     "output_type": "execute_result"
    }
   ],
   "source": [
    "stats.median()"
   ]
  },
  {
   "cell_type": "code",
   "execution_count": 7,
   "metadata": {},
   "outputs": [
    {
     "name": "stdout",
     "output_type": "stream",
     "text": [
      "Time Taken (s):  0.0625\n"
     ]
    },
    {
     "data": {
      "text/plain": [
       "X1    5.498451e+06\n",
       "X2    5.502959e+06\n",
       "Y     5.000000e+05\n",
       "dtype: float64"
      ]
     },
     "execution_count": 7,
     "metadata": {},
     "output_type": "execute_result"
    }
   ],
   "source": [
    "stats.numsum()"
   ]
  },
  {
   "cell_type": "code",
   "execution_count": 8,
   "metadata": {},
   "outputs": [
    {
     "name": "stdout",
     "output_type": "stream",
     "text": [
      "Time Taken (s):  0.03125\n"
     ]
    },
    {
     "data": {
      "text/plain": [
       "X1    4.771697\n",
       "X2    3.841553\n",
       "Y     0.500000\n",
       "dtype: float64"
      ]
     },
     "execution_count": 8,
     "metadata": {},
     "output_type": "execute_result"
    }
   ],
   "source": [
    "stats.std()"
   ]
  },
  {
   "cell_type": "code",
   "execution_count": 9,
   "metadata": {},
   "outputs": [
    {
     "name": "stdout",
     "output_type": "stream",
     "text": [
      "Time Taken (s):  0.0\n"
     ]
    },
    {
     "data": {
      "text/html": [
       "<div>\n",
       "<style scoped>\n",
       "    .dataframe tbody tr th:only-of-type {\n",
       "        vertical-align: middle;\n",
       "    }\n",
       "\n",
       "    .dataframe tbody tr th {\n",
       "        vertical-align: top;\n",
       "    }\n",
       "\n",
       "    .dataframe thead th {\n",
       "        text-align: right;\n",
       "    }\n",
       "</style>\n",
       "<table border=\"1\" class=\"dataframe\">\n",
       "  <thead>\n",
       "    <tr style=\"text-align: right;\">\n",
       "      <th></th>\n",
       "      <th>X1</th>\n",
       "      <th>X2</th>\n",
       "      <th>Y</th>\n",
       "    </tr>\n",
       "  </thead>\n",
       "  <tbody>\n",
       "    <tr>\n",
       "      <th>0</th>\n",
       "      <td>1.924025</td>\n",
       "      <td>3.324965</td>\n",
       "      <td>0</td>\n",
       "    </tr>\n",
       "    <tr>\n",
       "      <th>1</th>\n",
       "      <td>1.259442</td>\n",
       "      <td>0.768392</td>\n",
       "      <td>0</td>\n",
       "    </tr>\n",
       "    <tr>\n",
       "      <th>2</th>\n",
       "      <td>1.202980</td>\n",
       "      <td>1.925732</td>\n",
       "      <td>0</td>\n",
       "    </tr>\n",
       "    <tr>\n",
       "      <th>3</th>\n",
       "      <td>1.242305</td>\n",
       "      <td>1.119963</td>\n",
       "      <td>0</td>\n",
       "    </tr>\n",
       "    <tr>\n",
       "      <th>4</th>\n",
       "      <td>2.073625</td>\n",
       "      <td>1.427494</td>\n",
       "      <td>0</td>\n",
       "    </tr>\n",
       "    <tr>\n",
       "      <th>5</th>\n",
       "      <td>-0.283728</td>\n",
       "      <td>0.817497</td>\n",
       "      <td>0</td>\n",
       "    </tr>\n",
       "    <tr>\n",
       "      <th>6</th>\n",
       "      <td>-0.234397</td>\n",
       "      <td>2.796129</td>\n",
       "      <td>0</td>\n",
       "    </tr>\n",
       "    <tr>\n",
       "      <th>7</th>\n",
       "      <td>2.424248</td>\n",
       "      <td>1.848596</td>\n",
       "      <td>0</td>\n",
       "    </tr>\n",
       "    <tr>\n",
       "      <th>8</th>\n",
       "      <td>0.024348</td>\n",
       "      <td>-0.196195</td>\n",
       "      <td>0</td>\n",
       "    </tr>\n",
       "    <tr>\n",
       "      <th>9</th>\n",
       "      <td>-0.397433</td>\n",
       "      <td>2.166044</td>\n",
       "      <td>0</td>\n",
       "    </tr>\n",
       "  </tbody>\n",
       "</table>\n",
       "</div>"
      ],
      "text/plain": [
       "         X1        X2  Y\n",
       "0  1.924025  3.324965  0\n",
       "1  1.259442  0.768392  0\n",
       "2  1.202980  1.925732  0\n",
       "3  1.242305  1.119963  0\n",
       "4  2.073625  1.427494  0\n",
       "5 -0.283728  0.817497  0\n",
       "6 -0.234397  2.796129  0\n",
       "7  2.424248  1.848596  0\n",
       "8  0.024348 -0.196195  0\n",
       "9 -0.397433  2.166044  0"
      ]
     },
     "execution_count": 9,
     "metadata": {},
     "output_type": "execute_result"
    }
   ],
   "source": [
    "stats.firstn(10)"
   ]
  },
  {
   "cell_type": "code",
   "execution_count": 10,
   "metadata": {},
   "outputs": [
    {
     "name": "stdout",
     "output_type": "stream",
     "text": [
      "Time Taken (s):  0.0\n"
     ]
    },
    {
     "data": {
      "text/html": [
       "<div>\n",
       "<style scoped>\n",
       "    .dataframe tbody tr th:only-of-type {\n",
       "        vertical-align: middle;\n",
       "    }\n",
       "\n",
       "    .dataframe tbody tr th {\n",
       "        vertical-align: top;\n",
       "    }\n",
       "\n",
       "    .dataframe thead th {\n",
       "        text-align: right;\n",
       "    }\n",
       "</style>\n",
       "<table border=\"1\" class=\"dataframe\">\n",
       "  <thead>\n",
       "    <tr style=\"text-align: right;\">\n",
       "      <th></th>\n",
       "      <th>X1</th>\n",
       "      <th>X2</th>\n",
       "      <th>Y</th>\n",
       "    </tr>\n",
       "  </thead>\n",
       "  <tbody>\n",
       "    <tr>\n",
       "      <th>999997</th>\n",
       "      <td>11.503971</td>\n",
       "      <td>9.911141</td>\n",
       "      <td>1</td>\n",
       "    </tr>\n",
       "    <tr>\n",
       "      <th>999998</th>\n",
       "      <td>10.473004</td>\n",
       "      <td>11.719938</td>\n",
       "      <td>1</td>\n",
       "    </tr>\n",
       "    <tr>\n",
       "      <th>999999</th>\n",
       "      <td>11.879149</td>\n",
       "      <td>9.960469</td>\n",
       "      <td>1</td>\n",
       "    </tr>\n",
       "  </tbody>\n",
       "</table>\n",
       "</div>"
      ],
      "text/plain": [
       "               X1         X2  Y\n",
       "999997  11.503971   9.911141  1\n",
       "999998  10.473004  11.719938  1\n",
       "999999  11.879149   9.960469  1"
      ]
     },
     "execution_count": 10,
     "metadata": {},
     "output_type": "execute_result"
    }
   ],
   "source": [
    "stats.lastn(3)"
   ]
  },
  {
   "cell_type": "markdown",
   "metadata": {},
   "source": [
    "## Test 2: Checking data is configurable"
   ]
  },
  {
   "cell_type": "code",
   "execution_count": 11,
   "metadata": {},
   "outputs": [
    {
     "data": {
      "text/plain": [
       "200"
      ]
     },
     "execution_count": 11,
     "metadata": {},
     "output_type": "execute_result"
    }
   ],
   "source": [
    "dataset_len = 200\n",
    "dlen = int(dataset_len/2)\n",
    "X_11 = pd.Series(np.random.normal(7,6,dlen))\n",
    "X_12 = pd.Series(np.random.normal(10,2,dlen))\n",
    "X_1 = pd.concat([X_11, X_12]).reset_index(drop=True)\n",
    "X_21 = pd.Series(np.random.normal(12,1,dlen))\n",
    "X_22 = pd.Series(np.random.normal(9,2,dlen))\n",
    "X_2 = pd.concat([X_21, X_22]).reset_index(drop=True)\n",
    "Y = pd.Series(np.repeat([0,1],dlen))\n",
    "df2 = pd.concat([X_1, X_2, Y], axis=1)\n",
    "df2.columns = ['X1', 'X2', 'Y']\n",
    "len(df2)"
   ]
  },
  {
   "cell_type": "code",
   "execution_count": 12,
   "metadata": {},
   "outputs": [
    {
     "data": {
      "text/html": [
       "<div>\n",
       "<style scoped>\n",
       "    .dataframe tbody tr th:only-of-type {\n",
       "        vertical-align: middle;\n",
       "    }\n",
       "\n",
       "    .dataframe tbody tr th {\n",
       "        vertical-align: top;\n",
       "    }\n",
       "\n",
       "    .dataframe thead th {\n",
       "        text-align: right;\n",
       "    }\n",
       "</style>\n",
       "<table border=\"1\" class=\"dataframe\">\n",
       "  <thead>\n",
       "    <tr style=\"text-align: right;\">\n",
       "      <th></th>\n",
       "      <th>X1</th>\n",
       "      <th>X2</th>\n",
       "      <th>Y</th>\n",
       "    </tr>\n",
       "  </thead>\n",
       "  <tbody>\n",
       "    <tr>\n",
       "      <th>0</th>\n",
       "      <td>6.820354</td>\n",
       "      <td>15.022523</td>\n",
       "      <td>0</td>\n",
       "    </tr>\n",
       "    <tr>\n",
       "      <th>1</th>\n",
       "      <td>13.602317</td>\n",
       "      <td>11.280803</td>\n",
       "      <td>0</td>\n",
       "    </tr>\n",
       "    <tr>\n",
       "      <th>2</th>\n",
       "      <td>11.560052</td>\n",
       "      <td>12.626420</td>\n",
       "      <td>0</td>\n",
       "    </tr>\n",
       "    <tr>\n",
       "      <th>3</th>\n",
       "      <td>6.109073</td>\n",
       "      <td>12.539427</td>\n",
       "      <td>0</td>\n",
       "    </tr>\n",
       "    <tr>\n",
       "      <th>4</th>\n",
       "      <td>9.258931</td>\n",
       "      <td>12.895588</td>\n",
       "      <td>0</td>\n",
       "    </tr>\n",
       "  </tbody>\n",
       "</table>\n",
       "</div>"
      ],
      "text/plain": [
       "          X1         X2  Y\n",
       "0   6.820354  15.022523  0\n",
       "1  13.602317  11.280803  0\n",
       "2  11.560052  12.626420  0\n",
       "3   6.109073  12.539427  0\n",
       "4   9.258931  12.895588  0"
      ]
     },
     "execution_count": 12,
     "metadata": {},
     "output_type": "execute_result"
    }
   ],
   "source": [
    "DataClassStat(df2).df.head()"
   ]
  },
  {
   "cell_type": "code",
   "execution_count": 13,
   "metadata": {},
   "outputs": [
    {
     "name": "stdout",
     "output_type": "stream",
     "text": [
      "Time Taken (s):  0.0\n"
     ]
    },
    {
     "data": {
      "text/plain": [
       "X1     8.814938\n",
       "X2    10.469681\n",
       "Y      0.500000\n",
       "dtype: float64"
      ]
     },
     "execution_count": 13,
     "metadata": {},
     "output_type": "execute_result"
    }
   ],
   "source": [
    "DataClassStat(df2).mean()"
   ]
  },
  {
   "cell_type": "markdown",
   "metadata": {},
   "source": [
    "## Test 3: Lists "
   ]
  },
  {
   "cell_type": "code",
   "execution_count": 14,
   "metadata": {},
   "outputs": [
    {
     "data": {
      "text/plain": [
       "[3, 7, 3, 6]"
      ]
     },
     "execution_count": 14,
     "metadata": {},
     "output_type": "execute_result"
    }
   ],
   "source": [
    "DataClassStat([3, 7, 3, 6]).df"
   ]
  },
  {
   "cell_type": "code",
   "execution_count": 15,
   "metadata": {},
   "outputs": [
    {
     "name": "stdout",
     "output_type": "stream",
     "text": [
      "Time Taken (s):  0.0\n"
     ]
    },
    {
     "data": {
      "text/plain": [
       "4.75"
      ]
     },
     "execution_count": 15,
     "metadata": {},
     "output_type": "execute_result"
    }
   ],
   "source": [
    "listinp = DataClassStat([3, 7, 3, 6])\n",
    "listinp.mean()"
   ]
  },
  {
   "cell_type": "code",
   "execution_count": 16,
   "metadata": {},
   "outputs": [
    {
     "name": "stdout",
     "output_type": "stream",
     "text": [
      "Time Taken (s):  0.0\n"
     ]
    },
    {
     "data": {
      "text/plain": [
       "[3, 7]"
      ]
     },
     "execution_count": 16,
     "metadata": {},
     "output_type": "execute_result"
    }
   ],
   "source": [
    "listinp.firstn(2)"
   ]
  },
  {
   "cell_type": "code",
   "execution_count": 17,
   "metadata": {},
   "outputs": [
    {
     "name": "stdout",
     "output_type": "stream",
     "text": [
      "Time Taken (s):  0.0\n"
     ]
    },
    {
     "data": {
      "text/plain": [
       "[3, 6]"
      ]
     },
     "execution_count": 17,
     "metadata": {},
     "output_type": "execute_result"
    }
   ],
   "source": [
    "listinp.lastn(2)"
   ]
  },
  {
   "cell_type": "markdown",
   "metadata": {},
   "source": [
    "## Test 4: Dealing with strings"
   ]
  },
  {
   "cell_type": "code",
   "execution_count": 18,
   "metadata": {},
   "outputs": [
    {
     "name": "stdout",
     "output_type": "stream",
     "text": [
      "Time Taken (s):  0.0\n"
     ]
    },
    {
     "data": {
      "text/plain": [
       "4.75"
      ]
     },
     "execution_count": 18,
     "metadata": {},
     "output_type": "execute_result"
    }
   ],
   "source": [
    "listinp = DataClassStat(['3', '7', '3', '6'])\n",
    "listinp.mean()"
   ]
  },
  {
   "cell_type": "code",
   "execution_count": 19,
   "metadata": {},
   "outputs": [
    {
     "name": "stdout",
     "output_type": "stream",
     "text": [
      "Time Taken (s):  0.0\n"
     ]
    },
    {
     "data": {
      "text/plain": [
       "3.0"
      ]
     },
     "execution_count": 19,
     "metadata": {},
     "output_type": "execute_result"
    }
   ],
   "source": [
    "strinp = DataClassStat('3')\n",
    "strinp.mean()"
   ]
  },
  {
   "cell_type": "markdown",
   "metadata": {},
   "source": [
    "## Test 5: Arrays"
   ]
  },
  {
   "cell_type": "code",
   "execution_count": 20,
   "metadata": {},
   "outputs": [
    {
     "name": "stdout",
     "output_type": "stream",
     "text": [
      "Time Taken (s):  0.0\n"
     ]
    },
    {
     "data": {
      "text/plain": [
       "3.75"
      ]
     },
     "execution_count": 20,
     "metadata": {},
     "output_type": "execute_result"
    }
   ],
   "source": [
    "arrinp = DataClassStat(np.array([2, 4, 1, 8]))\n",
    "arrinp.mean()"
   ]
  },
  {
   "cell_type": "code",
   "execution_count": 21,
   "metadata": {},
   "outputs": [
    {
     "name": "stdout",
     "output_type": "stream",
     "text": [
      "Time Taken (s):  0.0\n"
     ]
    },
    {
     "data": {
      "text/plain": [
       "array([2, 4])"
      ]
     },
     "execution_count": 21,
     "metadata": {},
     "output_type": "execute_result"
    }
   ],
   "source": [
    "arrinp.firstn(2)"
   ]
  },
  {
   "cell_type": "code",
   "execution_count": 22,
   "metadata": {},
   "outputs": [
    {
     "name": "stdout",
     "output_type": "stream",
     "text": [
      "Time Taken (s):  0.0\n"
     ]
    },
    {
     "data": {
      "text/plain": [
       "2.680951323690902"
      ]
     },
     "execution_count": 22,
     "metadata": {},
     "output_type": "execute_result"
    }
   ],
   "source": [
    "arrinp.std()"
   ]
  }
 ],
 "metadata": {
  "kernelspec": {
   "display_name": "Python 3",
   "language": "python",
   "name": "python3"
  },
  "language_info": {
   "codemirror_mode": {
    "name": "ipython",
    "version": 3
   },
   "file_extension": ".py",
   "mimetype": "text/x-python",
   "name": "python",
   "nbconvert_exporter": "python",
   "pygments_lexer": "ipython3",
   "version": "3.7.3"
  },
  "toc": {
   "base_numbering": 1,
   "nav_menu": {},
   "number_sections": true,
   "sideBar": true,
   "skip_h1_title": true,
   "title_cell": "Table of Contents",
   "title_sidebar": "Contents",
   "toc_cell": true,
   "toc_position": {},
   "toc_section_display": true,
   "toc_window_display": false
  },
  "varInspector": {
   "cols": {
    "lenName": 16,
    "lenType": 16,
    "lenVar": 40
   },
   "kernels_config": {
    "python": {
     "delete_cmd_postfix": "",
     "delete_cmd_prefix": "del ",
     "library": "var_list.py",
     "varRefreshCmd": "print(var_dic_list())"
    },
    "r": {
     "delete_cmd_postfix": ") ",
     "delete_cmd_prefix": "rm(",
     "library": "var_list.r",
     "varRefreshCmd": "cat(var_dic_list()) "
    }
   },
   "types_to_exclude": [
    "module",
    "function",
    "builtin_function_or_method",
    "instance",
    "_Feature"
   ],
   "window_display": false
  }
 },
 "nbformat": 4,
 "nbformat_minor": 2
}
