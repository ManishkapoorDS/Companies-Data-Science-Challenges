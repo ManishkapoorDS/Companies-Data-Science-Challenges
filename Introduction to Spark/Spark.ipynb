{
 "cells": [
  {
   "cell_type": "markdown",
   "metadata": {},
   "source": [
    "# Introduction to Spark"
   ]
  },
  {
   "cell_type": "markdown",
   "metadata": {},
   "source": [
    "In this notebook, you will be introduced to the Apache Spark libary for big data processing. There's a now a python package called `pyspark` which will load Spark for you. Tthe variable `sc` is a Spark context that lets you interact with the Spark runtime. Check that it is correctly initialised:"
   ]
  },
  {
   "cell_type": "code",
   "execution_count": 1,
   "metadata": {},
   "outputs": [
    {
     "name": "stdout",
     "output_type": "stream",
     "text": [
      "<SparkContext master=local[*] appName=pyspark-shell>\n",
      "Ready to go!\n"
     ]
    }
   ],
   "source": [
    "from pyspark import SparkContext\n",
    "sc = SparkContext.getOrCreate()\n",
    "print(sc)\n",
    "print(\"Ready to go!\")"
   ]
  },
  {
   "cell_type": "markdown",
   "metadata": {},
   "source": [
    "### Learning activity: Create RDDs"
   ]
  },
  {
   "cell_type": "markdown",
   "metadata": {},
   "source": [
    "To analyse large datasets using Spark you will load them into Resilient Distributed Datasets (RDDs). There are a number of ways in which you can create RDDs. Use the `parallelize()` function to create one from a Python collection of elements [\"Hello\", \"World\", \"!\"] "
   ]
  },
  {
   "cell_type": "code",
   "execution_count": 2,
   "metadata": {},
   "outputs": [
    {
     "data": {
      "text/plain": [
       "ParallelCollectionRDD[0] at parallelize at PythonRDD.scala:194"
      ]
     },
     "execution_count": 2,
     "metadata": {},
     "output_type": "execute_result"
    }
   ],
   "source": [
    "l = [\"Hello\", \"World\", \"!\"]\n",
    "sc.parallelize(l)"
   ]
  },
  {
   "cell_type": "markdown",
   "metadata": {},
   "source": [
    "Use the `textFile()` function to create an RDD from the file `war-and-peace.txt` and store it in a variable called `lines`. "
   ]
  },
  {
   "cell_type": "code",
   "execution_count": 3,
   "metadata": {},
   "outputs": [],
   "source": [
    "lines = sc.textFile(\"war-and-peace.txt\")"
   ]
  },
  {
   "cell_type": "markdown",
   "metadata": {},
   "source": [
    "### Learning activity: Basic RDD manipulation"
   ]
  },
  {
   "cell_type": "markdown",
   "metadata": {},
   "source": [
    "Print the number of lines in War and Peace using the functions `count()`."
   ]
  },
  {
   "cell_type": "code",
   "execution_count": 4,
   "metadata": {},
   "outputs": [
    {
     "data": {
      "text/plain": [
       "54223"
      ]
     },
     "execution_count": 4,
     "metadata": {},
     "output_type": "execute_result"
    }
   ],
   "source": [
    "lines.count()"
   ]
  },
  {
   "cell_type": "markdown",
   "metadata": {},
   "source": [
    "Print the first 15 lines using the functions `take()`."
   ]
  },
  {
   "cell_type": "code",
   "execution_count": 5,
   "metadata": {
    "scrolled": true
   },
   "outputs": [
    {
     "data": {
      "text/plain": [
       "['                                      1869',\n",
       " '                                 WAR AND PEACE',\n",
       " '                                 by Leo Tolstoy',\n",
       " 'BK1',\n",
       " '                                 BOOK ONE: 1805',\n",
       " 'BK1|CH1',\n",
       " '  CHAPTER I',\n",
       " '',\n",
       " '  \"Well, Prince, so Genoa and Lucca are now just family estates of the',\n",
       " \"Buonapartes. But I warn you, if you don't tell me that this means war,\",\n",
       " 'if you still try to defend the infamies and horrors perpetrated by',\n",
       " 'that Antichrist- I really believe he is Antichrist- I will have',\n",
       " 'nothing more to do with you and you are no longer my friend, no longer',\n",
       " \"my 'faithful slave,' as you call yourself! But how do you do? I see\",\n",
       " 'I have frightened you- sit down and tell me all the news.\"']"
      ]
     },
     "execution_count": 5,
     "metadata": {},
     "output_type": "execute_result"
    }
   ],
   "source": [
    "lines.take(15)"
   ]
  },
  {
   "cell_type": "markdown",
   "metadata": {},
   "source": [
    "### Learning activity: `filter()` and `map()` and `distinct()`"
   ]
  },
  {
   "cell_type": "markdown",
   "metadata": {},
   "source": [
    "Lets apply some transformations onto RDDs. The following helper function will be useful to select the words from a line."
   ]
  },
  {
   "cell_type": "code",
   "execution_count": 6,
   "metadata": {
    "scrolled": true
   },
   "outputs": [
    {
     "name": "stdout",
     "output_type": "stream",
     "text": [
      "['This', 'is', 'a', 'test']\n"
     ]
    }
   ],
   "source": [
    "# A helper function to compute the list of words in a line of text\n",
    "import re\n",
    "def get_words(line):\n",
    "    return re.compile('\\w+').findall(line)\n",
    "\n",
    "print(get_words(\"This, is a test!\"))"
   ]
  },
  {
   "cell_type": "markdown",
   "metadata": {},
   "source": [
    "Use `filter()` to count the number of lines which mention `war` and the number of lines which mention `peace`."
   ]
  },
  {
   "cell_type": "code",
   "execution_count": 7,
   "metadata": {},
   "outputs": [
    {
     "name": "stdout",
     "output_type": "stream",
     "text": [
      "war lines: 265 and peace lines: 104\n"
     ]
    }
   ],
   "source": [
    "# How often are war and peace mentioned?\n",
    "war_lines = lines.filter(lambda l:\"war\" in get_words(l))\n",
    "peace_lines = lines.filter(lambda l: \"peace\" in get_words(l))\n",
    "\n",
    "print(\"war lines: {} and peace lines: {}\" .format(war_lines.count(), peace_lines.count()))"
   ]
  },
  {
   "cell_type": "markdown",
   "metadata": {},
   "source": [
    "Use `map()` to capitalise each line in the RDD, and print the first 15 capitalized lines."
   ]
  },
  {
   "cell_type": "code",
   "execution_count": 8,
   "metadata": {},
   "outputs": [
    {
     "data": {
      "text/plain": [
       "['                                      1869',\n",
       " '                                 WAR AND PEACE',\n",
       " '                                 BY LEO TOLSTOY',\n",
       " 'BK1',\n",
       " '                                 BOOK ONE: 1805',\n",
       " 'BK1|CH1',\n",
       " '  CHAPTER I',\n",
       " '',\n",
       " '  \"WELL, PRINCE, SO GENOA AND LUCCA ARE NOW JUST FAMILY ESTATES OF THE',\n",
       " \"BUONAPARTES. BUT I WARN YOU, IF YOU DON'T TELL ME THAT THIS MEANS WAR,\",\n",
       " 'IF YOU STILL TRY TO DEFEND THE INFAMIES AND HORRORS PERPETRATED BY',\n",
       " 'THAT ANTICHRIST- I REALLY BELIEVE HE IS ANTICHRIST- I WILL HAVE',\n",
       " 'NOTHING MORE TO DO WITH YOU AND YOU ARE NO LONGER MY FRIEND, NO LONGER',\n",
       " \"MY 'FAITHFUL SLAVE,' AS YOU CALL YOURSELF! BUT HOW DO YOU DO? I SEE\",\n",
       " 'I HAVE FRIGHTENED YOU- SIT DOWN AND TELL ME ALL THE NEWS.\"']"
      ]
     },
     "execution_count": 8,
     "metadata": {},
     "output_type": "execute_result"
    }
   ],
   "source": [
    "# Capitalize each line in the RDD\n",
    "cap_lines =lines.map(lambda l: l.upper())\n",
    "cap_lines.take(15)"
   ]
  },
  {
   "cell_type": "markdown",
   "metadata": {},
   "source": [
    "Use `flatMap()` to create an RDD of the words in War and Peace and count the number of words."
   ]
  },
  {
   "cell_type": "code",
   "execution_count": 9,
   "metadata": {},
   "outputs": [
    {
     "data": {
      "text/plain": [
       "['1869', 'WAR', 'AND', 'PEACE', 'by']"
      ]
     },
     "execution_count": 9,
     "metadata": {},
     "output_type": "execute_result"
    }
   ],
   "source": [
    "# Split each line into words using get_words()\n",
    "words = lines.flatMap(lambda l: get_words(l))\n",
    "words.take(5)"
   ]
  },
  {
   "cell_type": "markdown",
   "metadata": {},
   "source": [
    "Finally, use `distinct()` to count the number of different words in the RDD."
   ]
  },
  {
   "cell_type": "code",
   "execution_count": 10,
   "metadata": {},
   "outputs": [
    {
     "data": {
      "text/plain": [
       "19206"
      ]
     },
     "execution_count": 10,
     "metadata": {},
     "output_type": "execute_result"
    }
   ],
   "source": [
    "# Count the number of distinct words\n",
    "distinct_words = words.distinct()\n",
    "distinct_words.count()"
   ]
  },
  {
   "cell_type": "markdown",
   "metadata": {},
   "source": [
    "### Learning activity: Set like transformations"
   ]
  },
  {
   "cell_type": "markdown",
   "metadata": {},
   "source": [
    "Use the functions `union()` and `intersection()` to create RDDs of lines with either war or peace mentioned, and both war and peace being mentioned. Count how many lines of each type there are and print some examples."
   ]
  },
  {
   "cell_type": "code",
   "execution_count": 11,
   "metadata": {
    "scrolled": true
   },
   "outputs": [
    {
     "name": "stdout",
     "output_type": "stream",
     "text": [
      "Union Lines: 369 and Intersection 7\n"
     ]
    }
   ],
   "source": [
    "union_lines = war_lines.union(peace_lines)\n",
    "intersection_lines = war_lines.intersection(peace_lines)\n",
    "\n",
    "print(\"Union Lines: {} and Intersection {}\".format(union_lines.count(), intersection_lines.count()))"
   ]
  },
  {
   "cell_type": "markdown",
   "metadata": {},
   "source": [
    "### Learning activity: `reduce()`"
   ]
  },
  {
   "cell_type": "markdown",
   "metadata": {},
   "source": [
    "You have already seen three actions: `collect()` which returns all elements in the RDD, `take(n)`, which return the first `n` elements of the RDD, and `count()` which returns the number of elements in the RDD.\n",
    "\n",
    "The action `reduce()` takes as input a function which collapses two elements into one. Use it to find the longest word in War and Peace."
   ]
  },
  {
   "cell_type": "code",
   "execution_count": 12,
   "metadata": {},
   "outputs": [
    {
     "name": "stdout",
     "output_type": "stream",
     "text": [
      "characteristically\n"
     ]
    }
   ],
   "source": [
    "longest_word = words.reduce(lambda a,b: a if len(a) >= len(b) else b)\n",
    "print(longest_word)\n"
   ]
  },
  {
   "cell_type": "markdown",
   "metadata": {},
   "source": [
    "### Bonus activity: merging filters"
   ]
  },
  {
   "cell_type": "markdown",
   "metadata": {},
   "source": [
    "Find all the lines that mention both war and peace **without** using `intersection()`."
   ]
  },
  {
   "cell_type": "code",
   "execution_count": 15,
   "metadata": {},
   "outputs": [
    {
     "data": {
      "text/plain": [
       "7"
      ]
     },
     "execution_count": 15,
     "metadata": {},
     "output_type": "execute_result"
    }
   ],
   "source": [
    "inter_lines = (lines.filter(lambda l: \"war\" in get_words(l) and \"peace\" in get_words(l)\n",
    "                           )\n",
    "              )\n",
    "inter_lines.count()\n",
    "#print(inter_lines)"
   ]
  },
  {
   "cell_type": "markdown",
   "metadata": {},
   "source": [
    "### Bonus learning activity: Finding proper nouns"
   ]
  },
  {
   "cell_type": "markdown",
   "metadata": {},
   "source": [
    "The Python function `str.istitle()` returns `True` if the string `str` is titlecased: the first character is uppercase and others are lowercase. Use it to:\n",
    "* Find the set of distinct words in War and Peace which are titlecased\n",
    "* Find the set of distinct words in War and Peace which are not titlecased"
   ]
  },
  {
   "cell_type": "code",
   "execution_count": 61,
   "metadata": {},
   "outputs": [
    {
     "name": "stdout",
     "output_type": "stream",
     "text": [
      "19206\n",
      "Number of distinct title cased words:  3068\n",
      "Number of distinct not title cased words:  16137\n"
     ]
    }
   ],
   "source": [
    "distinct_words = words.distinct()\n",
    "\n",
    "print(distinct_words.count())\n",
    "\n",
    "r = distinct_words.collect()\n",
    "r = list(r)\n",
    "\n",
    "titlecased = []\n",
    "nottitlecased = []\n",
    "for i in range(1,distinct_words.count()):\n",
    "    if r[i].istitle() == True:\n",
    "        titlecased.append(1)\n",
    "    else:\n",
    "        nottitlecased.append(0)\n",
    "        \n",
    "print(\"Number of distinct title cased words: \", len(titlecased))\n",
    "print(\"Number of distinct not title cased words: \", len(nottitlecased))"
   ]
  },
  {
   "cell_type": "markdown",
   "metadata": {},
   "source": [
    "The Python function `str.lower` returns a string with all characters of `str` lowercase. Use it, along with your previously generated RDD to find the set of words in War and Peace which only appear titlecased."
   ]
  },
  {
   "cell_type": "code",
   "execution_count": 92,
   "metadata": {},
   "outputs": [
    {
     "name": "stdout",
     "output_type": "stream",
     "text": [
      "19206\n",
      "Number of distinct lowercase words:  15940\n",
      "Number of distinct not lowercase words:  3265\n"
     ]
    }
   ],
   "source": [
    "distinct_words = words.distinct()\n",
    "\n",
    "print(distinct_words.count())\n",
    "\n",
    "r = distinct_words.collect()\n",
    "r = list(r)\n",
    "\n",
    "titlecased = []\n",
    "nottitlecased = []\n",
    "for i in range(1,distinct_words.count()):\n",
    "    if r[i].islower() == True:\n",
    "        titlecased.append(1)\n",
    "    else:\n",
    "        nottitlecased.append(0)\n",
    "        \n",
    "print(\"Number of distinct lowercase words: \", len(titlecased))\n",
    "print(\"Number of distinct not lowercase words: \", len(nottitlecased))"
   ]
  },
  {
   "cell_type": "code",
   "execution_count": 93,
   "metadata": {},
   "outputs": [
    {
     "name": "stdout",
     "output_type": "stream",
     "text": [
      "That means some of the words contains uppercases characters but are not titlecased\n"
     ]
    }
   ],
   "source": [
    "print(\"That means some of the words contains uppercases characters but are not titlecased\")"
   ]
  },
  {
   "cell_type": "markdown",
   "metadata": {},
   "source": [
    "# Key/Value pairs in Spark"
   ]
  },
  {
   "cell_type": "markdown",
   "metadata": {},
   "source": [
    "### Learning activity: WordCount in Spark"
   ]
  },
  {
   "cell_type": "markdown",
   "metadata": {},
   "source": [
    "Use the functions `flatMap()` and `reduceByKey()` to count the number of occurences of each word in War and Peace, and print the count of five words."
   ]
  },
  {
   "cell_type": "code",
   "execution_count": 16,
   "metadata": {},
   "outputs": [
    {
     "data": {
      "text/plain": [
       "[('PEACE', 1),\n",
       " ('Leo', 1),\n",
       " ('BOOK', 15),\n",
       " ('ONE', 2),\n",
       " ('1805', 24),\n",
       " ('Prince', 1578),\n",
       " ('Genoa', 3),\n",
       " ('Lucca', 2),\n",
       " ('are', 1222),\n",
       " ('now', 1158)]"
      ]
     },
     "execution_count": 16,
     "metadata": {},
     "output_type": "execute_result"
    }
   ],
   "source": [
    "#words = data.flatMap(lambda: get_words(line))\n",
    "word_pairs = words.map(lambda word: (word,1))\n",
    "word_counts = word_pairs.reduceByKey(lambda c1, c2: c1+c2)\n",
    "word_counts.take(10)"
   ]
  },
  {
   "cell_type": "markdown",
   "metadata": {},
   "source": [
    "### Learning activity: using `groupByKey()`"
   ]
  },
  {
   "cell_type": "markdown",
   "metadata": {},
   "source": [
    "Reimplement the above word count using `groupByKey()` instead of `reduceByKey()`"
   ]
  },
  {
   "cell_type": "code",
   "execution_count": 17,
   "metadata": {},
   "outputs": [
    {
     "data": {
      "text/plain": [
       "[('PEACE', 1), ('Leo', 1), ('BOOK', 15), ('ONE', 2), ('1805', 24)]"
      ]
     },
     "execution_count": 17,
     "metadata": {},
     "output_type": "execute_result"
    }
   ],
   "source": [
    "word_pairs = words.map(lambda word: (word,1))\n",
    "#test = word_pairs.groupByKey()\n",
    "#test.take(5)\n",
    "\n",
    "test = word_pairs.groupByKey().map(lambda pair: (pair[0], sum(pair[1])) )\n",
    "test.take(5)"
   ]
  },
  {
   "cell_type": "markdown",
   "metadata": {},
   "source": [
    "### Bonus learning activity: computing the average of each key"
   ]
  },
  {
   "cell_type": "markdown",
   "metadata": {},
   "source": [
    "The pair RDD defined below `word_line_pairs` has an element for each line in War and Peace with as key the first word, and as value the line itself. Use it to compute the average length of each line for each starting word."
   ]
  },
  {
   "cell_type": "code",
   "execution_count": 18,
   "metadata": {},
   "outputs": [],
   "source": [
    "word_line_pairs = lines.filter(lambda line: len(get_words(line)) > 0).map(lambda line: (get_words(line)[0], line))     "
   ]
  },
  {
   "cell_type": "code",
   "execution_count": 73,
   "metadata": {},
   "outputs": [],
   "source": [
    "lenght = word_line_pairs"
   ]
  }
 ],
 "metadata": {
  "kernelspec": {
   "display_name": "Python 3",
   "language": "python",
   "name": "python3"
  },
  "language_info": {
   "codemirror_mode": {
    "name": "ipython",
    "version": 3
   },
   "file_extension": ".py",
   "mimetype": "text/x-python",
   "name": "python",
   "nbconvert_exporter": "python",
   "pygments_lexer": "ipython3",
   "version": "3.7.0"
  }
 },
 "nbformat": 4,
 "nbformat_minor": 2
}
