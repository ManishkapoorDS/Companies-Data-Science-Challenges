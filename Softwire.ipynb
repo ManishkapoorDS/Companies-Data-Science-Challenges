{
 "cells": [
  {
   "cell_type": "markdown",
   "metadata": {
    "toc": true
   },
   "source": [
    "<h1>Table of Contents<span class=\"tocSkip\"></span></h1>\n",
    "<div class=\"toc\"><ul class=\"toc-item\"><li><span><a href=\"#Question-1\" data-toc-modified-id=\"Question-1-1\"><span class=\"toc-item-num\">1&nbsp;&nbsp;</span>Question 1</a></span></li><li><span><a href=\"#Question-2\" data-toc-modified-id=\"Question-2-2\"><span class=\"toc-item-num\">2&nbsp;&nbsp;</span>Question 2</a></span></li><li><span><a href=\"#Question-3\" data-toc-modified-id=\"Question-3-3\"><span class=\"toc-item-num\">3&nbsp;&nbsp;</span>Question 3</a></span></li></ul></div>"
   ]
  },
  {
   "cell_type": "markdown",
   "metadata": {},
   "source": [
    "# Softwire"
   ]
  },
  {
   "cell_type": "markdown",
   "metadata": {},
   "source": [
    "## Question 1"
   ]
  },
  {
   "cell_type": "code",
   "execution_count": 33,
   "metadata": {},
   "outputs": [],
   "source": [
    "def duplicates_num(input2):\n",
    "    print([i for i in set(input2) if input2.count(i) > 1])\n",
    "    return len([i for i in set(input2) if input2.count(i) > 1])"
   ]
  },
  {
   "cell_type": "code",
   "execution_count": 34,
   "metadata": {},
   "outputs": [
    {
     "name": "stdout",
     "output_type": "stream",
     "text": [
      "['s', '!']\n"
     ]
    },
    {
     "data": {
      "text/plain": [
       "2"
      ]
     },
     "execution_count": 34,
     "metadata": {},
     "output_type": "execute_result"
    }
   ],
   "source": [
    "input2 = \"Aasdefsgh!!!\"\n",
    "duplicates_num(input2)"
   ]
  },
  {
   "cell_type": "markdown",
   "metadata": {},
   "source": [
    "## Question 2"
   ]
  },
  {
   "cell_type": "code",
   "execution_count": 30,
   "metadata": {},
   "outputs": [],
   "source": [
    "def second_highest_digit(input3):\n",
    "    cleaned = ''.join(c for c in input3 if c.isdigit())\n",
    "    if (len(list(cleaned)) == 0 or len(list(cleaned)) == 1):\n",
    "        return -1\n",
    "\n",
    "    max_n = max(set(cleaned))\n",
    "    count = 0\n",
    "    for i in list(cleaned):\n",
    "        if i == max_n:\n",
    "            count +=1\n",
    "\n",
    "    if count >= 2:\n",
    "        return int(max_n)\n",
    "\n",
    "    return int(sorted(list(cleaned))[-2])"
   ]
  },
  {
   "cell_type": "code",
   "execution_count": 31,
   "metadata": {},
   "outputs": [
    {
     "data": {
      "text/plain": [
       "5"
      ]
     },
     "execution_count": 31,
     "metadata": {},
     "output_type": "execute_result"
    }
   ],
   "source": [
    "input3 = 'sdfsdfsdfg32545536ads'\n",
    "second_highest_digit(input3)"
   ]
  },
  {
   "cell_type": "markdown",
   "metadata": {},
   "source": [
    "## Question 3"
   ]
  },
  {
   "cell_type": "code",
   "execution_count": 24,
   "metadata": {},
   "outputs": [],
   "source": [
    "def FLR(input4):\n",
    "    rotate, x, y, result = 0, 0, 0, 0\n",
    "\n",
    "    for i in input4:\n",
    "        if i == 'R':\n",
    "            rotate += 90\n",
    "        elif i == 'L':\n",
    "            rotate -= 90\n",
    "        elif i == 'F':\n",
    "            rotate = (rotate % 360 + 360) % 360\n",
    "            if rotate == 0:\n",
    "                y +=1\n",
    "                direction = 'u'\n",
    "            elif rotate == 90:\n",
    "                x+=1\n",
    "                direction = 'r'\n",
    "            elif rotate == 180:\n",
    "                y-=1\n",
    "                direction = 'd'\n",
    "            elif rotate == 270:\n",
    "                x-=1\n",
    "                direction = 'l'\n",
    "\n",
    "\n",
    "    if(x != 0 and y != 0):\n",
    "        if direction == 'l' or direction == 'd':\n",
    "            result = abs(x) + abs(y) + 1\n",
    "        elif direction != 'l' and direction != 'd':\n",
    "            result = abs(x) + abs(y) + 2\n",
    "\n",
    "    elif x != 0 and y == 0:\n",
    "        if direction == 'l':\n",
    "            result = abs(x)\n",
    "        elif direction == 'r':\n",
    "            result = abs(x) + 2\n",
    "        elif direction == 'u':\n",
    "            result = abs(x) + 1\n",
    "        elif direction == 'd':\n",
    "            result = abs(x) + 1\n",
    "\n",
    "    elif x == 0 and y != 0:\n",
    "        if direction == 'l':\n",
    "            result = abs(y) +1\n",
    "        elif direction == 'r':\n",
    "            result = abs(y) + 1\n",
    "        elif direction == 'u':\n",
    "            result = abs(y) + 2\n",
    "        elif direction == 'd':\n",
    "            result = abs(y)\n",
    "        \n",
    "    return result"
   ]
  },
  {
   "cell_type": "code",
   "execution_count": 29,
   "metadata": {},
   "outputs": [
    {
     "data": {
      "text/plain": [
       "3"
      ]
     },
     "execution_count": 29,
     "metadata": {},
     "output_type": "execute_result"
    }
   ],
   "source": [
    "input4 = 'FLR'\n",
    "FLR(input4)"
   ]
  },
  {
   "cell_type": "code",
   "execution_count": 25,
   "metadata": {},
   "outputs": [
    {
     "data": {
      "text/plain": [
       "0"
      ]
     },
     "execution_count": 25,
     "metadata": {},
     "output_type": "execute_result"
    }
   ],
   "source": [
    "input4 = 'FxLxLxFx'\n",
    "FLR(input4)"
   ]
  }
 ],
 "metadata": {
  "kernelspec": {
   "display_name": "Python 3",
   "language": "python",
   "name": "python3"
  },
  "language_info": {
   "codemirror_mode": {
    "name": "ipython",
    "version": 3
   },
   "file_extension": ".py",
   "mimetype": "text/x-python",
   "name": "python",
   "nbconvert_exporter": "python",
   "pygments_lexer": "ipython3",
   "version": "3.7.3"
  },
  "toc": {
   "base_numbering": 1,
   "nav_menu": {},
   "number_sections": true,
   "sideBar": true,
   "skip_h1_title": true,
   "title_cell": "Table of Contents",
   "title_sidebar": "Contents",
   "toc_cell": true,
   "toc_position": {},
   "toc_section_display": true,
   "toc_window_display": false
  },
  "varInspector": {
   "cols": {
    "lenName": 16,
    "lenType": 16,
    "lenVar": 40
   },
   "kernels_config": {
    "python": {
     "delete_cmd_postfix": "",
     "delete_cmd_prefix": "del ",
     "library": "var_list.py",
     "varRefreshCmd": "print(var_dic_list())"
    },
    "r": {
     "delete_cmd_postfix": ") ",
     "delete_cmd_prefix": "rm(",
     "library": "var_list.r",
     "varRefreshCmd": "cat(var_dic_list()) "
    }
   },
   "types_to_exclude": [
    "module",
    "function",
    "builtin_function_or_method",
    "instance",
    "_Feature"
   ],
   "window_display": false
  }
 },
 "nbformat": 4,
 "nbformat_minor": 2
}
