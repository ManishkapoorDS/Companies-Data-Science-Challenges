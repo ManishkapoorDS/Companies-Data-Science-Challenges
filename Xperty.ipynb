{
 "cells": [
  {
   "cell_type": "markdown",
   "metadata": {},
   "source": [
    "# Stock Prices predictions"
   ]
  },
  {
   "cell_type": "markdown",
   "metadata": {},
   "source": [
    "# DER_EU_ENXT_ALL_SUM_20190520.csv"
   ]
  },
  {
   "cell_type": "markdown",
   "metadata": {},
   "source": [
    "## Preprocessing"
   ]
  },
  {
   "cell_type": "code",
   "execution_count": 1,
   "metadata": {},
   "outputs": [],
   "source": [
    "import numpy as np # linear algebra\n",
    "import pandas as pd # data processing, CSV file I/O (e.g. pd.read_csv)\n",
    "import os\n",
    "from subprocess import check_output\n",
    "import seaborn as sns\n",
    "import matplotlib.pyplot as plt\n",
    "import warnings\n",
    "from pandas.plotting import lag_plot\n",
    "from pandas import datetime\n",
    "from statsmodels.tsa.arima_model import ARIMA\n",
    "from sklearn.metrics import mean_squared_error\n",
    "import seaborn as sns\n",
    "from sklearn.preprocessing import LabelEncoder\n",
    "from sklearn.model_selection import train_test_split\n",
    "from sklearn.metrics import classification_report,confusion_matrix\n",
    "from itertools import product\n",
    "from sklearn.preprocessing import StandardScaler"
   ]
  },
  {
   "cell_type": "code",
   "execution_count": 2,
   "metadata": {},
   "outputs": [],
   "source": [
    "# %matplotlib inline\n",
    "# import mpld3\n",
    "# mpld3.enable_notebook()"
   ]
  },
  {
   "cell_type": "code",
   "execution_count": 3,
   "metadata": {},
   "outputs": [
    {
     "name": "stdout",
     "output_type": "stream",
     "text": [
      "['minidata', 'level2stockanalysis']\n"
     ]
    }
   ],
   "source": [
    "import os\n",
    "print(os.listdir(\"../input\"))"
   ]
  },
  {
   "cell_type": "code",
   "execution_count": 4,
   "metadata": {},
   "outputs": [
    {
     "data": {
      "text/html": [
       "<div>\n",
       "<style scoped>\n",
       "    .dataframe tbody tr th:only-of-type {\n",
       "        vertical-align: middle;\n",
       "    }\n",
       "\n",
       "    .dataframe tbody tr th {\n",
       "        vertical-align: top;\n",
       "    }\n",
       "\n",
       "    .dataframe thead th {\n",
       "        text-align: right;\n",
       "    }\n",
       "</style>\n",
       "<table border=\"1\" class=\"dataframe\">\n",
       "  <thead>\n",
       "    <tr style=\"text-align: right;\">\n",
       "      <th></th>\n",
       "      <th>H;DER_EU_ENXT_ALL_SUM.csv;2019-05-21 04:35:30</th>\n",
       "    </tr>\n",
       "  </thead>\n",
       "  <tbody>\n",
       "    <tr>\n",
       "      <th>0</th>\n",
       "      <td>D;MarketPlace;AssetClass;AssetGroup;ExchangeCo...</td>\n",
       "    </tr>\n",
       "    <tr>\n",
       "      <th>1</th>\n",
       "      <td>E;AMS;DRV;EQU;A;F;AA6;AFAA6190600000F;20190621...</td>\n",
       "    </tr>\n",
       "    <tr>\n",
       "      <th>2</th>\n",
       "      <td>E;AMS;DRV;EQU;A;F;AA6;AFAA6190700000F;20190719...</td>\n",
       "    </tr>\n",
       "    <tr>\n",
       "      <th>3</th>\n",
       "      <td>E;AMS;DRV;EQU;A;F;AA6;AFAA6190800000F;20190816...</td>\n",
       "    </tr>\n",
       "    <tr>\n",
       "      <th>4</th>\n",
       "      <td>E;AMS;DRV;EQU;A;F;AA6;AFAA6190900000F;20190920...</td>\n",
       "    </tr>\n",
       "  </tbody>\n",
       "</table>\n",
       "</div>"
      ],
      "text/plain": [
       "       H;DER_EU_ENXT_ALL_SUM.csv;2019-05-21 04:35:30\n",
       "0  D;MarketPlace;AssetClass;AssetGroup;ExchangeCo...\n",
       "1  E;AMS;DRV;EQU;A;F;AA6;AFAA6190600000F;20190621...\n",
       "2  E;AMS;DRV;EQU;A;F;AA6;AFAA6190700000F;20190719...\n",
       "3  E;AMS;DRV;EQU;A;F;AA6;AFAA6190800000F;20190816...\n",
       "4  E;AMS;DRV;EQU;A;F;AA6;AFAA6190900000F;20190920..."
      ]
     },
     "execution_count": 4,
     "metadata": {},
     "output_type": "execute_result"
    }
   ],
   "source": [
    "df = pd.read_csv(\"../input/level2stockanalysis/DER_EU_ENXT_ALL_SUM_20190520.csv\")\n",
    "df.head()"
   ]
  },
  {
   "cell_type": "code",
   "execution_count": 5,
   "metadata": {},
   "outputs": [
    {
     "data": {
      "text/html": [
       "<div>\n",
       "<style scoped>\n",
       "    .dataframe tbody tr th:only-of-type {\n",
       "        vertical-align: middle;\n",
       "    }\n",
       "\n",
       "    .dataframe tbody tr th {\n",
       "        vertical-align: top;\n",
       "    }\n",
       "\n",
       "    .dataframe thead th {\n",
       "        text-align: right;\n",
       "    }\n",
       "</style>\n",
       "<table border=\"1\" class=\"dataframe\">\n",
       "  <thead>\n",
       "    <tr style=\"text-align: right;\">\n",
       "      <th></th>\n",
       "      <th>D</th>\n",
       "      <th>MarketPlace</th>\n",
       "      <th>AssetClass</th>\n",
       "      <th>AssetGroup</th>\n",
       "      <th>ExchangeCode</th>\n",
       "      <th>InstrumentType</th>\n",
       "      <th>InstrumentTrading Symbol</th>\n",
       "      <th>InstrumentID</th>\n",
       "      <th>ExpiryDate</th>\n",
       "      <th>ExercisePrice</th>\n",
       "      <th>ActualExercisePrice</th>\n",
       "      <th>OptionCategory</th>\n",
       "      <th>Open</th>\n",
       "      <th>High</th>\n",
       "      <th>Low</th>\n",
       "      <th>TradeCount</th>\n",
       "      <th>Close</th>\n",
       "      <th>Settlement</th>\n",
       "      <th>COBVolume</th>\n",
       "      <th>OffCOBVolume</th>\n",
       "      <th>TotalVolume</th>\n",
       "      <th>OpenInterest</th>\n",
       "      <th>OpenInterestDate</th>\n",
       "      <th>EndofDayDelta</th>\n",
       "      <th>Volatility</th>\n",
       "      <th>VolatilityForValuation</th>\n",
       "    </tr>\n",
       "  </thead>\n",
       "  <tbody>\n",
       "    <tr>\n",
       "      <th>1</th>\n",
       "      <td>E</td>\n",
       "      <td>AMS</td>\n",
       "      <td>DRV</td>\n",
       "      <td>EQU</td>\n",
       "      <td>A</td>\n",
       "      <td>F</td>\n",
       "      <td>AA6</td>\n",
       "      <td>AFAA6190600000F</td>\n",
       "      <td>20190621</td>\n",
       "      <td>0</td>\n",
       "      <td>0</td>\n",
       "      <td>F</td>\n",
       "      <td>0</td>\n",
       "      <td>0</td>\n",
       "      <td>0</td>\n",
       "      <td>0</td>\n",
       "      <td>0</td>\n",
       "      <td>30.7306</td>\n",
       "      <td>0</td>\n",
       "      <td>0</td>\n",
       "      <td>0</td>\n",
       "      <td>0</td>\n",
       "      <td>20190520</td>\n",
       "      <td>0</td>\n",
       "      <td>0</td>\n",
       "      <td>0.000000</td>\n",
       "    </tr>\n",
       "    <tr>\n",
       "      <th>2</th>\n",
       "      <td>E</td>\n",
       "      <td>AMS</td>\n",
       "      <td>DRV</td>\n",
       "      <td>EQU</td>\n",
       "      <td>A</td>\n",
       "      <td>F</td>\n",
       "      <td>AA6</td>\n",
       "      <td>AFAA6190700000F</td>\n",
       "      <td>20190719</td>\n",
       "      <td>0</td>\n",
       "      <td>0</td>\n",
       "      <td>F</td>\n",
       "      <td>0</td>\n",
       "      <td>0</td>\n",
       "      <td>0</td>\n",
       "      <td>0</td>\n",
       "      <td>0</td>\n",
       "      <td>30.7223</td>\n",
       "      <td>0</td>\n",
       "      <td>0</td>\n",
       "      <td>0</td>\n",
       "      <td>0</td>\n",
       "      <td>20190520</td>\n",
       "      <td>0</td>\n",
       "      <td>0</td>\n",
       "      <td>0.000000</td>\n",
       "    </tr>\n",
       "    <tr>\n",
       "      <th>3</th>\n",
       "      <td>E</td>\n",
       "      <td>AMS</td>\n",
       "      <td>DRV</td>\n",
       "      <td>EQU</td>\n",
       "      <td>A</td>\n",
       "      <td>F</td>\n",
       "      <td>AA6</td>\n",
       "      <td>AFAA6190800000F</td>\n",
       "      <td>20190816</td>\n",
       "      <td>0</td>\n",
       "      <td>0</td>\n",
       "      <td>F</td>\n",
       "      <td>0</td>\n",
       "      <td>0</td>\n",
       "      <td>0</td>\n",
       "      <td>0</td>\n",
       "      <td>0</td>\n",
       "      <td>30.7141</td>\n",
       "      <td>0</td>\n",
       "      <td>0</td>\n",
       "      <td>0</td>\n",
       "      <td>0</td>\n",
       "      <td>20190520</td>\n",
       "      <td>0</td>\n",
       "      <td>0</td>\n",
       "      <td>0.000000</td>\n",
       "    </tr>\n",
       "    <tr>\n",
       "      <th>4</th>\n",
       "      <td>E</td>\n",
       "      <td>AMS</td>\n",
       "      <td>DRV</td>\n",
       "      <td>EQU</td>\n",
       "      <td>A</td>\n",
       "      <td>F</td>\n",
       "      <td>AA6</td>\n",
       "      <td>AFAA6190900000F</td>\n",
       "      <td>20190920</td>\n",
       "      <td>0</td>\n",
       "      <td>0</td>\n",
       "      <td>F</td>\n",
       "      <td>0</td>\n",
       "      <td>0</td>\n",
       "      <td>0</td>\n",
       "      <td>0</td>\n",
       "      <td>0</td>\n",
       "      <td>30.7038</td>\n",
       "      <td>0</td>\n",
       "      <td>0</td>\n",
       "      <td>0</td>\n",
       "      <td>0</td>\n",
       "      <td>20190520</td>\n",
       "      <td>0</td>\n",
       "      <td>0</td>\n",
       "      <td>0.000000</td>\n",
       "    </tr>\n",
       "    <tr>\n",
       "      <th>5</th>\n",
       "      <td>E</td>\n",
       "      <td>AMS</td>\n",
       "      <td>DRV</td>\n",
       "      <td>EQU</td>\n",
       "      <td>A</td>\n",
       "      <td>F</td>\n",
       "      <td>AA6</td>\n",
       "      <td>AFAA6191200000F</td>\n",
       "      <td>20191220</td>\n",
       "      <td>0</td>\n",
       "      <td>0</td>\n",
       "      <td>F</td>\n",
       "      <td>0</td>\n",
       "      <td>0</td>\n",
       "      <td>0</td>\n",
       "      <td>0</td>\n",
       "      <td>0</td>\n",
       "      <td>30.677</td>\n",
       "      <td>0</td>\n",
       "      <td>0</td>\n",
       "      <td>0</td>\n",
       "      <td>0</td>\n",
       "      <td>20190520</td>\n",
       "      <td>0</td>\n",
       "      <td>0</td>\n",
       "      <td>0.000000</td>\n",
       "    </tr>\n",
       "  </tbody>\n",
       "</table>\n",
       "</div>"
      ],
      "text/plain": [
       "0  D MarketPlace          ...           Volatility VolatilityForValuation\n",
       "1  E         AMS          ...                    0               0.000000\n",
       "2  E         AMS          ...                    0               0.000000\n",
       "3  E         AMS          ...                    0               0.000000\n",
       "4  E         AMS          ...                    0               0.000000\n",
       "5  E         AMS          ...                    0               0.000000\n",
       "\n",
       "[5 rows x 26 columns]"
      ]
     },
     "execution_count": 5,
     "metadata": {},
     "output_type": "execute_result"
    }
   ],
   "source": [
    "df = df.iloc[:,0].str.split(';', expand=True)\n",
    "\n",
    "new_header = df.iloc[0] #grab the first row for the header\n",
    "df = df[1:] #take the data less the header row\n",
    "df.columns = new_header #set the header row as the df header\n",
    "\n",
    "df.head()"
   ]
  },
  {
   "cell_type": "code",
   "execution_count": 6,
   "metadata": {},
   "outputs": [
    {
     "data": {
      "text/plain": [
       "(100894, 26)"
      ]
     },
     "execution_count": 6,
     "metadata": {},
     "output_type": "execute_result"
    }
   ],
   "source": [
    "df.shape"
   ]
  },
  {
   "cell_type": "code",
   "execution_count": 7,
   "metadata": {},
   "outputs": [
    {
     "name": "stdout",
     "output_type": "stream",
     "text": [
      "Index(['D', 'MarketPlace', 'AssetClass', 'AssetGroup', 'ExchangeCode',\n",
      "       'InstrumentType', 'InstrumentTrading Symbol', 'InstrumentID',\n",
      "       'ExpiryDate', 'ExercisePrice', 'ActualExercisePrice', 'OptionCategory',\n",
      "       'Open', 'High', 'Low', 'TradeCount', 'Close', 'Settlement', 'COBVolume',\n",
      "       'OffCOBVolume', 'TotalVolume', 'OpenInterest', 'OpenInterestDate',\n",
      "       'EndofDayDelta', 'Volatility', 'VolatilityForValuation'],\n",
      "      dtype='object', name=0)\n"
     ]
    }
   ],
   "source": [
    "print(df.columns)"
   ]
  },
  {
   "cell_type": "code",
   "execution_count": 8,
   "metadata": {},
   "outputs": [
    {
     "data": {
      "text/html": [
       "<div>\n",
       "<style scoped>\n",
       "    .dataframe tbody tr th:only-of-type {\n",
       "        vertical-align: middle;\n",
       "    }\n",
       "\n",
       "    .dataframe tbody tr th {\n",
       "        vertical-align: top;\n",
       "    }\n",
       "\n",
       "    .dataframe thead th {\n",
       "        text-align: right;\n",
       "    }\n",
       "</style>\n",
       "<table border=\"1\" class=\"dataframe\">\n",
       "  <thead>\n",
       "    <tr style=\"text-align: right;\">\n",
       "      <th></th>\n",
       "      <th>percent_missing</th>\n",
       "    </tr>\n",
       "    <tr>\n",
       "      <th>0</th>\n",
       "      <th></th>\n",
       "    </tr>\n",
       "  </thead>\n",
       "  <tbody>\n",
       "    <tr>\n",
       "      <th>D</th>\n",
       "      <td>0.000000</td>\n",
       "    </tr>\n",
       "    <tr>\n",
       "      <th>MarketPlace</th>\n",
       "      <td>0.000000</td>\n",
       "    </tr>\n",
       "    <tr>\n",
       "      <th>AssetClass</th>\n",
       "      <td>0.000000</td>\n",
       "    </tr>\n",
       "    <tr>\n",
       "      <th>AssetGroup</th>\n",
       "      <td>0.000991</td>\n",
       "    </tr>\n",
       "    <tr>\n",
       "      <th>ExchangeCode</th>\n",
       "      <td>0.000991</td>\n",
       "    </tr>\n",
       "    <tr>\n",
       "      <th>InstrumentType</th>\n",
       "      <td>0.000991</td>\n",
       "    </tr>\n",
       "    <tr>\n",
       "      <th>InstrumentTrading Symbol</th>\n",
       "      <td>0.000991</td>\n",
       "    </tr>\n",
       "    <tr>\n",
       "      <th>InstrumentID</th>\n",
       "      <td>0.000991</td>\n",
       "    </tr>\n",
       "    <tr>\n",
       "      <th>ExpiryDate</th>\n",
       "      <td>0.000991</td>\n",
       "    </tr>\n",
       "    <tr>\n",
       "      <th>ExercisePrice</th>\n",
       "      <td>0.000991</td>\n",
       "    </tr>\n",
       "    <tr>\n",
       "      <th>ActualExercisePrice</th>\n",
       "      <td>0.000991</td>\n",
       "    </tr>\n",
       "    <tr>\n",
       "      <th>OptionCategory</th>\n",
       "      <td>0.000991</td>\n",
       "    </tr>\n",
       "    <tr>\n",
       "      <th>Open</th>\n",
       "      <td>0.000991</td>\n",
       "    </tr>\n",
       "    <tr>\n",
       "      <th>High</th>\n",
       "      <td>0.000991</td>\n",
       "    </tr>\n",
       "    <tr>\n",
       "      <th>Low</th>\n",
       "      <td>0.000991</td>\n",
       "    </tr>\n",
       "    <tr>\n",
       "      <th>TradeCount</th>\n",
       "      <td>0.000991</td>\n",
       "    </tr>\n",
       "    <tr>\n",
       "      <th>Close</th>\n",
       "      <td>0.000991</td>\n",
       "    </tr>\n",
       "    <tr>\n",
       "      <th>Settlement</th>\n",
       "      <td>0.000991</td>\n",
       "    </tr>\n",
       "    <tr>\n",
       "      <th>COBVolume</th>\n",
       "      <td>0.000991</td>\n",
       "    </tr>\n",
       "    <tr>\n",
       "      <th>OffCOBVolume</th>\n",
       "      <td>0.000991</td>\n",
       "    </tr>\n",
       "    <tr>\n",
       "      <th>TotalVolume</th>\n",
       "      <td>0.000991</td>\n",
       "    </tr>\n",
       "    <tr>\n",
       "      <th>OpenInterest</th>\n",
       "      <td>0.000991</td>\n",
       "    </tr>\n",
       "    <tr>\n",
       "      <th>OpenInterestDate</th>\n",
       "      <td>0.000991</td>\n",
       "    </tr>\n",
       "    <tr>\n",
       "      <th>EndofDayDelta</th>\n",
       "      <td>0.000991</td>\n",
       "    </tr>\n",
       "    <tr>\n",
       "      <th>Volatility</th>\n",
       "      <td>0.000991</td>\n",
       "    </tr>\n",
       "    <tr>\n",
       "      <th>VolatilityForValuation</th>\n",
       "      <td>0.000991</td>\n",
       "    </tr>\n",
       "  </tbody>\n",
       "</table>\n",
       "</div>"
      ],
      "text/plain": [
       "                          percent_missing\n",
       "0                                        \n",
       "D                                0.000000\n",
       "MarketPlace                      0.000000\n",
       "AssetClass                       0.000000\n",
       "AssetGroup                       0.000991\n",
       "ExchangeCode                     0.000991\n",
       "InstrumentType                   0.000991\n",
       "InstrumentTrading Symbol         0.000991\n",
       "InstrumentID                     0.000991\n",
       "ExpiryDate                       0.000991\n",
       "ExercisePrice                    0.000991\n",
       "ActualExercisePrice              0.000991\n",
       "OptionCategory                   0.000991\n",
       "Open                             0.000991\n",
       "High                             0.000991\n",
       "Low                              0.000991\n",
       "TradeCount                       0.000991\n",
       "Close                            0.000991\n",
       "Settlement                       0.000991\n",
       "COBVolume                        0.000991\n",
       "OffCOBVolume                     0.000991\n",
       "TotalVolume                      0.000991\n",
       "OpenInterest                     0.000991\n",
       "OpenInterestDate                 0.000991\n",
       "EndofDayDelta                    0.000991\n",
       "Volatility                       0.000991\n",
       "VolatilityForValuation           0.000991"
      ]
     },
     "execution_count": 8,
     "metadata": {},
     "output_type": "execute_result"
    }
   ],
   "source": [
    "percent_missing = df.isnull().sum() * 100 / len(df)\n",
    "missing_values = pd.DataFrame({'percent_missing': percent_missing})\n",
    "missing_values"
   ]
  },
  {
   "cell_type": "markdown",
   "metadata": {},
   "source": [
    "## Data Visualization"
   ]
  },
  {
   "cell_type": "code",
   "execution_count": 9,
   "metadata": {},
   "outputs": [],
   "source": [
    "df['Settlement'] = pd.to_numeric(df['Settlement'], errors='coerce')"
   ]
  },
  {
   "cell_type": "code",
   "execution_count": 10,
   "metadata": {},
   "outputs": [
    {
     "data": {
      "image/png": "[encoded data removed]",
      "text/plain": [
       "<Figure size 432x288 with 1 Axes>"
      ]
     },
     "metadata": {},
     "output_type": "display_data"
    }
   ],
   "source": [
    "df['Settlement'].plot()\n",
    "plt.title(\"Settlement\")\n",
    "plt.show()"
   ]
  },
  {
   "cell_type": "code",
   "execution_count": 11,
   "metadata": {},
   "outputs": [
    {
     "data": {
      "image/png": "[encoded data removed]",
      "text/plain": [
       "<Figure size 432x288 with 1 Axes>"
      ]
     },
     "metadata": {},
     "output_type": "display_data"
    }
   ],
   "source": [
    "df['VolatilityForValuation'] = pd.to_numeric(df['VolatilityForValuation'], errors='coerce')\n",
    "df['VolatilityForValuation'].plot()\n",
    "plt.title(\"VolatilityForValuation\")\n",
    "plt.show()"
   ]
  },
  {
   "cell_type": "code",
   "execution_count": 12,
   "metadata": {},
   "outputs": [
    {
     "data": {
      "image/png": "[encoded data removed]",
      "text/plain": [
       "<Figure size 432x288 with 1 Axes>"
      ]
     },
     "metadata": {},
     "output_type": "display_data"
    }
   ],
   "source": [
    "df['ExercisePrice'] = pd.to_numeric(df['ExercisePrice'], errors='coerce')\n",
    "#df['ExercisePrice'].value_counts()\n",
    "df['ExercisePrice'].plot()\n",
    "plt.title(\"ExercisePrice\")\n",
    "plt.show()"
   ]
  },
  {
   "cell_type": "code",
   "execution_count": 13,
   "metadata": {},
   "outputs": [
    {
     "data": {
      "image/png": "[encoded data removed]",
      "text/plain": [
       "<Figure size 432x288 with 1 Axes>"
      ]
     },
     "metadata": {},
     "output_type": "display_data"
    }
   ],
   "source": [
    "df['Low'] = pd.to_numeric(df['Low'], errors='coerce')\n",
    "#df['ExercisePrice'].value_counts()\n",
    "df['Low'].plot()\n",
    "plt.title(\"Low\")\n",
    "plt.show()"
   ]
  },
  {
   "cell_type": "code",
   "execution_count": 14,
   "metadata": {},
   "outputs": [
    {
     "data": {
      "image/png": "[encoded data removed]",
      "text/plain": [
       "<Figure size 432x288 with 1 Axes>"
      ]
     },
     "metadata": {},
     "output_type": "display_data"
    }
   ],
   "source": [
    "df['High'] = pd.to_numeric(df['High'], errors='coerce')\n",
    "#df['ExercisePrice'].value_counts()\n",
    "df['High'].plot()\n",
    "plt.title(\"High\")\n",
    "plt.show()"
   ]
  },
  {
   "cell_type": "code",
   "execution_count": 15,
   "metadata": {},
   "outputs": [
    {
     "data": {
      "image/png": "[encoded data removed]",
      "text/plain": [
       "<Figure size 432x288 with 1 Axes>"
      ]
     },
     "metadata": {},
     "output_type": "display_data"
    }
   ],
   "source": [
    "df['Open'] = pd.to_numeric(df['Open'], errors='coerce')\n",
    "#df['ExercisePrice'].value_counts()\n",
    "df['Open'].plot()\n",
    "plt.title(\"Open\")\n",
    "plt.show()"
   ]
  },
  {
   "cell_type": "code",
   "execution_count": 16,
   "metadata": {},
   "outputs": [
    {
     "data": {
      "image/png": "[encoded data removed]",
      "text/plain": [
       "<Figure size 432x288 with 1 Axes>"
      ]
     },
     "metadata": {},
     "output_type": "display_data"
    }
   ],
   "source": [
    "df['Close'] = pd.to_numeric(df['Close'], errors='coerce')\n",
    "#df['ExercisePrice'].value_counts()\n",
    "df['Close'].plot()\n",
    "plt.title(\"Close\")\n",
    "plt.show()"
   ]
  },
  {
   "cell_type": "markdown",
   "metadata": {},
   "source": [
    "## Machine Learning"
   ]
  },
  {
   "cell_type": "code",
   "execution_count": 17,
   "metadata": {},
   "outputs": [],
   "source": [
    "X = df[['ExercisePrice', 'ActualExercisePrice',\n",
    "       'Open', 'High', 'Low', 'TradeCount', 'Close', 'Settlement', 'COBVolume',\n",
    "       'OffCOBVolume', 'TotalVolume',\n",
    "       'EndofDayDelta', 'Volatility']]\n",
    "X = X.apply(pd.to_numeric, errors='coerce')\n",
    "X = X.fillna(0)\n",
    "\n",
    "Y = df['VolatilityForValuation'].fillna(0)\n",
    "\n",
    "X = StandardScaler().fit_transform(X)\n",
    "\n",
    "X_Train, X_Test, Y_Train, Y_Test = train_test_split(X, Y, test_size = 0.05, random_state = 101)"
   ]
  },
  {
   "cell_type": "code",
   "execution_count": 18,
   "metadata": {},
   "outputs": [],
   "source": [
    "def smape_kun(y_true, y_pred):\n",
    "    return np.mean((np.abs(y_pred - y_true) * 200/ (np.abs(y_pred) + np.abs(y_true))))"
   ]
  },
  {
   "cell_type": "code",
   "execution_count": 19,
   "metadata": {},
   "outputs": [
    {
     "name": "stderr",
     "output_type": "stream",
     "text": [
      "/opt/conda/lib/python3.6/site-packages/sklearn/ensemble/forest.py:246: FutureWarning: The default value of n_estimators will change from 10 in version 0.20 to 100 in 0.22.\n",
      "  \"10 in version 0.20 to 100 in 0.22.\", FutureWarning)\n"
     ]
    },
    {
     "name": "stdout",
     "output_type": "stream",
     "text": [
      "1.0322448329100822\n"
     ]
    }
   ],
   "source": [
    "from sklearn.ensemble import RandomForestRegressor\n",
    "\n",
    "model = RandomForestRegressor(n_jobs=-1000)\n",
    "\n",
    "model.fit(X_Train,Y_Train)\n",
    "\n",
    "y_pred = model.predict(X_Test)\n",
    "\n",
    "print(smape_kun(Y_Test,y_pred))"
   ]
  },
  {
   "cell_type": "code",
   "execution_count": 20,
   "metadata": {},
   "outputs": [
    {
     "name": "stdout",
     "output_type": "stream",
     "text": [
      "79.94974981120832\n"
     ]
    }
   ],
   "source": [
    "from sklearn import linear_model\n",
    "clf = linear_model.Lasso(alpha=0.1)\n",
    "\n",
    "clf.fit(X_Train,Y_Train)\n",
    "\n",
    "y_pred = clf.predict(X_Test)\n",
    "\n",
    "print(smape_kun(Y_Test,y_pred))"
   ]
  },
  {
   "cell_type": "code",
   "execution_count": 21,
   "metadata": {},
   "outputs": [
    {
     "name": "stdout",
     "output_type": "stream",
     "text": [
      "80.02601229757758\n",
      "[27.45681216 11.44692291 24.43405989 ... 25.46844104  0.41435491\n",
      "  8.62502859]\n"
     ]
    }
   ],
   "source": [
    "from sklearn.linear_model import LinearRegression\n",
    "reg = LinearRegression().fit(X_Train,Y_Train)\n",
    "\n",
    "y_pred = reg.predict(X_Test)\n",
    "\n",
    "print(smape_kun(Y_Test,y_pred))\n",
    "print(y_pred)"
   ]
  },
  {
   "cell_type": "code",
   "execution_count": 22,
   "metadata": {},
   "outputs": [
    {
     "name": "stdout",
     "output_type": "stream",
     "text": [
      "1.1429487504424054\n"
     ]
    }
   ],
   "source": [
    "from sklearn.tree import DecisionTreeRegressor\n",
    "tree_regressor = DecisionTreeRegressor(random_state = 0)\n",
    "tree_regressor.fit(X_Train,Y_Train)\n",
    "\n",
    "y_pred = tree_regressor.predict(X_Test)\n",
    "\n",
    "print(smape_kun(Y_Test,y_pred))"
   ]
  },
  {
   "cell_type": "code",
   "execution_count": 23,
   "metadata": {},
   "outputs": [
    {
     "name": "stdout",
     "output_type": "stream",
     "text": [
      "multiclass\n"
     ]
    }
   ],
   "source": [
    "from sklearn import preprocessing\n",
    "from sklearn import utils\n",
    "\n",
    "lab_enc = preprocessing.LabelEncoder()\n",
    "Y_Train = lab_enc.fit_transform(Y_Train)\n",
    "print(utils.multiclass.type_of_target(Y_Train))"
   ]
  },
  {
   "cell_type": "code",
   "execution_count": 24,
   "metadata": {},
   "outputs": [
    {
     "name": "stderr",
     "output_type": "stream",
     "text": [
      "/opt/conda/lib/python3.6/site-packages/sklearn/discriminant_analysis.py:388: UserWarning: Variables are collinear.\n",
      "  warnings.warn(\"Variables are collinear.\")\n"
     ]
    },
    {
     "name": "stdout",
     "output_type": "stream",
     "text": [
      "197.44040632212443\n"
     ]
    }
   ],
   "source": [
    "from sklearn.discriminant_analysis import LinearDiscriminantAnalysis\n",
    "\n",
    "trainedlda = LinearDiscriminantAnalysis().fit(X_Train, Y_Train)\n",
    "predictionlda = trainedlda.predict(X_Test)\n",
    "print(smape_kun(Y_Test,predictionlda))"
   ]
  },
  {
   "cell_type": "markdown",
   "metadata": {},
   "source": [
    "### https://github.com/susanli2016/Machine-Learning-with-Python/blob/master/Time%20Series%20LSTM%20VIX.ipynb"
   ]
  },
  {
   "cell_type": "code",
   "execution_count": 25,
   "metadata": {},
   "outputs": [
    {
     "name": "stderr",
     "output_type": "stream",
     "text": [
      "Using TensorFlow backend.\n"
     ]
    },
    {
     "name": "stdout",
     "output_type": "stream",
     "text": [
      "Data shape:  (100874, 20)\n",
      "WARNING:tensorflow:From /opt/conda/lib/python3.6/site-packages/tensorflow/python/framework/op_def_library.py:263: colocate_with (from tensorflow.python.framework.ops) is deprecated and will be removed in a future version.\n",
      "Instructions for updating:\n",
      "Colocations handled automatically by placer.\n"
     ]
    },
    {
     "name": "stderr",
     "output_type": "stream",
     "text": [
      "/opt/conda/lib/python3.6/site-packages/ipykernel_launcher.py:58: UserWarning: The `input_dim` and `input_length` arguments in recurrent layers are deprecated. Use `input_shape` instead.\n",
      "/opt/conda/lib/python3.6/site-packages/ipykernel_launcher.py:58: UserWarning: Update your `LSTM` call to the Keras 2 API: `LSTM(return_sequences=True, input_shape=(None, 1), units=50)`\n"
     ]
    },
    {
     "name": "stdout",
     "output_type": "stream",
     "text": [
      "WARNING:tensorflow:From /opt/conda/lib/python3.6/site-packages/keras/backend/tensorflow_backend.py:3445: calling dropout (from tensorflow.python.ops.nn_ops) with keep_prob is deprecated and will be removed in a future version.\n",
      "Instructions for updating:\n",
      "Please use `rate` instead of `keep_prob`. Rate should be set to `rate = 1 - keep_prob`.\n"
     ]
    },
    {
     "name": "stderr",
     "output_type": "stream",
     "text": [
      "/opt/conda/lib/python3.6/site-packages/ipykernel_launcher.py:61: UserWarning: Update your `LSTM` call to the Keras 2 API: `LSTM(return_sequences=False, units=100)`\n"
     ]
    },
    {
     "name": "stdout",
     "output_type": "stream",
     "text": [
      "WARNING:tensorflow:From /opt/conda/lib/python3.6/site-packages/tensorflow/python/ops/math_ops.py:3066: to_int32 (from tensorflow.python.ops.math_ops) is deprecated and will be removed in a future version.\n",
      "Instructions for updating:\n",
      "Use tf.cast instead.\n"
     ]
    },
    {
     "name": "stderr",
     "output_type": "stream",
     "text": [
      "/opt/conda/lib/python3.6/site-packages/ipykernel_launcher.py:65: UserWarning: Update your `Dense` call to the Keras 2 API: `Dense(activation=\"linear\", units=1)`\n"
     ]
    },
    {
     "name": "stdout",
     "output_type": "stream",
     "text": [
      "Train on 76664 samples, validate on 4035 samples\n",
      "Epoch 1/100\n",
      "76664/76664 [==============================] - 23s 303us/step - loss: 1107.0870 - val_loss: 8286.3328\n",
      "Epoch 2/100\n",
      "76664/76664 [==============================] - 21s 277us/step - loss: 1105.9221 - val_loss: 8285.5120\n",
      "Epoch 3/100\n",
      "76664/76664 [==============================] - 21s 277us/step - loss: 1105.0541 - val_loss: 8283.3020\n",
      "Epoch 4/100\n",
      "76664/76664 [==============================] - 21s 277us/step - loss: 1104.4473 - val_loss: 8282.9193\n",
      "Epoch 5/100\n",
      "76664/76664 [==============================] - 21s 279us/step - loss: 1104.3094 - val_loss: 8281.6626\n",
      "Epoch 6/100\n",
      "76664/76664 [==============================] - 21s 278us/step - loss: 1104.1902 - val_loss: 8279.5012\n",
      "Epoch 7/100\n",
      "76664/76664 [==============================] - 21s 278us/step - loss: 1103.7844 - val_loss: 8280.2761\n",
      "Epoch 8/100\n",
      "76664/76664 [==============================] - 21s 280us/step - loss: 1103.2841 - val_loss: 8280.0987\n",
      "Epoch 9/100\n",
      "76664/76664 [==============================] - 22s 281us/step - loss: 1103.3341 - val_loss: 8279.5995\n",
      "Epoch 10/100\n",
      "76664/76664 [==============================] - 21s 278us/step - loss: 1103.3020 - val_loss: 8276.6158\n",
      "Epoch 11/100\n",
      "76664/76664 [==============================] - 22s 289us/step - loss: 1103.0428 - val_loss: 8277.4442\n",
      "Epoch 12/100\n",
      "76664/76664 [==============================] - 22s 281us/step - loss: 1102.6828 - val_loss: 8278.2615\n",
      "Epoch 13/100\n",
      "76664/76664 [==============================] - 21s 279us/step - loss: 1102.3647 - val_loss: 8275.9646\n",
      "Epoch 14/100\n",
      "76664/76664 [==============================] - 21s 278us/step - loss: 1102.0798 - val_loss: 8282.7926\n",
      "Epoch 15/100\n",
      "76664/76664 [==============================] - 21s 278us/step - loss: 1103.7616 - val_loss: 8278.6516\n",
      "Epoch 16/100\n",
      "76664/76664 [==============================] - 22s 282us/step - loss: 1102.1631 - val_loss: 8280.0777\n",
      "Epoch 17/100\n",
      "76664/76664 [==============================] - 21s 278us/step - loss: 1102.5755 - val_loss: 8276.8700\n",
      "Epoch 18/100\n",
      "76664/76664 [==============================] - 21s 279us/step - loss: 1102.2885 - val_loss: 8276.4282\n",
      "Epoch 19/100\n",
      "76664/76664 [==============================] - 21s 279us/step - loss: 1102.4316 - val_loss: 8275.5922\n",
      "Epoch 20/100\n",
      "76664/76664 [==============================] - 21s 278us/step - loss: 1101.9809 - val_loss: 8274.9366\n",
      "Epoch 21/100\n",
      "76664/76664 [==============================] - 21s 278us/step - loss: 1102.2120 - val_loss: 8273.5415\n",
      "Epoch 22/100\n",
      "76664/76664 [==============================] - 21s 279us/step - loss: 1101.1452 - val_loss: 8277.4853\n",
      "Epoch 23/100\n",
      "76664/76664 [==============================] - 21s 278us/step - loss: 1101.6323 - val_loss: 8280.5501\n",
      "Epoch 24/100\n",
      "76664/76664 [==============================] - 21s 278us/step - loss: 1102.4754 - val_loss: 8271.9484\n",
      "Epoch 25/100\n",
      "76664/76664 [==============================] - 23s 297us/step - loss: 1101.3341 - val_loss: 8277.1337\n",
      "Epoch 26/100\n",
      "76664/76664 [==============================] - 22s 283us/step - loss: 1101.6066 - val_loss: 8270.3921\n",
      "Epoch 27/100\n",
      "76664/76664 [==============================] - 22s 282us/step - loss: 1100.2038 - val_loss: 8270.6334\n",
      "Epoch 28/100\n",
      "76664/76664 [==============================] - 21s 280us/step - loss: 1101.3755 - val_loss: 8275.2005\n",
      "Epoch 29/100\n",
      "76664/76664 [==============================] - 21s 278us/step - loss: 1101.0215 - val_loss: 8277.9650\n",
      "Epoch 30/100\n",
      "76664/76664 [==============================] - 21s 278us/step - loss: 1100.5674 - val_loss: 8275.1865\n",
      "Epoch 31/100\n",
      "76664/76664 [==============================] - 21s 279us/step - loss: 1101.6544 - val_loss: 8276.4276\n",
      "Epoch 32/100\n",
      "76664/76664 [==============================] - 21s 276us/step - loss: 1100.7251 - val_loss: 8277.3071\n",
      "Epoch 33/100\n",
      "76664/76664 [==============================] - 21s 277us/step - loss: 1098.7112 - val_loss: 8275.4045\n",
      "Epoch 34/100\n",
      "76664/76664 [==============================] - 21s 277us/step - loss: 1100.7585 - val_loss: 8273.7195\n",
      "Epoch 35/100\n",
      "76664/76664 [==============================] - 21s 276us/step - loss: 1099.4730 - val_loss: 8274.9292\n",
      "Epoch 36/100\n",
      "76664/76664 [==============================] - 21s 278us/step - loss: 1099.8430 - val_loss: 8272.0571\n",
      "Epoch 37/100\n",
      "76664/76664 [==============================] - 21s 278us/step - loss: 1100.7206 - val_loss: 8271.2664\n",
      "Epoch 38/100\n",
      "76664/76664 [==============================] - 22s 282us/step - loss: 1099.8020 - val_loss: 8274.5095\n",
      "Epoch 39/100\n",
      "76664/76664 [==============================] - 21s 279us/step - loss: 1099.8701 - val_loss: 8273.2615\n",
      "Epoch 40/100\n",
      "22016/76664 [=======>......................] - ETA: 15s - loss: 1317.4790"
     ]
    }
   ],
   "source": [
    "import matplotlib.pyplot as plt\n",
    "import numpy as np\n",
    "import time\n",
    "from keras.layers.core import Dense, Activation, Dropout\n",
    "from keras.layers.recurrent import LSTM\n",
    "from keras.models import Sequential\n",
    "\n",
    "def convertSeriesToMatrix(vectorSeries, sequence_length):\n",
    "    matrix=[]\n",
    "    for i in range(len(vectorSeries)-sequence_length+1):\n",
    "        matrix.append(vectorSeries[i:i+sequence_length])\n",
    "    return matrix\n",
    "\n",
    "np.random.seed(2019)\n",
    "path_to_dataset = \"../input/minidata/mycsvfile.csv\"\n",
    "sequence_length = 20\n",
    "\n",
    "\n",
    "# vector to store the time series\n",
    "vector_vix = []\n",
    "with open(path_to_dataset) as f:\n",
    "    next(f) # skip the header row\n",
    "    next(f)\n",
    "    for line in f:\n",
    "        fields = line.split(',')\n",
    "        vector_vix.append(float(fields[6]))\n",
    "        \n",
    "\n",
    "# convert the vector to a 2D matrix\n",
    "matrix_vix = convertSeriesToMatrix(vector_vix, sequence_length)\n",
    "\n",
    "# shift all data by mean\n",
    "matrix_vix = np.array(matrix_vix)\n",
    "shifted_value = matrix_vix.mean()\n",
    "matrix_vix -= shifted_value\n",
    "print(\"Data shape: \", matrix_vix.shape)\n",
    "\n",
    "# split dataset: 80% for training and 10% for testing\n",
    "train_row = int(round(0.8 * matrix_vix.shape[0]))\n",
    "train_set = matrix_vix[:train_row, :]\n",
    "\n",
    "# shuffle the training set (but do not shuffle the test set)\n",
    "np.random.shuffle(train_set)\n",
    "\n",
    "# the training set\n",
    "X_train = train_set[:, :-1]\n",
    "# the last column is the true value to compute the mean-squared-error loss\n",
    "y_train = train_set[:, -1] \n",
    "# the test set\n",
    "X_test = matrix_vix[train_row:, :-1]\n",
    "y_test = matrix_vix[train_row:, -1]\n",
    "\n",
    "# the input to LSTM layer needs to have the shape of (number of samples, the dimension of each element)\n",
    "X_train = np.reshape(X_train, (X_train.shape[0], X_train.shape[1], 1))\n",
    "X_test = np.reshape(X_test, (X_test.shape[0], X_test.shape[1], 1))\n",
    "model = Sequential()\n",
    "# layer 1: LSTM\n",
    "model.add(LSTM( input_dim=1, output_dim=50, return_sequences=True))\n",
    "model.add(Dropout(0.2))\n",
    "# layer 2: LSTM\n",
    "model.add(LSTM(output_dim=100, return_sequences=False))\n",
    "model.add(Dropout(0.2))\n",
    "# layer 3: dense\n",
    "# linear activation: a(x) = x\n",
    "model.add(Dense(output_dim=1, activation='linear'))\n",
    "# compile the model\n",
    "model.compile(loss=\"mse\", optimizer=\"rmsprop\")\n",
    "model.fit(X_train, y_train, batch_size=512, epochs=100, validation_split=0.05, verbose=1)\n",
    "\n",
    "# evaluate the result\n",
    "test_mse = model.evaluate(X_test, y_test, verbose=1)\n",
    "print('The mean squared error (MSE) on the test data set is %.3f over %d test samples.' % (test_mse, len(y_test)))\n",
    "# get the predicted values\n",
    "predicted_values = model.predict(X_test)\n",
    "num_test_samples = len(predicted_values)\n",
    "predicted_values = np.reshape(predicted_values, (num_test_samples,1))"
   ]
  },
  {
   "cell_type": "code",
   "execution_count": 26,
   "metadata": {},
   "outputs": [
    {
     "data": {
      "image/png": "[encoded data removed]",
      "text/plain": [
       "<Figure size 720x432 with 1 Axes>"
      ]
     },
     "metadata": {},
     "output_type": "display_data"
    }
   ],
   "source": [
    "# plot the results\n",
    "fig = plt.figure(figsize=(10,6))\n",
    "plt.plot(y_test + shifted_value)\n",
    "plt.plot(predicted_values + shifted_value)\n",
    "plt.xlabel('Date')\n",
    "plt.ylabel('Price')\n",
    "plt.show();"
   ]
  },
  {
   "cell_type": "markdown",
   "metadata": {},
   "source": [
    "# LSTM"
   ]
  },
  {
   "cell_type": "markdown",
   "metadata": {},
   "source": [
    "> ### Model Artchitecture taken from Ralph Schlosser: https://www.kaggle.com/ternaryrealm/lstm-time-series-explorations-with-keras"
   ]
  },
  {
   "cell_type": "code",
   "execution_count": 27,
   "metadata": {},
   "outputs": [],
   "source": [
    "# Let's load the required libs.\n",
    "# We'll be using the Tensorflow backend (default).\n",
    "from keras.models import Sequential\n",
    "from keras.layers.recurrent import LSTM\n",
    "from keras.layers.core import Dense, Activation, Dropout\n",
    "from sklearn.preprocessing import MinMaxScaler\n",
    "from sklearn.metrics import mean_squared_error\n",
    "from sklearn.utils import shuffle"
   ]
  },
  {
   "cell_type": "code",
   "execution_count": 28,
   "metadata": {},
   "outputs": [
    {
     "data": {
      "text/plain": [
       "array([[0.],\n",
       "       [0.],\n",
       "       [0.],\n",
       "       [0.],\n",
       "       [0.]], dtype=float32)"
      ]
     },
     "execution_count": 28,
     "metadata": {},
     "output_type": "execute_result"
    }
   ],
   "source": [
    "# Get the raw data values from the pandas data frame.\n",
    "data_raw = df['VolatilityForValuation'].fillna(0).values.astype(\"float32\")\n",
    "\n",
    "# We apply the MinMax scaler from sklearn\n",
    "# to normalize data in the (0, 1) interval.\n",
    "scaler = MinMaxScaler(feature_range = (0, 1))\n",
    "dataset = scaler.fit_transform(data_raw.reshape(-1, 1))\n",
    "\n",
    "# Print a few values.\n",
    "dataset[0:5]"
   ]
  },
  {
   "cell_type": "code",
   "execution_count": 29,
   "metadata": {},
   "outputs": [
    {
     "name": "stdout",
     "output_type": "stream",
     "text": [
      "Number of entries (training set, test set): (60536, 40358)\n"
     ]
    }
   ],
   "source": [
    "# Using 60% of data for training, 40% for validation.\n",
    "TRAIN_SIZE = 0.60\n",
    "\n",
    "train_size = int(len(dataset) * TRAIN_SIZE)\n",
    "test_size = len(dataset) - train_size\n",
    "train, test = dataset[0:train_size, :], dataset[train_size:len(dataset), :]\n",
    "print(\"Number of entries (training set, test set): \" + str((len(train), len(test))))"
   ]
  },
  {
   "cell_type": "code",
   "execution_count": 30,
   "metadata": {},
   "outputs": [],
   "source": [
    "# FIXME: This helper function should be rewritten using numpy's shift function. See below.\n",
    "def create_dataset(dataset, window_size = 1):\n",
    "    data_X, data_Y = [], []\n",
    "    for i in range(len(dataset) - window_size - 1):\n",
    "        a = dataset[i:(i + window_size), 0]\n",
    "        data_X.append(a)\n",
    "        data_Y.append(dataset[i + window_size, 0])\n",
    "    return(np.array(data_X), np.array(data_Y))"
   ]
  },
  {
   "cell_type": "code",
   "execution_count": 31,
   "metadata": {},
   "outputs": [
    {
     "name": "stdout",
     "output_type": "stream",
     "text": [
      "Original training data shape:\n",
      "(60534, 1)\n",
      "New training data shape:\n",
      "(60534, 1, 1)\n"
     ]
    }
   ],
   "source": [
    "# Create test and training sets for one-step-ahead regression.\n",
    "window_size = 1\n",
    "train_X, train_Y = create_dataset(train, window_size)\n",
    "test_X, test_Y = create_dataset(test, window_size)\n",
    "print(\"Original training data shape:\")\n",
    "print(train_X.shape)\n",
    "\n",
    "# Reshape the input data into appropriate form for Keras.\n",
    "train_X = np.reshape(train_X, (train_X.shape[0], 1, train_X.shape[1]))\n",
    "test_X = np.reshape(test_X, (test_X.shape[0], 1, test_X.shape[1]))\n",
    "print(\"New training data shape:\")\n",
    "print(train_X.shape)"
   ]
  },
  {
   "cell_type": "code",
   "execution_count": 32,
   "metadata": {},
   "outputs": [],
   "source": [
    "def fit_model(train_X, train_Y, window_size = 1):\n",
    "    model = Sequential()\n",
    "    \n",
    "    model.add(LSTM(4, \n",
    "                   input_shape = (1, window_size)))\n",
    "    model.add(Dense(1))\n",
    "    model.compile(loss = \"mean_squared_error\", \n",
    "                  optimizer = \"adam\")\n",
    "    model.fit(train_X, \n",
    "              train_Y, \n",
    "              epochs = 3, \n",
    "              batch_size = 1, \n",
    "              verbose = 2)\n",
    "    \n",
    "    return(model)"
   ]
  },
  {
   "cell_type": "code",
   "execution_count": 33,
   "metadata": {},
   "outputs": [
    {
     "name": "stdout",
     "output_type": "stream",
     "text": [
      "Epoch 1/3\n",
      " - 121s - loss: 4.6586e-04\n",
      "Epoch 2/3\n",
      " - 122s - loss: 2.9475e-04\n",
      "Epoch 3/3\n",
      " - 121s - loss: 2.9369e-04\n"
     ]
    }
   ],
   "source": [
    "# Fit the first model.\n",
    "model1 = fit_model(train_X, train_Y, window_size)"
   ]
  },
  {
   "cell_type": "code",
   "execution_count": 34,
   "metadata": {},
   "outputs": [],
   "source": [
    "import math\n",
    "\n",
    "def predict_and_score(model, X, Y):\n",
    "    # Make predictions on the original scale of the data.\n",
    "    pred = scaler.inverse_transform(model.predict(X))\n",
    "    # Prepare Y data to also be on the original scale for interpretability.\n",
    "    orig_data = scaler.inverse_transform([Y])\n",
    "    # Calculate RMSE.\n",
    "    score = math.sqrt(mean_squared_error(orig_data[0], pred[:, 0]))\n",
    "    return(score, pred)"
   ]
  },
  {
   "cell_type": "code",
   "execution_count": 35,
   "metadata": {},
   "outputs": [
    {
     "name": "stdout",
     "output_type": "stream",
     "text": [
      "Training data score: 4.52 RMSE\n",
      "Test data score: 5.65 RMSE\n"
     ]
    }
   ],
   "source": [
    "rmse_train, train_predict = predict_and_score(model1, train_X, train_Y)\n",
    "rmse_test, test_predict = predict_and_score(model1, test_X, test_Y)\n",
    "\n",
    "print(\"Training data score: %.2f RMSE\" % rmse_train)\n",
    "print(\"Test data score: %.2f RMSE\" % rmse_test)"
   ]
  },
  {
   "cell_type": "code",
   "execution_count": 36,
   "metadata": {},
   "outputs": [
    {
     "data": {
      "image/png": "[encoded data removed]",
      "text/plain": [
       "<Figure size 864x360 with 1 Axes>"
      ]
     },
     "metadata": {},
     "output_type": "display_data"
    }
   ],
   "source": [
    "# Start with training predictions.\n",
    "train_predict_plot = np.empty_like(dataset)\n",
    "train_predict_plot[:, :] = np.nan\n",
    "train_predict_plot[window_size:len(train_predict) + window_size, :] = train_predict\n",
    "\n",
    "# Add test predictions.\n",
    "test_predict_plot = np.empty_like(dataset)\n",
    "test_predict_plot[:, :] = np.nan\n",
    "test_predict_plot[len(train_predict) + (window_size * 2) + 1:len(dataset) - 1, :] = test_predict\n",
    "\n",
    "# Create the plot.\n",
    "fig, ax = plt.subplots(figsize=(12,5))\n",
    "#ax.plot(x, y)\n",
    "#plt.figure(figsize = (15, 5))\n",
    "ax.plot(scaler.inverse_transform(dataset), label = \"True value\")\n",
    "ax.plot(train_predict_plot, label = \"Training set prediction\")\n",
    "ax.plot(test_predict_plot, label = \"Test set prediction\")\n",
    "plt.xlabel(\"Time\")\n",
    "plt.ylabel(\"VolatilityForValuation\")\n",
    "plt.title(\"Comparison true vs. predicted training / test\")\n",
    "plt.legend()\n",
    "plt.show()"
   ]
  },
  {
   "cell_type": "code",
   "execution_count": 37,
   "metadata": {},
   "outputs": [
    {
     "data": {
      "text/plain": [
       "array([[0.],\n",
       "       [0.],\n",
       "       [0.],\n",
       "       [0.],\n",
       "       [0.]], dtype=float32)"
      ]
     },
     "execution_count": 37,
     "metadata": {},
     "output_type": "execute_result"
    }
   ],
   "source": [
    "# Get the raw data values from the pandas data frame.\n",
    "df['Open'] = pd.to_numeric(df['Open'], errors='coerce')\n",
    "data_raw = df['Open'].fillna(0).values.astype(\"float32\")\n",
    "\n",
    "# We apply the MinMax scaler from sklearn\n",
    "# to normalize data in the (0, 1) interval.\n",
    "scaler = MinMaxScaler(feature_range = (0, 1))\n",
    "dataset = scaler.fit_transform(data_raw.reshape(-1, 1))\n",
    "\n",
    "# Print a few values.\n",
    "dataset[0:5]"
   ]
  },
  {
   "cell_type": "code",
   "execution_count": 38,
   "metadata": {},
   "outputs": [
    {
     "name": "stdout",
     "output_type": "stream",
     "text": [
      "Number of entries (training set, test set): (60536, 40358)\n"
     ]
    }
   ],
   "source": [
    "# Using 60% of data for training, 40% for validation.\n",
    "TRAIN_SIZE = 0.60\n",
    "\n",
    "train_size = int(len(dataset) * TRAIN_SIZE)\n",
    "test_size = len(dataset) - train_size\n",
    "train, test = dataset[0:train_size, :], dataset[train_size:len(dataset), :]\n",
    "print(\"Number of entries (training set, test set): \" + str((len(train), len(test))))"
   ]
  },
  {
   "cell_type": "code",
   "execution_count": 39,
   "metadata": {},
   "outputs": [
    {
     "name": "stdout",
     "output_type": "stream",
     "text": [
      "Original training data shape:\n",
      "(60534, 1)\n",
      "New training data shape:\n",
      "(60534, 1, 1)\n"
     ]
    }
   ],
   "source": [
    "# Create test and training sets for one-step-ahead regression.\n",
    "window_size = 1\n",
    "train_X, train_Y = create_dataset(train, window_size)\n",
    "test_X, test_Y = create_dataset(test, window_size)\n",
    "print(\"Original training data shape:\")\n",
    "print(train_X.shape)\n",
    "\n",
    "# Reshape the input data into appropriate form for Keras.\n",
    "train_X = np.reshape(train_X, (train_X.shape[0], 1, train_X.shape[1]))\n",
    "test_X = np.reshape(test_X, (test_X.shape[0], 1, test_X.shape[1]))\n",
    "print(\"New training data shape:\")\n",
    "print(train_X.shape)"
   ]
  },
  {
   "cell_type": "code",
   "execution_count": 40,
   "metadata": {},
   "outputs": [
    {
     "name": "stdout",
     "output_type": "stream",
     "text": [
      "Epoch 1/3\n",
      " - 124s - loss: 5.6262e-05\n",
      "Epoch 2/3\n",
      " - 124s - loss: 5.4933e-05\n",
      "Epoch 3/3\n",
      " - 122s - loss: 5.5274e-05\n"
     ]
    }
   ],
   "source": [
    "model1 = fit_model(train_X, train_Y, window_size)"
   ]
  },
  {
   "cell_type": "code",
   "execution_count": 41,
   "metadata": {},
   "outputs": [
    {
     "name": "stdout",
     "output_type": "stream",
     "text": [
      "Training data score: 39.47 RMSE\n",
      "Test data score: 26.14 RMSE\n"
     ]
    }
   ],
   "source": [
    "rmse_train, train_predict = predict_and_score(model1, train_X, train_Y)\n",
    "rmse_test, test_predict = predict_and_score(model1, test_X, test_Y)\n",
    "\n",
    "print(\"Training data score: %.2f RMSE\" % rmse_train)\n",
    "print(\"Test data score: %.2f RMSE\" % rmse_test)"
   ]
  },
  {
   "cell_type": "code",
   "execution_count": 42,
   "metadata": {},
   "outputs": [
    {
     "data": {
      "image/png": "[encoded data removed]",
      "text/plain": [
       "<Figure size 864x360 with 1 Axes>"
      ]
     },
     "metadata": {},
     "output_type": "display_data"
    }
   ],
   "source": [
    "# Start with training predictions.\n",
    "train_predict_plot = np.empty_like(dataset)\n",
    "train_predict_plot[:, :] = np.nan\n",
    "train_predict_plot[window_size:len(train_predict) + window_size, :] = train_predict\n",
    "\n",
    "# Add test predictions.\n",
    "test_predict_plot = np.empty_like(dataset)\n",
    "test_predict_plot[:, :] = np.nan\n",
    "test_predict_plot[len(train_predict) + (window_size * 2) + 1:len(dataset) - 1, :] = test_predict\n",
    "\n",
    "# Create the plot.\n",
    "fig, ax = plt.subplots(figsize=(12,5))\n",
    "#ax.plot(x, y)\n",
    "#plt.figure(figsize = (15, 5))\n",
    "ax.plot(scaler.inverse_transform(dataset), label = \"True value\")\n",
    "ax.plot(train_predict_plot, label = \"Training set prediction\")\n",
    "ax.plot(test_predict_plot, label = \"Test set prediction\")\n",
    "plt.xlabel(\"Time\")\n",
    "plt.ylabel(\"Open Price\")\n",
    "plt.title(\"Comparison true vs. predicted training / test\")\n",
    "plt.legend()\n",
    "plt.show()"
   ]
  },
  {
   "cell_type": "code",
   "execution_count": 43,
   "metadata": {},
   "outputs": [
    {
     "name": "stdout",
     "output_type": "stream",
     "text": [
      "Number of entries (training set, test set): (60536, 40358)\n",
      "Original training data shape:\n",
      "(60534, 1)\n",
      "New training data shape:\n",
      "(60534, 1, 1)\n",
      "Original training data shape:\n",
      "(60534, 1)\n",
      "New training data shape:\n",
      "(60534, 1, 1)\n",
      "Epoch 1/3\n",
      " - 126s - loss: 5.4433e-05\n",
      "Epoch 2/3\n",
      " - 123s - loss: 5.5245e-05\n",
      "Epoch 3/3\n",
      " - 125s - loss: 5.4864e-05\n",
      "Training data score: 38.80 RMSE\n",
      "Test data score: 26.04 RMSE\n"
     ]
    },
    {
     "data": {
      "image/png": "[encoded data removed]",
      "text/plain": [
       "<Figure size 864x360 with 1 Axes>"
      ]
     },
     "metadata": {},
     "output_type": "display_data"
    }
   ],
   "source": [
    "# Get the raw data values from the pandas data frame.\n",
    "df['Close'] = pd.to_numeric(df['Close'], errors='coerce')\n",
    "data_raw = df['Close'].fillna(0).values.astype(\"float32\")\n",
    "\n",
    "# We apply the MinMax scaler from sklearn\n",
    "# to normalize data in the (0, 1) interval.\n",
    "scaler = MinMaxScaler(feature_range = (0, 1))\n",
    "dataset = scaler.fit_transform(data_raw.reshape(-1, 1))\n",
    "\n",
    "# Print a few values.\n",
    "dataset[0:5]\n",
    "\n",
    "# Using 60% of data for training, 40% for validation.\n",
    "TRAIN_SIZE = 0.60\n",
    "\n",
    "train_size = int(len(dataset) * TRAIN_SIZE)\n",
    "test_size = len(dataset) - train_size\n",
    "train, test = dataset[0:train_size, :], dataset[train_size:len(dataset), :]\n",
    "print(\"Number of entries (training set, test set): \" + str((len(train), len(test))))\n",
    "\n",
    "# Create test and training sets for one-step-ahead regression.\n",
    "window_size = 1\n",
    "train_X, train_Y = create_dataset(train, window_size)\n",
    "test_X, test_Y = create_dataset(test, window_size)\n",
    "print(\"Original training data shape:\")\n",
    "print(train_X.shape)\n",
    "\n",
    "# Reshape the input data into appropriate form for Keras.\n",
    "train_X = np.reshape(train_X, (train_X.shape[0], 1, train_X.shape[1]))\n",
    "test_X = np.reshape(test_X, (test_X.shape[0], 1, test_X.shape[1]))\n",
    "print(\"New training data shape:\")\n",
    "print(train_X.shape)\n",
    "\n",
    "# Create test and training sets for one-step-ahead regression.\n",
    "window_size = 1\n",
    "train_X, train_Y = create_dataset(train, window_size)\n",
    "test_X, test_Y = create_dataset(test, window_size)\n",
    "print(\"Original training data shape:\")\n",
    "print(train_X.shape)\n",
    "\n",
    "# Reshape the input data into appropriate form for Keras.\n",
    "train_X = np.reshape(train_X, (train_X.shape[0], 1, train_X.shape[1]))\n",
    "test_X = np.reshape(test_X, (test_X.shape[0], 1, test_X.shape[1]))\n",
    "print(\"New training data shape:\")\n",
    "print(train_X.shape)\n",
    "\n",
    "model1 = fit_model(train_X, train_Y, window_size)\n",
    "\n",
    "rmse_train, train_predict = predict_and_score(model1, train_X, train_Y)\n",
    "rmse_test, test_predict = predict_and_score(model1, test_X, test_Y)\n",
    "\n",
    "print(\"Training data score: %.2f RMSE\" % rmse_train)\n",
    "print(\"Test data score: %.2f RMSE\" % rmse_test)\n",
    "\n",
    "# Start with training predictions.\n",
    "train_predict_plot = np.empty_like(dataset)\n",
    "train_predict_plot[:, :] = np.nan\n",
    "train_predict_plot[window_size:len(train_predict) + window_size, :] = train_predict\n",
    "\n",
    "# Add test predictions.\n",
    "test_predict_plot = np.empty_like(dataset)\n",
    "test_predict_plot[:, :] = np.nan\n",
    "test_predict_plot[len(train_predict) + (window_size * 2) + 1:len(dataset) - 1, :] = test_predict\n",
    "\n",
    "# Create the plot.\n",
    "fig, ax = plt.subplots(figsize=(12,5))\n",
    "#ax.plot(x, y)\n",
    "#plt.figure(figsize = (15, 5))\n",
    "ax.plot(scaler.inverse_transform(dataset), label = \"True value\")\n",
    "ax.plot(train_predict_plot, label = \"Training set prediction\")\n",
    "ax.plot(test_predict_plot, label = \"Test set prediction\")\n",
    "plt.xlabel(\"Time\")\n",
    "plt.ylabel(\"Close Price\")\n",
    "plt.title(\"Comparison true vs. predicted training / test\")\n",
    "plt.legend()\n",
    "plt.show()"
   ]
  },
  {
   "cell_type": "code",
   "execution_count": 44,
   "metadata": {},
   "outputs": [
    {
     "name": "stdout",
     "output_type": "stream",
     "text": [
      "Number of entries (training set, test set): (60536, 40358)\n",
      "Original training data shape:\n",
      "(60534, 1)\n",
      "New training data shape:\n",
      "(60534, 1, 1)\n",
      "Original training data shape:\n",
      "(60534, 1)\n",
      "New training data shape:\n",
      "(60534, 1, 1)\n",
      "Epoch 1/3\n",
      " - 127s - loss: 5.5524e-05\n",
      "Epoch 2/3\n",
      " - 124s - loss: 5.5179e-05\n",
      "Epoch 3/3\n",
      " - 125s - loss: 5.4904e-05\n",
      "Training data score: 39.50 RMSE\n",
      "Test data score: 26.31 RMSE\n"
     ]
    },
    {
     "data": {
      "image/png": "[encoded data removed]",
      "text/plain": [
       "<Figure size 864x360 with 1 Axes>"
      ]
     },
     "metadata": {},
     "output_type": "display_data"
    }
   ],
   "source": [
    "# Get the raw data values from the pandas data frame.\n",
    "df['High'] = pd.to_numeric(df['High'], errors='coerce')\n",
    "data_raw = df['High'].fillna(0).values.astype(\"float32\")\n",
    "\n",
    "# We apply the MinMax scaler from sklearn\n",
    "# to normalize data in the (0, 1) interval.\n",
    "scaler = MinMaxScaler(feature_range = (0, 1))\n",
    "dataset = scaler.fit_transform(data_raw.reshape(-1, 1))\n",
    "\n",
    "# Print a few values.\n",
    "dataset[0:5]\n",
    "\n",
    "# Using 60% of data for training, 40% for validation.\n",
    "TRAIN_SIZE = 0.60\n",
    "\n",
    "train_size = int(len(dataset) * TRAIN_SIZE)\n",
    "test_size = len(dataset) - train_size\n",
    "train, test = dataset[0:train_size, :], dataset[train_size:len(dataset), :]\n",
    "print(\"Number of entries (training set, test set): \" + str((len(train), len(test))))\n",
    "\n",
    "# Create test and training sets for one-step-ahead regression.\n",
    "window_size = 1\n",
    "train_X, train_Y = create_dataset(train, window_size)\n",
    "test_X, test_Y = create_dataset(test, window_size)\n",
    "print(\"Original training data shape:\")\n",
    "print(train_X.shape)\n",
    "\n",
    "# Reshape the input data into appropriate form for Keras.\n",
    "train_X = np.reshape(train_X, (train_X.shape[0], 1, train_X.shape[1]))\n",
    "test_X = np.reshape(test_X, (test_X.shape[0], 1, test_X.shape[1]))\n",
    "print(\"New training data shape:\")\n",
    "print(train_X.shape)\n",
    "\n",
    "# Create test and training sets for one-step-ahead regression.\n",
    "window_size = 1\n",
    "train_X, train_Y = create_dataset(train, window_size)\n",
    "test_X, test_Y = create_dataset(test, window_size)\n",
    "print(\"Original training data shape:\")\n",
    "print(train_X.shape)\n",
    "\n",
    "# Reshape the input data into appropriate form for Keras.\n",
    "train_X = np.reshape(train_X, (train_X.shape[0], 1, train_X.shape[1]))\n",
    "test_X = np.reshape(test_X, (test_X.shape[0], 1, test_X.shape[1]))\n",
    "print(\"New training data shape:\")\n",
    "print(train_X.shape)\n",
    "\n",
    "model1 = fit_model(train_X, train_Y, window_size)\n",
    "\n",
    "rmse_train, train_predict = predict_and_score(model1, train_X, train_Y)\n",
    "rmse_test, test_predict = predict_and_score(model1, test_X, test_Y)\n",
    "\n",
    "print(\"Training data score: %.2f RMSE\" % rmse_train)\n",
    "print(\"Test data score: %.2f RMSE\" % rmse_test)\n",
    "\n",
    "# Start with training predictions.\n",
    "train_predict_plot = np.empty_like(dataset)\n",
    "train_predict_plot[:, :] = np.nan\n",
    "train_predict_plot[window_size:len(train_predict) + window_size, :] = train_predict\n",
    "\n",
    "# Add test predictions.\n",
    "test_predict_plot = np.empty_like(dataset)\n",
    "test_predict_plot[:, :] = np.nan\n",
    "test_predict_plot[len(train_predict) + (window_size * 2) + 1:len(dataset) - 1, :] = test_predict\n",
    "\n",
    "# Create the plot.\n",
    "fig, ax = plt.subplots(figsize=(12,5))\n",
    "#ax.plot(x, y)\n",
    "#plt.figure(figsize = (15, 5))\n",
    "ax.plot(scaler.inverse_transform(dataset), label = \"True value\")\n",
    "ax.plot(train_predict_plot, label = \"Training set prediction\")\n",
    "ax.plot(test_predict_plot, label = \"Test set prediction\")\n",
    "plt.xlabel(\"Time\")\n",
    "plt.ylabel(\"High Price\")\n",
    "plt.title(\"Comparison true vs. predicted training / test\")\n",
    "plt.legend()\n",
    "plt.show()"
   ]
  },
  {
   "cell_type": "code",
   "execution_count": 45,
   "metadata": {},
   "outputs": [
    {
     "name": "stdout",
     "output_type": "stream",
     "text": [
      "Number of entries (training set, test set): (60536, 40358)\n",
      "Original training data shape:\n",
      "(60534, 1)\n",
      "New training data shape:\n",
      "(60534, 1, 1)\n",
      "Original training data shape:\n",
      "(60534, 1)\n",
      "New training data shape:\n",
      "(60534, 1, 1)\n",
      "Epoch 1/3\n",
      " - 126s - loss: 5.5179e-05\n",
      "Epoch 2/3\n",
      " - 126s - loss: 5.6223e-05\n",
      "Epoch 3/3\n",
      " - 127s - loss: 5.5461e-05\n",
      "Training data score: 38.79 RMSE\n",
      "Test data score: 26.03 RMSE\n"
     ]
    },
    {
     "data": {
      "image/png": "[encoded data removed]",
      "text/plain": [
       "<Figure size 864x360 with 1 Axes>"
      ]
     },
     "metadata": {},
     "output_type": "display_data"
    }
   ],
   "source": [
    "# Get the raw data values from the pandas data frame.\n",
    "df['Low'] = pd.to_numeric(df['Low'], errors='coerce')\n",
    "data_raw = df['Low'].fillna(0).values.astype(\"float32\")\n",
    "\n",
    "# We apply the MinMax scaler from sklearn\n",
    "# to normalize data in the (0, 1) interval.\n",
    "scaler = MinMaxScaler(feature_range = (0, 1))\n",
    "dataset = scaler.fit_transform(data_raw.reshape(-1, 1))\n",
    "\n",
    "# Print a few values.\n",
    "dataset[0:5]\n",
    "\n",
    "# Using 60% of data for training, 40% for validation.\n",
    "TRAIN_SIZE = 0.60\n",
    "\n",
    "train_size = int(len(dataset) * TRAIN_SIZE)\n",
    "test_size = len(dataset) - train_size\n",
    "train, test = dataset[0:train_size, :], dataset[train_size:len(dataset), :]\n",
    "print(\"Number of entries (training set, test set): \" + str((len(train), len(test))))\n",
    "\n",
    "# Create test and training sets for one-step-ahead regression.\n",
    "window_size = 1\n",
    "train_X, train_Y = create_dataset(train, window_size)\n",
    "test_X, test_Y = create_dataset(test, window_size)\n",
    "print(\"Original training data shape:\")\n",
    "print(train_X.shape)\n",
    "\n",
    "# Reshape the input data into appropriate form for Keras.\n",
    "train_X = np.reshape(train_X, (train_X.shape[0], 1, train_X.shape[1]))\n",
    "test_X = np.reshape(test_X, (test_X.shape[0], 1, test_X.shape[1]))\n",
    "print(\"New training data shape:\")\n",
    "print(train_X.shape)\n",
    "\n",
    "# Create test and training sets for one-step-ahead regression.\n",
    "window_size = 1\n",
    "train_X, train_Y = create_dataset(train, window_size)\n",
    "test_X, test_Y = create_dataset(test, window_size)\n",
    "print(\"Original training data shape:\")\n",
    "print(train_X.shape)\n",
    "\n",
    "# Reshape the input data into appropriate form for Keras.\n",
    "train_X = np.reshape(train_X, (train_X.shape[0], 1, train_X.shape[1]))\n",
    "test_X = np.reshape(test_X, (test_X.shape[0], 1, test_X.shape[1]))\n",
    "print(\"New training data shape:\")\n",
    "print(train_X.shape)\n",
    "\n",
    "model1 = fit_model(train_X, train_Y, window_size)\n",
    "\n",
    "rmse_train, train_predict = predict_and_score(model1, train_X, train_Y)\n",
    "rmse_test, test_predict = predict_and_score(model1, test_X, test_Y)\n",
    "\n",
    "print(\"Training data score: %.2f RMSE\" % rmse_train)\n",
    "print(\"Test data score: %.2f RMSE\" % rmse_test)\n",
    "\n",
    "# Start with training predictions.\n",
    "train_predict_plot = np.empty_like(dataset)\n",
    "train_predict_plot[:, :] = np.nan\n",
    "train_predict_plot[window_size:len(train_predict) + window_size, :] = train_predict\n",
    "\n",
    "# Add test predictions.\n",
    "test_predict_plot = np.empty_like(dataset)\n",
    "test_predict_plot[:, :] = np.nan\n",
    "test_predict_plot[len(train_predict) + (window_size * 2) + 1:len(dataset) - 1, :] = test_predict\n",
    "\n",
    "# Create the plot.\n",
    "fig, ax = plt.subplots(figsize=(12,5))\n",
    "#ax.plot(x, y)\n",
    "#plt.figure(figsize = (15, 5))\n",
    "ax.plot(scaler.inverse_transform(dataset), label = \"True value\")\n",
    "ax.plot(train_predict_plot, label = \"Training set prediction\")\n",
    "ax.plot(test_predict_plot, label = \"Test set prediction\")\n",
    "plt.xlabel(\"Time\")\n",
    "plt.ylabel(\"Low Price\")\n",
    "plt.title(\"Comparison true vs. predicted training / test\")\n",
    "plt.legend()\n",
    "plt.show()"
   ]
  },
  {
   "cell_type": "code",
   "execution_count": 46,
   "metadata": {},
   "outputs": [
    {
     "name": "stdout",
     "output_type": "stream",
     "text": [
      "Number of entries (training set, test set): (60536, 40358)\n",
      "Original training data shape:\n",
      "(60534, 1)\n",
      "New training data shape:\n",
      "(60534, 1, 1)\n",
      "Original training data shape:\n",
      "(60534, 1)\n",
      "New training data shape:\n",
      "(60534, 1, 1)\n",
      "Epoch 1/3\n",
      " - 129s - loss: 1.4095e-04\n",
      "Epoch 2/3\n",
      " - 129s - loss: 1.1408e-04\n",
      "Epoch 3/3\n",
      " - 128s - loss: 1.1305e-04\n",
      "Training data score: 1088.28 RMSE\n",
      "Test data score: 3650.44 RMSE\n"
     ]
    },
    {
     "data": {
      "image/png": "[encoded data removed]",
      "text/plain": [
       "<Figure size 864x360 with 1 Axes>"
      ]
     },
     "metadata": {},
     "output_type": "display_data"
    }
   ],
   "source": [
    "# Get the raw data values from the pandas data frame.\n",
    "df['ExercisePrice'] = pd.to_numeric(df['ExercisePrice'], errors='coerce')\n",
    "data_raw = df['ExercisePrice'].fillna(0).values.astype(\"float32\")\n",
    "\n",
    "# We apply the MinMax scaler from sklearn\n",
    "# to normalize data in the (0, 1) interval.\n",
    "scaler = MinMaxScaler(feature_range = (0, 1))\n",
    "dataset = scaler.fit_transform(data_raw.reshape(-1, 1))\n",
    "\n",
    "# Print a few values.\n",
    "dataset[0:5]\n",
    "\n",
    "# Using 60% of data for training, 40% for validation.\n",
    "TRAIN_SIZE = 0.60\n",
    "\n",
    "train_size = int(len(dataset) * TRAIN_SIZE)\n",
    "test_size = len(dataset) - train_size\n",
    "train, test = dataset[0:train_size, :], dataset[train_size:len(dataset), :]\n",
    "print(\"Number of entries (training set, test set): \" + str((len(train), len(test))))\n",
    "\n",
    "# Create test and training sets for one-step-ahead regression.\n",
    "window_size = 1\n",
    "train_X, train_Y = create_dataset(train, window_size)\n",
    "test_X, test_Y = create_dataset(test, window_size)\n",
    "print(\"Original training data shape:\")\n",
    "print(train_X.shape)\n",
    "\n",
    "# Reshape the input data into appropriate form for Keras.\n",
    "train_X = np.reshape(train_X, (train_X.shape[0], 1, train_X.shape[1]))\n",
    "test_X = np.reshape(test_X, (test_X.shape[0], 1, test_X.shape[1]))\n",
    "print(\"New training data shape:\")\n",
    "print(train_X.shape)\n",
    "\n",
    "# Create test and training sets for one-step-ahead regression.\n",
    "window_size = 1\n",
    "train_X, train_Y = create_dataset(train, window_size)\n",
    "test_X, test_Y = create_dataset(test, window_size)\n",
    "print(\"Original training data shape:\")\n",
    "print(train_X.shape)\n",
    "\n",
    "# Reshape the input data into appropriate form for Keras.\n",
    "train_X = np.reshape(train_X, (train_X.shape[0], 1, train_X.shape[1]))\n",
    "test_X = np.reshape(test_X, (test_X.shape[0], 1, test_X.shape[1]))\n",
    "print(\"New training data shape:\")\n",
    "print(train_X.shape)\n",
    "\n",
    "model1 = fit_model(train_X, train_Y, window_size)\n",
    "\n",
    "rmse_train, train_predict = predict_and_score(model1, train_X, train_Y)\n",
    "rmse_test, test_predict = predict_and_score(model1, test_X, test_Y)\n",
    "\n",
    "print(\"Training data score: %.2f RMSE\" % rmse_train)\n",
    "print(\"Test data score: %.2f RMSE\" % rmse_test)\n",
    "\n",
    "# Start with training predictions.\n",
    "train_predict_plot = np.empty_like(dataset)\n",
    "train_predict_plot[:, :] = np.nan\n",
    "train_predict_plot[window_size:len(train_predict) + window_size, :] = train_predict\n",
    "\n",
    "# Add test predictions.\n",
    "test_predict_plot = np.empty_like(dataset)\n",
    "test_predict_plot[:, :] = np.nan\n",
    "test_predict_plot[len(train_predict) + (window_size * 2) + 1:len(dataset) - 1, :] = test_predict\n",
    "\n",
    "# Create the plot.\n",
    "fig, ax = plt.subplots(figsize=(12,5))\n",
    "#ax.plot(x, y)\n",
    "#plt.figure(figsize = (15, 5))\n",
    "ax.plot(scaler.inverse_transform(dataset), label = \"True value\")\n",
    "ax.plot(train_predict_plot, label = \"Training set prediction\")\n",
    "ax.plot(test_predict_plot, label = \"Test set prediction\")\n",
    "plt.xlabel(\"Time\")\n",
    "plt.ylabel(\"ExercisePrice\")\n",
    "plt.title(\"Comparison true vs. predicted training / test\")\n",
    "plt.legend()\n",
    "plt.show()"
   ]
  },
  {
   "cell_type": "code",
   "execution_count": 47,
   "metadata": {},
   "outputs": [
    {
     "name": "stdout",
     "output_type": "stream",
     "text": [
      "Number of entries (training set, test set): (60536, 40358)\n",
      "Original training data shape:\n",
      "(60534, 1)\n",
      "New training data shape:\n",
      "(60534, 1, 1)\n",
      "Original training data shape:\n",
      "(60534, 1)\n",
      "New training data shape:\n",
      "(60534, 1, 1)\n",
      "Epoch 1/3\n",
      " - 131s - loss: 4.8680e-04\n",
      "Epoch 2/3\n",
      " - 130s - loss: 4.2321e-04\n",
      "Epoch 3/3\n",
      " - 129s - loss: 4.1138e-04\n",
      "Training data score: 150.90 RMSE\n",
      "Test data score: 71.92 RMSE\n"
     ]
    }
   ],
   "source": [
    "# Get the raw data values from the pandas data frame.\n",
    "df['Settlement'] = pd.to_numeric(df['Settlement'], errors='coerce')\n",
    "data_raw = df['Settlement'].fillna(0).values.astype(\"float32\")\n",
    "\n",
    "# We apply the MinMax scaler from sklearn\n",
    "# to normalize data in the (0, 1) interval.\n",
    "scaler = MinMaxScaler(feature_range = (0, 1))\n",
    "dataset = scaler.fit_transform(data_raw.reshape(-1, 1))\n",
    "\n",
    "# Print a few values.\n",
    "dataset[0:5]\n",
    "\n",
    "# Using 60% of data for training, 40% for validation.\n",
    "TRAIN_SIZE = 0.60\n",
    "\n",
    "train_size = int(len(dataset) * TRAIN_SIZE)\n",
    "test_size = len(dataset) - train_size\n",
    "train, test = dataset[0:train_size, :], dataset[train_size:len(dataset), :]\n",
    "print(\"Number of entries (training set, test set): \" + str((len(train), len(test))))\n",
    "\n",
    "# Create test and training sets for one-step-ahead regression.\n",
    "window_size = 1\n",
    "train_X, train_Y = create_dataset(train, window_size)\n",
    "test_X, test_Y = create_dataset(test, window_size)\n",
    "print(\"Original training data shape:\")\n",
    "print(train_X.shape)\n",
    "\n",
    "# Reshape the input data into appropriate form for Keras.\n",
    "train_X = np.reshape(train_X, (train_X.shape[0], 1, train_X.shape[1]))\n",
    "test_X = np.reshape(test_X, (test_X.shape[0], 1, test_X.shape[1]))\n",
    "print(\"New training data shape:\")\n",
    "print(train_X.shape)\n",
    "\n",
    "# Create test and training sets for one-step-ahead regression.\n",
    "window_size = 1\n",
    "train_X, train_Y = create_dataset(train, window_size)\n",
    "test_X, test_Y = create_dataset(test, window_size)\n",
    "print(\"Original training data shape:\")\n",
    "print(train_X.shape)\n",
    "\n",
    "# Reshape the input data into appropriate form for Keras.\n",
    "train_X = np.reshape(train_X, (train_X.shape[0], 1, train_X.shape[1]))\n",
    "test_X = np.reshape(test_X, (test_X.shape[0], 1, test_X.shape[1]))\n",
    "print(\"New training data shape:\")\n",
    "print(train_X.shape)\n",
    "\n",
    "model1 = fit_model(train_X, train_Y, window_size)\n",
    "\n",
    "rmse_train, train_predict = predict_and_score(model1, train_X, train_Y)\n",
    "rmse_test, test_predict = predict_and_score(model1, test_X, test_Y)\n",
    "\n",
    "print(\"Training data score: %.2f RMSE\" % rmse_train)\n",
    "print(\"Test data score: %.2f RMSE\" % rmse_test)\n",
    "\n",
    "# Start with training predictions.\n",
    "train_predict_plot = np.empty_like(dataset)\n",
    "train_predict_plot[:, :] = np.nan\n",
    "train_predict_plot[window_size:len(train_predict) + window_size, :] = train_predict\n",
    "\n",
    "# Add test predictions.\n",
    "test_predict_plot = np.empty_like(dataset)\n",
    "test_predict_plot[:, :] = np.nan\n",
    "test_predict_plot[len(train_predict) + (window_size * 2) + 1:len(dataset) - 1, :] = test_predict"
   ]
  },
  {
   "cell_type": "code",
   "execution_count": 48,
   "metadata": {},
   "outputs": [
    {
     "data": {
      "image/png": "[encoded data removed]",
      "text/plain": [
       "<Figure size 864x360 with 1 Axes>"
      ]
     },
     "metadata": {},
     "output_type": "display_data"
    }
   ],
   "source": [
    "# Create the plot.\n",
    "fig, ax = plt.subplots(figsize=(12,5))\n",
    "#ax.plot(x, y)\n",
    "#plt.figure(figsize = (15, 5))\n",
    "ax.plot(scaler.inverse_transform(dataset), label = \"True value\")\n",
    "ax.plot(train_predict_plot, label = \"Training set prediction\")\n",
    "ax.plot(test_predict_plot, label = \"Test set prediction\")\n",
    "plt.xlabel(\"Time\")\n",
    "plt.ylabel(\"Settlement\")\n",
    "plt.title(\"Comparison true vs. predicted training / test\")\n",
    "plt.legend()\n",
    "plt.show()"
   ]
  },
  {
   "cell_type": "markdown",
   "metadata": {},
   "source": [
    "# EuronextLisbon-IntradayTrades-20190520.csv"
   ]
  },
  {
   "cell_type": "markdown",
   "metadata": {},
   "source": [
    "## Preprocessing"
   ]
  },
  {
   "cell_type": "code",
   "execution_count": 49,
   "metadata": {},
   "outputs": [
    {
     "data": {
      "text/html": [
       "<div>\n",
       "<style scoped>\n",
       "    .dataframe tbody tr th:only-of-type {\n",
       "        vertical-align: middle;\n",
       "    }\n",
       "\n",
       "    .dataframe tbody tr th {\n",
       "        vertical-align: top;\n",
       "    }\n",
       "\n",
       "    .dataframe thead th {\n",
       "        text-align: right;\n",
       "    }\n",
       "</style>\n",
       "<table border=\"1\" class=\"dataframe\">\n",
       "  <thead>\n",
       "    <tr style=\"text-align: right;\">\n",
       "      <th></th>\n",
       "      <th>Internal code;ISIN code;Instrument name;Trading Place;Category;Issuing country code;Segment;Trading currency code;Trading unit (currency or %);Registred date;Trade number;Trade indicator;Trade date;Trade time;Cross-trade indicator;Price (in trading currency);Volume;Turnover in euro</th>\n",
       "    </tr>\n",
       "  </thead>\n",
       "  <tbody>\n",
       "    <tr>\n",
       "      <th>0</th>\n",
       "      <td>283259;PTBIXRYE0025;BCP IBEX 35       ;Lisbon;...</td>\n",
       "    </tr>\n",
       "    <tr>\n",
       "      <th>1</th>\n",
       "      <td>1364220;PTMENWOM0007;MOTA 4.5% 28NOV22 ;Lisbon...</td>\n",
       "    </tr>\n",
       "    <tr>\n",
       "      <th>2</th>\n",
       "      <td>377693;PTBIWWYE0052;BCP OURO          ;Lisbon;...</td>\n",
       "    </tr>\n",
       "    <tr>\n",
       "      <th>3</th>\n",
       "      <td>1456889;DE000CJ36V67;DAX  11700TL 0619Z;Lisbon...</td>\n",
       "    </tr>\n",
       "    <tr>\n",
       "      <th>4</th>\n",
       "      <td>1281017;PTOTVMOE0000;OTRV FRN 23JUL25  ;Lisbon...</td>\n",
       "    </tr>\n",
       "  </tbody>\n",
       "</table>\n",
       "</div>"
      ],
      "text/plain": [
       "  Internal code;ISIN code;Instrument name;Trading Place;Category;Issuing country code;Segment;Trading currency code;Trading unit (currency or %);Registred date;Trade number;Trade indicator;Trade date;Trade time;Cross-trade indicator;Price (in trading currency);Volume;Turnover in euro\n",
       "0  283259;PTBIXRYE0025;BCP IBEX 35       ;Lisbon;...                                                                                                                                                                                                                                        \n",
       "1  1364220;PTMENWOM0007;MOTA 4.5% 28NOV22 ;Lisbon...                                                                                                                                                                                                                                        \n",
       "2  377693;PTBIWWYE0052;BCP OURO          ;Lisbon;...                                                                                                                                                                                                                                        \n",
       "3  1456889;DE000CJ36V67;DAX  11700TL 0619Z;Lisbon...                                                                                                                                                                                                                                        \n",
       "4  1281017;PTOTVMOE0000;OTRV FRN 23JUL25  ;Lisbon...                                                                                                                                                                                                                                        "
      ]
     },
     "execution_count": 49,
     "metadata": {},
     "output_type": "execute_result"
    }
   ],
   "source": [
    "df2 = pd.read_csv(\"../input/level2stockanalysis/EuronextLisbon-IntradayTrades-20190520.csv\")\n",
    "df2.head()"
   ]
  },
  {
   "cell_type": "code",
   "execution_count": 50,
   "metadata": {},
   "outputs": [
    {
     "name": "stdout",
     "output_type": "stream",
     "text": [
      "['Internal code', 'ISIN code', 'Instrument name', 'Trading Place', 'Category', 'Issuing country code', 'Segment', 'Trading currency code', 'Trading unit (currency or %)', 'Registred date', 'Trade number', 'Trade indicator', 'Trade date', 'Trade time', 'Cross-trade indicator', 'Price (in trading currency)', 'Volume', 'Turnover in euro']\n"
     ]
    }
   ],
   "source": [
    "new_header = \"Internal code;ISIN code;Instrument name;Trading Place;Category;Issuing country code;Segment;Trading currency code;Trading unit (currency or %);Registred date;Trade number;Trade indicator;Trade date;Trade time;Cross-trade indicator;Price (in trading currency);Volume;Turnover in euro\"\n",
    "new_header = new_header.split(';')\n",
    "print(new_header)"
   ]
  },
  {
   "cell_type": "code",
   "execution_count": 51,
   "metadata": {},
   "outputs": [
    {
     "data": {
      "text/html": [
       "<div>\n",
       "<style scoped>\n",
       "    .dataframe tbody tr th:only-of-type {\n",
       "        vertical-align: middle;\n",
       "    }\n",
       "\n",
       "    .dataframe tbody tr th {\n",
       "        vertical-align: top;\n",
       "    }\n",
       "\n",
       "    .dataframe thead th {\n",
       "        text-align: right;\n",
       "    }\n",
       "</style>\n",
       "<table border=\"1\" class=\"dataframe\">\n",
       "  <thead>\n",
       "    <tr style=\"text-align: right;\">\n",
       "      <th></th>\n",
       "      <th>Internal code</th>\n",
       "      <th>ISIN code</th>\n",
       "      <th>Instrument name</th>\n",
       "      <th>Trading Place</th>\n",
       "      <th>Category</th>\n",
       "      <th>Issuing country code</th>\n",
       "      <th>Segment</th>\n",
       "      <th>Trading currency code</th>\n",
       "      <th>Trading unit (currency or %)</th>\n",
       "      <th>Registred date</th>\n",
       "      <th>Trade number</th>\n",
       "      <th>Trade indicator</th>\n",
       "      <th>Trade date</th>\n",
       "      <th>Trade time</th>\n",
       "      <th>Cross-trade indicator</th>\n",
       "      <th>Price (in trading currency)</th>\n",
       "      <th>Volume</th>\n",
       "      <th>Turnover in euro</th>\n",
       "    </tr>\n",
       "  </thead>\n",
       "  <tbody>\n",
       "    <tr>\n",
       "      <th>0</th>\n",
       "      <td>283259</td>\n",
       "      <td>PTBIXRYE0025</td>\n",
       "      <td>BCP IBEX 35</td>\n",
       "      <td>Lisbon</td>\n",
       "      <td>Certificate</td>\n",
       "      <td>PRT</td>\n",
       "      <td></td>\n",
       "      <td>EUR</td>\n",
       "      <td>1</td>\n",
       "      <td>2019-05-20</td>\n",
       "      <td>272969</td>\n",
       "      <td>1</td>\n",
       "      <td>2019-05-20</td>\n",
       "      <td>13:47:18:871798</td>\n",
       "      <td>0</td>\n",
       "      <td>92.05</td>\n",
       "      <td>30</td>\n",
       "      <td>2761.5</td>\n",
       "    </tr>\n",
       "    <tr>\n",
       "      <th>1</th>\n",
       "      <td>1364220</td>\n",
       "      <td>PTMENWOM0007</td>\n",
       "      <td>MOTA 4.5% 28NOV22</td>\n",
       "      <td>Lisbon</td>\n",
       "      <td>Other bond</td>\n",
       "      <td>PRT</td>\n",
       "      <td></td>\n",
       "      <td>EUR</td>\n",
       "      <td>2</td>\n",
       "      <td>2019-05-20</td>\n",
       "      <td>857852</td>\n",
       "      <td>1</td>\n",
       "      <td>2019-05-20</td>\n",
       "      <td>14:30:00:004348</td>\n",
       "      <td>0</td>\n",
       "      <td>101.76</td>\n",
       "      <td>12500</td>\n",
       "      <td>12720</td>\n",
       "    </tr>\n",
       "    <tr>\n",
       "      <th>2</th>\n",
       "      <td>377693</td>\n",
       "      <td>PTBIWWYE0052</td>\n",
       "      <td>BCP OURO</td>\n",
       "      <td>Lisbon</td>\n",
       "      <td>Certificate</td>\n",
       "      <td>PRT</td>\n",
       "      <td></td>\n",
       "      <td>EUR</td>\n",
       "      <td>1</td>\n",
       "      <td>2019-05-20</td>\n",
       "      <td>14697</td>\n",
       "      <td>1</td>\n",
       "      <td>2019-05-20</td>\n",
       "      <td>15:21:58:804471</td>\n",
       "      <td>0</td>\n",
       "      <td>106.1</td>\n",
       "      <td>10</td>\n",
       "      <td>1061</td>\n",
       "    </tr>\n",
       "    <tr>\n",
       "      <th>3</th>\n",
       "      <td>1456889</td>\n",
       "      <td>DE000CJ36V67</td>\n",
       "      <td>DAX  11700TL 0619Z</td>\n",
       "      <td>Lisbon</td>\n",
       "      <td>Warrant</td>\n",
       "      <td>DEU</td>\n",
       "      <td></td>\n",
       "      <td>EUR</td>\n",
       "      <td>1</td>\n",
       "      <td>2019-05-20</td>\n",
       "      <td>223044</td>\n",
       "      <td>1</td>\n",
       "      <td>2019-05-20</td>\n",
       "      <td>10:31:53:064227</td>\n",
       "      <td>0</td>\n",
       "      <td>2.08</td>\n",
       "      <td>1250</td>\n",
       "      <td>2600</td>\n",
       "    </tr>\n",
       "    <tr>\n",
       "      <th>4</th>\n",
       "      <td>1281017</td>\n",
       "      <td>PTOTVMOE0000</td>\n",
       "      <td>OTRV FRN 23JUL25</td>\n",
       "      <td>Lisbon</td>\n",
       "      <td>Government bond</td>\n",
       "      <td>PRT</td>\n",
       "      <td></td>\n",
       "      <td>EUR</td>\n",
       "      <td>2</td>\n",
       "      <td>2019-05-20</td>\n",
       "      <td>858309</td>\n",
       "      <td>1</td>\n",
       "      <td>2019-05-20</td>\n",
       "      <td>12:25:16:744907</td>\n",
       "      <td>0</td>\n",
       "      <td>103.79</td>\n",
       "      <td>3000</td>\n",
       "      <td>3113.7</td>\n",
       "    </tr>\n",
       "  </tbody>\n",
       "</table>\n",
       "</div>"
      ],
      "text/plain": [
       "  Internal code     ISIN code       ...        Volume Turnover in euro\n",
       "0        283259  PTBIXRYE0025       ...            30           2761.5\n",
       "1       1364220  PTMENWOM0007       ...         12500            12720\n",
       "2        377693  PTBIWWYE0052       ...            10             1061\n",
       "3       1456889  DE000CJ36V67       ...          1250             2600\n",
       "4       1281017  PTOTVMOE0000       ...          3000           3113.7\n",
       "\n",
       "[5 rows x 18 columns]"
      ]
     },
     "execution_count": 51,
     "metadata": {},
     "output_type": "execute_result"
    }
   ],
   "source": [
    "df2 = df2.iloc[:,0].str.split(';', expand=True)\n",
    "\n",
    "df2.columns = new_header #set the header row as the df header\n",
    "\n",
    "df2.head()"
   ]
  },
  {
   "cell_type": "code",
   "execution_count": 52,
   "metadata": {},
   "outputs": [
    {
     "data": {
      "text/plain": [
       "(16075, 18)"
      ]
     },
     "execution_count": 52,
     "metadata": {},
     "output_type": "execute_result"
    }
   ],
   "source": [
    "df2.shape"
   ]
  },
  {
   "cell_type": "code",
   "execution_count": 53,
   "metadata": {},
   "outputs": [
    {
     "name": "stdout",
     "output_type": "stream",
     "text": [
      "Index(['Internal code', 'ISIN code', 'Instrument name', 'Trading Place',\n",
      "       'Category', 'Issuing country code', 'Segment', 'Trading currency code',\n",
      "       'Trading unit (currency or %)', 'Registred date', 'Trade number',\n",
      "       'Trade indicator', 'Trade date', 'Trade time', 'Cross-trade indicator',\n",
      "       'Price (in trading currency)', 'Volume', 'Turnover in euro'],\n",
      "      dtype='object')\n"
     ]
    }
   ],
   "source": [
    "print(df2.columns)"
   ]
  },
  {
   "cell_type": "code",
   "execution_count": 54,
   "metadata": {},
   "outputs": [
    {
     "data": {
      "text/html": [
       "<div>\n",
       "<style scoped>\n",
       "    .dataframe tbody tr th:only-of-type {\n",
       "        vertical-align: middle;\n",
       "    }\n",
       "\n",
       "    .dataframe tbody tr th {\n",
       "        vertical-align: top;\n",
       "    }\n",
       "\n",
       "    .dataframe thead th {\n",
       "        text-align: right;\n",
       "    }\n",
       "</style>\n",
       "<table border=\"1\" class=\"dataframe\">\n",
       "  <thead>\n",
       "    <tr style=\"text-align: right;\">\n",
       "      <th></th>\n",
       "      <th>percent_missing</th>\n",
       "    </tr>\n",
       "    <tr>\n",
       "      <th>0</th>\n",
       "      <th></th>\n",
       "    </tr>\n",
       "  </thead>\n",
       "  <tbody>\n",
       "    <tr>\n",
       "      <th>D</th>\n",
       "      <td>0.000000</td>\n",
       "    </tr>\n",
       "    <tr>\n",
       "      <th>MarketPlace</th>\n",
       "      <td>0.000000</td>\n",
       "    </tr>\n",
       "    <tr>\n",
       "      <th>AssetClass</th>\n",
       "      <td>0.000000</td>\n",
       "    </tr>\n",
       "    <tr>\n",
       "      <th>AssetGroup</th>\n",
       "      <td>0.000991</td>\n",
       "    </tr>\n",
       "    <tr>\n",
       "      <th>ExchangeCode</th>\n",
       "      <td>0.000991</td>\n",
       "    </tr>\n",
       "    <tr>\n",
       "      <th>InstrumentType</th>\n",
       "      <td>0.000991</td>\n",
       "    </tr>\n",
       "    <tr>\n",
       "      <th>InstrumentTrading Symbol</th>\n",
       "      <td>0.000991</td>\n",
       "    </tr>\n",
       "    <tr>\n",
       "      <th>InstrumentID</th>\n",
       "      <td>0.000991</td>\n",
       "    </tr>\n",
       "    <tr>\n",
       "      <th>ExpiryDate</th>\n",
       "      <td>0.000991</td>\n",
       "    </tr>\n",
       "    <tr>\n",
       "      <th>ExercisePrice</th>\n",
       "      <td>0.000991</td>\n",
       "    </tr>\n",
       "    <tr>\n",
       "      <th>ActualExercisePrice</th>\n",
       "      <td>0.000991</td>\n",
       "    </tr>\n",
       "    <tr>\n",
       "      <th>OptionCategory</th>\n",
       "      <td>0.000991</td>\n",
       "    </tr>\n",
       "    <tr>\n",
       "      <th>Open</th>\n",
       "      <td>35.395564</td>\n",
       "    </tr>\n",
       "    <tr>\n",
       "      <th>High</th>\n",
       "      <td>35.395564</td>\n",
       "    </tr>\n",
       "    <tr>\n",
       "      <th>Low</th>\n",
       "      <td>35.395564</td>\n",
       "    </tr>\n",
       "    <tr>\n",
       "      <th>TradeCount</th>\n",
       "      <td>0.000991</td>\n",
       "    </tr>\n",
       "    <tr>\n",
       "      <th>Close</th>\n",
       "      <td>35.395564</td>\n",
       "    </tr>\n",
       "    <tr>\n",
       "      <th>Settlement</th>\n",
       "      <td>35.823736</td>\n",
       "    </tr>\n",
       "    <tr>\n",
       "      <th>COBVolume</th>\n",
       "      <td>0.000991</td>\n",
       "    </tr>\n",
       "    <tr>\n",
       "      <th>OffCOBVolume</th>\n",
       "      <td>0.000991</td>\n",
       "    </tr>\n",
       "    <tr>\n",
       "      <th>TotalVolume</th>\n",
       "      <td>0.000991</td>\n",
       "    </tr>\n",
       "    <tr>\n",
       "      <th>OpenInterest</th>\n",
       "      <td>0.000991</td>\n",
       "    </tr>\n",
       "    <tr>\n",
       "      <th>OpenInterestDate</th>\n",
       "      <td>0.000991</td>\n",
       "    </tr>\n",
       "    <tr>\n",
       "      <th>EndofDayDelta</th>\n",
       "      <td>0.000991</td>\n",
       "    </tr>\n",
       "    <tr>\n",
       "      <th>Volatility</th>\n",
       "      <td>0.000991</td>\n",
       "    </tr>\n",
       "    <tr>\n",
       "      <th>VolatilityForValuation</th>\n",
       "      <td>36.132971</td>\n",
       "    </tr>\n",
       "  </tbody>\n",
       "</table>\n",
       "</div>"
      ],
      "text/plain": [
       "                          percent_missing\n",
       "0                                        \n",
       "D                                0.000000\n",
       "MarketPlace                      0.000000\n",
       "AssetClass                       0.000000\n",
       "AssetGroup                       0.000991\n",
       "ExchangeCode                     0.000991\n",
       "InstrumentType                   0.000991\n",
       "InstrumentTrading Symbol         0.000991\n",
       "InstrumentID                     0.000991\n",
       "ExpiryDate                       0.000991\n",
       "ExercisePrice                    0.000991\n",
       "ActualExercisePrice              0.000991\n",
       "OptionCategory                   0.000991\n",
       "Open                            35.395564\n",
       "High                            35.395564\n",
       "Low                             35.395564\n",
       "TradeCount                       0.000991\n",
       "Close                           35.395564\n",
       "Settlement                      35.823736\n",
       "COBVolume                        0.000991\n",
       "OffCOBVolume                     0.000991\n",
       "TotalVolume                      0.000991\n",
       "OpenInterest                     0.000991\n",
       "OpenInterestDate                 0.000991\n",
       "EndofDayDelta                    0.000991\n",
       "Volatility                       0.000991\n",
       "VolatilityForValuation          36.132971"
      ]
     },
     "execution_count": 54,
     "metadata": {},
     "output_type": "execute_result"
    }
   ],
   "source": [
    "percent_missing = df.isnull().sum() * 100 / len(df)\n",
    "missing_values = pd.DataFrame({'percent_missing': percent_missing})\n",
    "missing_values"
   ]
  },
  {
   "cell_type": "markdown",
   "metadata": {},
   "source": [
    "## Data Visualisation"
   ]
  },
  {
   "cell_type": "code",
   "execution_count": 55,
   "metadata": {},
   "outputs": [
    {
     "data": {
      "image/png": "[encoded data removed]",
      "text/plain": [
       "<Figure size 432x288 with 1 Axes>"
      ]
     },
     "metadata": {},
     "output_type": "display_data"
    }
   ],
   "source": [
    "df2['Turnover in euro'] = pd.to_numeric(df2['Turnover in euro'], errors='coerce')\n",
    "#df['ExercisePrice'].value_counts()\n",
    "df2['Turnover in euro'].plot()\n",
    "plt.title(\"Turnover in euro\")\n",
    "plt.show()"
   ]
  }
 ],
 "metadata": {
  "kernelspec": {
   "display_name": "Python 3",
   "language": "python",
   "name": "python3"
  },
  "language_info": {
   "codemirror_mode": {
    "name": "ipython",
    "version": 3
   },
   "file_extension": ".py",
   "mimetype": "text/x-python",
   "name": "python",
   "nbconvert_exporter": "python",
   "pygments_lexer": "ipython3",
   "version": "3.7.0"
  }
 },
 "nbformat": 4,
 "nbformat_minor": 1
}
