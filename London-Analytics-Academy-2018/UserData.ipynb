{
 "cells": [
  {
   "cell_type": "code",
   "execution_count": 1,
   "metadata": {},
   "outputs": [],
   "source": [
    "from IPython.display import HTML\n",
    "import warnings\n",
    "import pandas as pd\n",
    "import numpy as np\n",
    "import scipy as sp\n",
    "import matplotlib.pyplot as plt\n",
    "import seaborn as sns"
   ]
  },
  {
   "cell_type": "code",
   "execution_count": 2,
   "metadata": {},
   "outputs": [
    {
     "data": {
      "text/html": [
       "\n",
       "<script>\n",
       "  function code_toggle() {\n",
       "    if (code_shown){\n",
       "      $('div.input').hide('500');\n",
       "      $('#toggleButton').val('Show Code')\n",
       "    } else {\n",
       "      $('div.input').show('500');\n",
       "      $('#toggleButton').val('Hide Code')\n",
       "    }\n",
       "    code_shown = !code_shown\n",
       "  }\n",
       "\n",
       "  $( document ).ready(function(){\n",
       "    code_shown=false;\n",
       "    $('div.input').hide()\n",
       "  });\n",
       "</script>\n",
       "<form action=\"javascript:code_toggle()\"><input type=\"submit\" id=\"toggleButton\" value=\"Show Code\"></form>"
      ],
      "text/plain": [
       "<IPython.core.display.HTML object>"
      ]
     },
     "execution_count": 2,
     "metadata": {},
     "output_type": "execute_result"
    }
   ],
   "source": [
    "HTML('''\n",
    "<script>\n",
    "  function code_toggle() {\n",
    "    if (code_shown){\n",
    "      $('div.input').hide('500');\n",
    "      $('#toggleButton').val('Show Code')\n",
    "    } else {\n",
    "      $('div.input').show('500');\n",
    "      $('#toggleButton').val('Hide Code')\n",
    "    }\n",
    "    code_shown = !code_shown\n",
    "  }\n",
    "\n",
    "  $( document ).ready(function(){\n",
    "    code_shown=false;\n",
    "    $('div.input').hide()\n",
    "  });\n",
    "</script>\n",
    "<form action=\"javascript:code_toggle()\"><input type=\"submit\" id=\"toggleButton\" value=\"Show Code\"></form>''')"
   ]
  },
  {
   "cell_type": "code",
   "execution_count": 2,
   "metadata": {},
   "outputs": [],
   "source": [
    "warnings.filterwarnings(\"ignore\")"
   ]
  },
  {
   "cell_type": "code",
   "execution_count": 3,
   "metadata": {},
   "outputs": [
    {
     "data": {
      "text/html": [
       "<div>\n",
       "<style scoped>\n",
       "    .dataframe tbody tr th:only-of-type {\n",
       "        vertical-align: middle;\n",
       "    }\n",
       "\n",
       "    .dataframe tbody tr th {\n",
       "        vertical-align: top;\n",
       "    }\n",
       "\n",
       "    .dataframe thead th {\n",
       "        text-align: right;\n",
       "    }\n",
       "</style>\n",
       "<table border=\"1\" class=\"dataframe\">\n",
       "  <thead>\n",
       "    <tr style=\"text-align: right;\">\n",
       "      <th></th>\n",
       "      <th>Unnamed: 0</th>\n",
       "      <th>users</th>\n",
       "      <th>country</th>\n",
       "      <th>first_login</th>\n",
       "      <th>last_login</th>\n",
       "      <th>days_since_login</th>\n",
       "      <th>l7</th>\n",
       "      <th>l28</th>\n",
       "      <th>age</th>\n",
       "      <th>gender</th>\n",
       "    </tr>\n",
       "  </thead>\n",
       "  <tbody>\n",
       "    <tr>\n",
       "      <th>0</th>\n",
       "      <td>1</td>\n",
       "      <td>565081343591</td>\n",
       "      <td>IN</td>\n",
       "      <td>2017-12-26</td>\n",
       "      <td>2017-12-27</td>\n",
       "      <td>0</td>\n",
       "      <td>1</td>\n",
       "      <td>1</td>\n",
       "      <td>25 - 34</td>\n",
       "      <td>F</td>\n",
       "    </tr>\n",
       "    <tr>\n",
       "      <th>1</th>\n",
       "      <td>2</td>\n",
       "      <td>689345632345</td>\n",
       "      <td>IN</td>\n",
       "      <td>2017-12-26</td>\n",
       "      <td>2017-12-27</td>\n",
       "      <td>0</td>\n",
       "      <td>1</td>\n",
       "      <td>1</td>\n",
       "      <td>45 - 54</td>\n",
       "      <td>F</td>\n",
       "    </tr>\n",
       "    <tr>\n",
       "      <th>2</th>\n",
       "      <td>3</td>\n",
       "      <td>129128140915</td>\n",
       "      <td>US</td>\n",
       "      <td>2017-12-26</td>\n",
       "      <td>2017-12-27</td>\n",
       "      <td>0</td>\n",
       "      <td>1</td>\n",
       "      <td>1</td>\n",
       "      <td>35 - 44</td>\n",
       "      <td>F</td>\n",
       "    </tr>\n",
       "    <tr>\n",
       "      <th>3</th>\n",
       "      <td>4</td>\n",
       "      <td>983796647630</td>\n",
       "      <td>TR</td>\n",
       "      <td>2017-12-26</td>\n",
       "      <td>2017-12-27</td>\n",
       "      <td>0</td>\n",
       "      <td>1</td>\n",
       "      <td>1</td>\n",
       "      <td>55+</td>\n",
       "      <td>F</td>\n",
       "    </tr>\n",
       "    <tr>\n",
       "      <th>4</th>\n",
       "      <td>5</td>\n",
       "      <td>527285563274</td>\n",
       "      <td>IN</td>\n",
       "      <td>2017-12-26</td>\n",
       "      <td>2017-12-27</td>\n",
       "      <td>0</td>\n",
       "      <td>1</td>\n",
       "      <td>1</td>\n",
       "      <td>25 - 34</td>\n",
       "      <td>F</td>\n",
       "    </tr>\n",
       "  </tbody>\n",
       "</table>\n",
       "</div>"
      ],
      "text/plain": [
       "   Unnamed: 0         users country first_login  last_login  days_since_login  \\\n",
       "0           1  565081343591      IN  2017-12-26  2017-12-27                 0   \n",
       "1           2  689345632345      IN  2017-12-26  2017-12-27                 0   \n",
       "2           3  129128140915      US  2017-12-26  2017-12-27                 0   \n",
       "3           4  983796647630      TR  2017-12-26  2017-12-27                 0   \n",
       "4           5  527285563274      IN  2017-12-26  2017-12-27                 0   \n",
       "\n",
       "   l7  l28      age gender  \n",
       "0   1    1  25 - 34      F  \n",
       "1   1    1  45 - 54      F  \n",
       "2   1    1  35 - 44      F  \n",
       "3   1    1      55+      F  \n",
       "4   1    1  25 - 34      F  "
      ]
     },
     "execution_count": 3,
     "metadata": {},
     "output_type": "execute_result"
    }
   ],
   "source": [
    "df = pd.read_csv(\"C:\\\\Users\\\\hp\\\\Desktop\\\\AI\\\\Event Challenges\\\\Facebook Academy\\\\Facebook Analytics Academy\\\\user_data.csv\")\n",
    "#print(ds)\n",
    "df.head()"
   ]
  },
  {
   "cell_type": "code",
   "execution_count": 4,
   "metadata": {},
   "outputs": [],
   "source": [
    "df = df.drop('Unnamed: 0', axis=1)"
   ]
  },
  {
   "cell_type": "code",
   "execution_count": 5,
   "metadata": {},
   "outputs": [
    {
     "data": {
      "text/html": [
       "<div>\n",
       "<style scoped>\n",
       "    .dataframe tbody tr th:only-of-type {\n",
       "        vertical-align: middle;\n",
       "    }\n",
       "\n",
       "    .dataframe tbody tr th {\n",
       "        vertical-align: top;\n",
       "    }\n",
       "\n",
       "    .dataframe thead th {\n",
       "        text-align: right;\n",
       "    }\n",
       "</style>\n",
       "<table border=\"1\" class=\"dataframe\">\n",
       "  <thead>\n",
       "    <tr style=\"text-align: right;\">\n",
       "      <th></th>\n",
       "      <th>users</th>\n",
       "      <th>country</th>\n",
       "      <th>first_login</th>\n",
       "      <th>last_login</th>\n",
       "      <th>days_since_login</th>\n",
       "      <th>l7</th>\n",
       "      <th>l28</th>\n",
       "      <th>age</th>\n",
       "      <th>gender</th>\n",
       "    </tr>\n",
       "  </thead>\n",
       "  <tbody>\n",
       "    <tr>\n",
       "      <th>0</th>\n",
       "      <td>565081343591</td>\n",
       "      <td>IN</td>\n",
       "      <td>2017-12-26</td>\n",
       "      <td>2017-12-27</td>\n",
       "      <td>0</td>\n",
       "      <td>1</td>\n",
       "      <td>1</td>\n",
       "      <td>25 - 34</td>\n",
       "      <td>F</td>\n",
       "    </tr>\n",
       "    <tr>\n",
       "      <th>1</th>\n",
       "      <td>689345632345</td>\n",
       "      <td>IN</td>\n",
       "      <td>2017-12-26</td>\n",
       "      <td>2017-12-27</td>\n",
       "      <td>0</td>\n",
       "      <td>1</td>\n",
       "      <td>1</td>\n",
       "      <td>45 - 54</td>\n",
       "      <td>F</td>\n",
       "    </tr>\n",
       "    <tr>\n",
       "      <th>2</th>\n",
       "      <td>129128140915</td>\n",
       "      <td>US</td>\n",
       "      <td>2017-12-26</td>\n",
       "      <td>2017-12-27</td>\n",
       "      <td>0</td>\n",
       "      <td>1</td>\n",
       "      <td>1</td>\n",
       "      <td>35 - 44</td>\n",
       "      <td>F</td>\n",
       "    </tr>\n",
       "    <tr>\n",
       "      <th>3</th>\n",
       "      <td>983796647630</td>\n",
       "      <td>TR</td>\n",
       "      <td>2017-12-26</td>\n",
       "      <td>2017-12-27</td>\n",
       "      <td>0</td>\n",
       "      <td>1</td>\n",
       "      <td>1</td>\n",
       "      <td>55+</td>\n",
       "      <td>F</td>\n",
       "    </tr>\n",
       "    <tr>\n",
       "      <th>4</th>\n",
       "      <td>527285563274</td>\n",
       "      <td>IN</td>\n",
       "      <td>2017-12-26</td>\n",
       "      <td>2017-12-27</td>\n",
       "      <td>0</td>\n",
       "      <td>1</td>\n",
       "      <td>1</td>\n",
       "      <td>25 - 34</td>\n",
       "      <td>F</td>\n",
       "    </tr>\n",
       "  </tbody>\n",
       "</table>\n",
       "</div>"
      ],
      "text/plain": [
       "          users country first_login  last_login  days_since_login  l7  l28  \\\n",
       "0  565081343591      IN  2017-12-26  2017-12-27                 0   1    1   \n",
       "1  689345632345      IN  2017-12-26  2017-12-27                 0   1    1   \n",
       "2  129128140915      US  2017-12-26  2017-12-27                 0   1    1   \n",
       "3  983796647630      TR  2017-12-26  2017-12-27                 0   1    1   \n",
       "4  527285563274      IN  2017-12-26  2017-12-27                 0   1    1   \n",
       "\n",
       "       age gender  \n",
       "0  25 - 34      F  \n",
       "1  45 - 54      F  \n",
       "2  35 - 44      F  \n",
       "3      55+      F  \n",
       "4  25 - 34      F  "
      ]
     },
     "execution_count": 5,
     "metadata": {},
     "output_type": "execute_result"
    }
   ],
   "source": [
    "df.head()"
   ]
  },
  {
   "cell_type": "code",
   "execution_count": 6,
   "metadata": {},
   "outputs": [
    {
     "data": {
      "text/plain": [
       "(5000, 9)"
      ]
     },
     "execution_count": 6,
     "metadata": {},
     "output_type": "execute_result"
    }
   ],
   "source": [
    "df.shape"
   ]
  },
  {
   "cell_type": "code",
   "execution_count": 7,
   "metadata": {},
   "outputs": [
    {
     "data": {
      "text/plain": [
       "<matplotlib.axes._subplots.AxesSubplot at 0x20936709198>"
      ]
     },
     "execution_count": 7,
     "metadata": {},
     "output_type": "execute_result"
    },
    {
     "data": {
      "image/png": "[encoded data removed]",
      "text/plain": [
       "<Figure size 432x288 with 2 Axes>"
      ]
     },
     "metadata": {
      "needs_background": "light"
     },
     "output_type": "display_data"
    }
   ],
   "source": [
    "corr=df.corr()\n",
    "sns.heatmap(corr, xticklabels=corr.columns.values, yticklabels=corr.columns.values)"
   ]
  },
  {
   "cell_type": "code",
   "execution_count": 8,
   "metadata": {},
   "outputs": [
    {
     "data": {
      "text/plain": [
       "<matplotlib.axes._subplots.AxesSubplot at 0x20938840ba8>"
      ]
     },
     "execution_count": 8,
     "metadata": {},
     "output_type": "execute_result"
    },
    {
     "data": {
      "image/png": "[encoded data removed]",
      "text/plain": [
       "<Figure size 432x288 with 1 Axes>"
      ]
     },
     "metadata": {
      "needs_background": "light"
     },
     "output_type": "display_data"
    }
   ],
   "source": [
    "sns.countplot(x = 'country',data = df,hue = 'country')"
   ]
  },
  {
   "cell_type": "code",
   "execution_count": 24,
   "metadata": {},
   "outputs": [
    {
     "data": {
      "text/plain": [
       "<matplotlib.axes._subplots.AxesSubplot at 0x209482fdcc0>"
      ]
     },
     "execution_count": 24,
     "metadata": {},
     "output_type": "execute_result"
    },
    {
     "data": {
      "image/png": "[encoded data removed]",
      "text/plain": [
       "<Figure size 432x288 with 1 Axes>"
      ]
     },
     "metadata": {
      "needs_background": "light"
     },
     "output_type": "display_data"
    }
   ],
   "source": [
    "sns.countplot(x = 'l7',data = df,hue = 'l7')"
   ]
  },
  {
   "cell_type": "code",
   "execution_count": 25,
   "metadata": {},
   "outputs": [
    {
     "data": {
      "text/plain": [
       "<matplotlib.axes._subplots.AxesSubplot at 0x20940d58320>"
      ]
     },
     "execution_count": 25,
     "metadata": {},
     "output_type": "execute_result"
    },
    {
     "data": {
      "image/png": "[encoded data removed]",
      "text/plain": [
       "<Figure size 432x288 with 1 Axes>"
      ]
     },
     "metadata": {
      "needs_background": "light"
     },
     "output_type": "display_data"
    }
   ],
   "source": [
    "sns.countplot(x = 'l28',data = df,hue = 'l28')"
   ]
  },
  {
   "cell_type": "code",
   "execution_count": null,
   "metadata": {},
   "outputs": [],
   "source": [
    "sns.countplot(x = 'gender',data = df,hue = 'gender')"
   ]
  },
  {
   "cell_type": "code",
   "execution_count": 20,
   "metadata": {},
   "outputs": [
    {
     "data": {
      "text/plain": [
       "<matplotlib.axes._subplots.AxesSubplot at 0x209408adb00>"
      ]
     },
     "execution_count": 20,
     "metadata": {},
     "output_type": "execute_result"
    },
    {
     "data": {
      "image/png": "[encoded data removed]",
      "text/plain": [
       "<Figure size 432x288 with 1 Axes>"
      ]
     },
     "metadata": {
      "needs_background": "light"
     },
     "output_type": "display_data"
    }
   ],
   "source": [
    "sns.countplot(x = 'age',data = df,palette=\"Set3\")"
   ]
  },
  {
   "cell_type": "code",
   "execution_count": 23,
   "metadata": {},
   "outputs": [
    {
     "name": "stdout",
     "output_type": "stream",
     "text": [
      "There are no duplicates in users, each user has his unique id\n",
      "users\n",
      "999904656149    1\n",
      "254292271776    1\n",
      "251843711336    1\n",
      "252518713421    1\n",
      "252718550261    1\n",
      "253282550886    1\n",
      "253340828538    1\n",
      "253719259151    1\n",
      "253931149574    1\n",
      "254437954475    1\n",
      "251321963429    1\n",
      "254801686960    1\n",
      "255507213028    1\n",
      "256008585948    1\n",
      "256011752944    1\n",
      "256332386660    1\n",
      "256652695441    1\n",
      "256777751761    1\n",
      "251743603078    1\n",
      "251249214126    1\n",
      "227227972584    1\n",
      "249461104507    1\n",
      "247939416093    1\n",
      "248116155458    1\n",
      "248440351256    1\n",
      "248779371211    1\n",
      "248931290272    1\n",
      "249003708766    1\n",
      "249437636234    1\n",
      "249909460958    1\n",
      "               ..\n",
      "624433422284    1\n",
      "624462671251    1\n",
      "616702593911    1\n",
      "624697179289    1\n",
      "624785165990    1\n",
      "624885765484    1\n",
      "625212562375    1\n",
      "625270786748    1\n",
      "625529224458    1\n",
      "626011340465    1\n",
      "621737975868    1\n",
      "619762907126    1\n",
      "619658567559    1\n",
      "619596245056    1\n",
      "616942444935    1\n",
      "617260476681    1\n",
      "617423274113    1\n",
      "617461927411    1\n",
      "617650334894    1\n",
      "617835338413    1\n",
      "617907974362    1\n",
      "617963843986    1\n",
      "618457214059    1\n",
      "618509459120    1\n",
      "618911949298    1\n",
      "618989888351    1\n",
      "619191310754    1\n",
      "619206262656    1\n",
      "619284797849    1\n",
      "72613620        1\n",
      "Length: 5000, dtype: int64\n"
     ]
    }
   ],
   "source": [
    "duplicatesnumber = df.pivot_table(index=['users'], aggfunc='size')\n",
    "sortedlist = duplicatesnumber.sort_values(ascending = False) \n",
    "print(\"There are no duplicates in users, each user has his unique id\")\n",
    "print(sortedlist)"
   ]
  },
  {
   "cell_type": "code",
   "execution_count": 19,
   "metadata": {},
   "outputs": [
    {
     "data": {
      "text/plain": [
       "<matplotlib.axes._subplots.AxesSubplot at 0x2093d864a58>"
      ]
     },
     "execution_count": 19,
     "metadata": {},
     "output_type": "execute_result"
    },
    {
     "data": {
      "image/png": "[encoded data removed]",
      "text/plain": [
       "<Figure size 1440x864 with 1 Axes>"
      ]
     },
     "metadata": {
      "needs_background": "light"
     },
     "output_type": "display_data"
    }
   ],
   "source": [
    "plt.figure(figsize = (20,12))\n",
    "sns.countplot(x = 'days_since_login',data = df,palette=\"Set3\")"
   ]
  }
 ],
 "metadata": {
  "kernelspec": {
   "display_name": "Python 3",
   "language": "python",
   "name": "python3"
  },
  "language_info": {
   "codemirror_mode": {
    "name": "ipython",
    "version": 3
   },
   "file_extension": ".py",
   "mimetype": "text/x-python",
   "name": "python",
   "nbconvert_exporter": "python",
   "pygments_lexer": "ipython3",
   "version": "3.7.0"
  }
 },
 "nbformat": 4,
 "nbformat_minor": 2
}
