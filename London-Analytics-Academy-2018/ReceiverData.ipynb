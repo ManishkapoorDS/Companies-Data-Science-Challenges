{
 "cells": [
  {
   "cell_type": "code",
   "execution_count": 2,
   "metadata": {},
   "outputs": [],
   "source": [
    "from IPython.display import HTML\n",
    "import warnings\n",
    "import pandas as pd\n",
    "import numpy as np\n",
    "import scipy as sp\n",
    "import matplotlib.pyplot as plt\n",
    "import seaborn as sns\n",
    "import datetime as dt"
   ]
  },
  {
   "cell_type": "code",
   "execution_count": 2,
   "metadata": {},
   "outputs": [
    {
     "data": {
      "text/html": [
       "\n",
       "<script>\n",
       "  function code_toggle() {\n",
       "    if (code_shown){\n",
       "      $('div.input').hide('500');\n",
       "      $('#toggleButton').val('Show Code')\n",
       "    } else {\n",
       "      $('div.input').show('500');\n",
       "      $('#toggleButton').val('Hide Code')\n",
       "    }\n",
       "    code_shown = !code_shown\n",
       "  }\n",
       "\n",
       "  $( document ).ready(function(){\n",
       "    code_shown=false;\n",
       "    $('div.input').hide()\n",
       "  });\n",
       "</script>\n",
       "<form action=\"javascript:code_toggle()\"><input type=\"submit\" id=\"toggleButton\" value=\"Show Code\"></form>"
      ],
      "text/plain": [
       "<IPython.core.display.HTML object>"
      ]
     },
     "execution_count": 2,
     "metadata": {},
     "output_type": "execute_result"
    }
   ],
   "source": [
    "HTML('''\n",
    "<script>\n",
    "  function code_toggle() {\n",
    "    if (code_shown){\n",
    "      $('div.input').hide('500');\n",
    "      $('#toggleButton').val('Show Code')\n",
    "    } else {\n",
    "      $('div.input').show('500');\n",
    "      $('#toggleButton').val('Hide Code')\n",
    "    }\n",
    "    code_shown = !code_shown\n",
    "  }\n",
    "\n",
    "  $( document ).ready(function(){\n",
    "    code_shown=false;\n",
    "    $('div.input').hide()\n",
    "  });\n",
    "</script>\n",
    "<form action=\"javascript:code_toggle()\"><input type=\"submit\" id=\"toggleButton\" value=\"Show Code\"></form>''')"
   ]
  },
  {
   "cell_type": "code",
   "execution_count": 3,
   "metadata": {},
   "outputs": [],
   "source": [
    "warnings.filterwarnings(\"ignore\")"
   ]
  },
  {
   "cell_type": "code",
   "execution_count": 3,
   "metadata": {},
   "outputs": [
    {
     "data": {
      "text/html": [
       "<div>\n",
       "<style scoped>\n",
       "    .dataframe tbody tr th:only-of-type {\n",
       "        vertical-align: middle;\n",
       "    }\n",
       "\n",
       "    .dataframe tbody tr th {\n",
       "        vertical-align: top;\n",
       "    }\n",
       "\n",
       "    .dataframe thead th {\n",
       "        text-align: right;\n",
       "    }\n",
       "</style>\n",
       "<table border=\"1\" class=\"dataframe\">\n",
       "  <thead>\n",
       "    <tr style=\"text-align: right;\">\n",
       "      <th></th>\n",
       "      <th>Unnamed: 0</th>\n",
       "      <th>message_id</th>\n",
       "      <th>user_id_receiver</th>\n",
       "      <th>datetime_received</th>\n",
       "      <th>datetime_opened</th>\n",
       "      <th>receiver_carrier</th>\n",
       "      <th>receiver_device_type</th>\n",
       "      <th>receiver_device_os</th>\n",
       "      <th>receiver_device_make</th>\n",
       "    </tr>\n",
       "  </thead>\n",
       "  <tbody>\n",
       "    <tr>\n",
       "      <th>0</th>\n",
       "      <td>1</td>\n",
       "      <td>147420</td>\n",
       "      <td>100092256234</td>\n",
       "      <td>2017-12-24 11:09:47</td>\n",
       "      <td>2017-12-24 11:09:49</td>\n",
       "      <td>O2 / Telefonica</td>\n",
       "      <td>tablet</td>\n",
       "      <td>iOS</td>\n",
       "      <td>iPad</td>\n",
       "    </tr>\n",
       "    <tr>\n",
       "      <th>1</th>\n",
       "      <td>2</td>\n",
       "      <td>123567</td>\n",
       "      <td>100092256234</td>\n",
       "      <td>2017-12-24 05:25:10</td>\n",
       "      <td>2017-12-24 05:25:13</td>\n",
       "      <td>Verizon</td>\n",
       "      <td>mobile</td>\n",
       "      <td>Android</td>\n",
       "      <td>Motorola</td>\n",
       "    </tr>\n",
       "    <tr>\n",
       "      <th>2</th>\n",
       "      <td>3</td>\n",
       "      <td>103163</td>\n",
       "      <td>100092256234</td>\n",
       "      <td>2017-12-24 00:35:46</td>\n",
       "      <td>2017-12-24 00:35:47</td>\n",
       "      <td>O2 / Telefonica</td>\n",
       "      <td>mobile</td>\n",
       "      <td>Android</td>\n",
       "      <td>OnePlus</td>\n",
       "    </tr>\n",
       "    <tr>\n",
       "      <th>3</th>\n",
       "      <td>4</td>\n",
       "      <td>144538</td>\n",
       "      <td>100092256234</td>\n",
       "      <td>2017-12-24 10:29:00</td>\n",
       "      <td>2017-12-24 10:39:00</td>\n",
       "      <td>Verizon</td>\n",
       "      <td>mobile</td>\n",
       "      <td>Android</td>\n",
       "      <td>OnePlus</td>\n",
       "    </tr>\n",
       "    <tr>\n",
       "      <th>4</th>\n",
       "      <td>5</td>\n",
       "      <td>107753</td>\n",
       "      <td>100092256234</td>\n",
       "      <td>2017-12-24 01:40:51</td>\n",
       "      <td>2017-12-24 01:42:51</td>\n",
       "      <td>AT&amp;T</td>\n",
       "      <td>mobile</td>\n",
       "      <td>Android</td>\n",
       "      <td>Motorola</td>\n",
       "    </tr>\n",
       "  </tbody>\n",
       "</table>\n",
       "</div>"
      ],
      "text/plain": [
       "   Unnamed: 0  message_id  user_id_receiver    datetime_received  \\\n",
       "0           1      147420      100092256234  2017-12-24 11:09:47   \n",
       "1           2      123567      100092256234  2017-12-24 05:25:10   \n",
       "2           3      103163      100092256234  2017-12-24 00:35:46   \n",
       "3           4      144538      100092256234  2017-12-24 10:29:00   \n",
       "4           5      107753      100092256234  2017-12-24 01:40:51   \n",
       "\n",
       "       datetime_opened receiver_carrier receiver_device_type  \\\n",
       "0  2017-12-24 11:09:49  O2 / Telefonica               tablet   \n",
       "1  2017-12-24 05:25:13          Verizon               mobile   \n",
       "2  2017-12-24 00:35:47  O2 / Telefonica               mobile   \n",
       "3  2017-12-24 10:39:00          Verizon               mobile   \n",
       "4  2017-12-24 01:42:51             AT&T               mobile   \n",
       "\n",
       "  receiver_device_os receiver_device_make  \n",
       "0                iOS                 iPad  \n",
       "1            Android             Motorola  \n",
       "2            Android              OnePlus  \n",
       "3            Android              OnePlus  \n",
       "4            Android             Motorola  "
      ]
     },
     "execution_count": 3,
     "metadata": {},
     "output_type": "execute_result"
    }
   ],
   "source": [
    "df = pd.read_csv(\"C:\\\\Users\\\\hp\\\\Desktop\\\\AI\\\\Event Challenges\\\\Facebook Academy\\\\Facebook Analytics Academy\\\\receiver_data.csv\")\n",
    "#print(ds)\n",
    "df.head()"
   ]
  },
  {
   "cell_type": "code",
   "execution_count": 4,
   "metadata": {},
   "outputs": [],
   "source": [
    "df = df.drop('Unnamed: 0', axis=1)"
   ]
  },
  {
   "cell_type": "code",
   "execution_count": 5,
   "metadata": {},
   "outputs": [
    {
     "data": {
      "text/html": [
       "<div>\n",
       "<style scoped>\n",
       "    .dataframe tbody tr th:only-of-type {\n",
       "        vertical-align: middle;\n",
       "    }\n",
       "\n",
       "    .dataframe tbody tr th {\n",
       "        vertical-align: top;\n",
       "    }\n",
       "\n",
       "    .dataframe thead th {\n",
       "        text-align: right;\n",
       "    }\n",
       "</style>\n",
       "<table border=\"1\" class=\"dataframe\">\n",
       "  <thead>\n",
       "    <tr style=\"text-align: right;\">\n",
       "      <th></th>\n",
       "      <th>message_id</th>\n",
       "      <th>user_id_receiver</th>\n",
       "      <th>datetime_received</th>\n",
       "      <th>datetime_opened</th>\n",
       "      <th>receiver_carrier</th>\n",
       "      <th>receiver_device_type</th>\n",
       "      <th>receiver_device_os</th>\n",
       "      <th>receiver_device_make</th>\n",
       "    </tr>\n",
       "  </thead>\n",
       "  <tbody>\n",
       "    <tr>\n",
       "      <th>0</th>\n",
       "      <td>147420</td>\n",
       "      <td>100092256234</td>\n",
       "      <td>2017-12-24 11:09:47</td>\n",
       "      <td>2017-12-24 11:09:49</td>\n",
       "      <td>O2 / Telefonica</td>\n",
       "      <td>tablet</td>\n",
       "      <td>iOS</td>\n",
       "      <td>iPad</td>\n",
       "    </tr>\n",
       "    <tr>\n",
       "      <th>1</th>\n",
       "      <td>123567</td>\n",
       "      <td>100092256234</td>\n",
       "      <td>2017-12-24 05:25:10</td>\n",
       "      <td>2017-12-24 05:25:13</td>\n",
       "      <td>Verizon</td>\n",
       "      <td>mobile</td>\n",
       "      <td>Android</td>\n",
       "      <td>Motorola</td>\n",
       "    </tr>\n",
       "    <tr>\n",
       "      <th>2</th>\n",
       "      <td>103163</td>\n",
       "      <td>100092256234</td>\n",
       "      <td>2017-12-24 00:35:46</td>\n",
       "      <td>2017-12-24 00:35:47</td>\n",
       "      <td>O2 / Telefonica</td>\n",
       "      <td>mobile</td>\n",
       "      <td>Android</td>\n",
       "      <td>OnePlus</td>\n",
       "    </tr>\n",
       "    <tr>\n",
       "      <th>3</th>\n",
       "      <td>144538</td>\n",
       "      <td>100092256234</td>\n",
       "      <td>2017-12-24 10:29:00</td>\n",
       "      <td>2017-12-24 10:39:00</td>\n",
       "      <td>Verizon</td>\n",
       "      <td>mobile</td>\n",
       "      <td>Android</td>\n",
       "      <td>OnePlus</td>\n",
       "    </tr>\n",
       "    <tr>\n",
       "      <th>4</th>\n",
       "      <td>107753</td>\n",
       "      <td>100092256234</td>\n",
       "      <td>2017-12-24 01:40:51</td>\n",
       "      <td>2017-12-24 01:42:51</td>\n",
       "      <td>AT&amp;T</td>\n",
       "      <td>mobile</td>\n",
       "      <td>Android</td>\n",
       "      <td>Motorola</td>\n",
       "    </tr>\n",
       "  </tbody>\n",
       "</table>\n",
       "</div>"
      ],
      "text/plain": [
       "   message_id  user_id_receiver    datetime_received      datetime_opened  \\\n",
       "0      147420      100092256234  2017-12-24 11:09:47  2017-12-24 11:09:49   \n",
       "1      123567      100092256234  2017-12-24 05:25:10  2017-12-24 05:25:13   \n",
       "2      103163      100092256234  2017-12-24 00:35:46  2017-12-24 00:35:47   \n",
       "3      144538      100092256234  2017-12-24 10:29:00  2017-12-24 10:39:00   \n",
       "4      107753      100092256234  2017-12-24 01:40:51  2017-12-24 01:42:51   \n",
       "\n",
       "  receiver_carrier receiver_device_type receiver_device_os  \\\n",
       "0  O2 / Telefonica               tablet                iOS   \n",
       "1          Verizon               mobile            Android   \n",
       "2  O2 / Telefonica               mobile            Android   \n",
       "3          Verizon               mobile            Android   \n",
       "4             AT&T               mobile            Android   \n",
       "\n",
       "  receiver_device_make  \n",
       "0                 iPad  \n",
       "1             Motorola  \n",
       "2              OnePlus  \n",
       "3              OnePlus  \n",
       "4             Motorola  "
      ]
     },
     "execution_count": 5,
     "metadata": {},
     "output_type": "execute_result"
    }
   ],
   "source": [
    "df.head()"
   ]
  },
  {
   "cell_type": "code",
   "execution_count": 6,
   "metadata": {},
   "outputs": [
    {
     "data": {
      "text/plain": [
       "(423852, 8)"
      ]
     },
     "execution_count": 6,
     "metadata": {},
     "output_type": "execute_result"
    }
   ],
   "source": [
    "df.shape"
   ]
  },
  {
   "cell_type": "code",
   "execution_count": 8,
   "metadata": {},
   "outputs": [
    {
     "data": {
      "text/plain": [
       "<matplotlib.axes._subplots.AxesSubplot at 0x276834b63c8>"
      ]
     },
     "execution_count": 8,
     "metadata": {},
     "output_type": "execute_result"
    },
    {
     "data": {
      "image/png": "[encoded data removed]",
      "text/plain": [
       "<Figure size 432x288 with 1 Axes>"
      ]
     },
     "metadata": {
      "needs_background": "light"
     },
     "output_type": "display_data"
    }
   ],
   "source": [
    "sns.countplot(x = 'receiver_device_os',data = df,hue = 'receiver_device_os')"
   ]
  },
  {
   "cell_type": "code",
   "execution_count": 9,
   "metadata": {},
   "outputs": [
    {
     "data": {
      "text/plain": [
       "<matplotlib.axes._subplots.AxesSubplot at 0x27687048588>"
      ]
     },
     "execution_count": 9,
     "metadata": {},
     "output_type": "execute_result"
    },
    {
     "data": {
      "image/png": "[encoded data removed]",
      "text/plain": [
       "<Figure size 432x288 with 1 Axes>"
      ]
     },
     "metadata": {
      "needs_background": "light"
     },
     "output_type": "display_data"
    }
   ],
   "source": [
    "sns.countplot(x = 'receiver_device_type',data = df,hue = 'receiver_device_type')"
   ]
  },
  {
   "cell_type": "code",
   "execution_count": 10,
   "metadata": {},
   "outputs": [
    {
     "data": {
      "text/plain": [
       "<matplotlib.axes._subplots.AxesSubplot at 0x276870d08d0>"
      ]
     },
     "execution_count": 10,
     "metadata": {},
     "output_type": "execute_result"
    },
    {
     "data": {
      "image/png": "[encoded data removed]",
      "text/plain": [
       "<Figure size 432x288 with 1 Axes>"
      ]
     },
     "metadata": {
      "needs_background": "light"
     },
     "output_type": "display_data"
    }
   ],
   "source": [
    "sns.countplot(x = 'receiver_carrier',data = df,hue = 'receiver_carrier')"
   ]
  },
  {
   "cell_type": "code",
   "execution_count": 86,
   "metadata": {},
   "outputs": [
    {
     "data": {
      "text/plain": [
       "<matplotlib.axes._subplots.AxesSubplot at 0x23f344aebe0>"
      ]
     },
     "execution_count": 86,
     "metadata": {},
     "output_type": "execute_result"
    },
    {
     "data": {
      "image/png": "[encoded data removed]",
      "text/plain": [
       "<Figure size 1440x864 with 1 Axes>"
      ]
     },
     "metadata": {
      "needs_background": "light"
     },
     "output_type": "display_data"
    }
   ],
   "source": [
    "plt.figure(figsize = (20,12))\n",
    "sns.countplot(x = 'receiver_device_make',data = df,palette=\"Set3\")"
   ]
  },
  {
   "cell_type": "code",
   "execution_count": 12,
   "metadata": {},
   "outputs": [
    {
     "data": {
      "text/plain": [
       "<matplotlib.axes._subplots.AxesSubplot at 0x2768748b6a0>"
      ]
     },
     "execution_count": 12,
     "metadata": {},
     "output_type": "execute_result"
    },
    {
     "data": {
      "image/png": "[encoded data removed]",
      "text/plain": [
       "<Figure size 432x288 with 2 Axes>"
      ]
     },
     "metadata": {
      "needs_background": "light"
     },
     "output_type": "display_data"
    }
   ],
   "source": [
    "corr=df.corr()\n",
    "sns.heatmap(corr, xticklabels=corr.columns.values, yticklabels=corr.columns.values)"
   ]
  },
  {
   "cell_type": "code",
   "execution_count": 9,
   "metadata": {},
   "outputs": [
    {
     "name": "stdout",
     "output_type": "stream",
     "text": [
      "0          0.033333\n",
      "1          0.050000\n",
      "2          0.016667\n",
      "3         10.000000\n",
      "4          2.000000\n",
      "5         10.000000\n",
      "6          0.033333\n",
      "7          0.050000\n",
      "8          0.083333\n",
      "9          0.500000\n",
      "10         0.033333\n",
      "11         0.050000\n",
      "12         0.033333\n",
      "13         0.083333\n",
      "14        10.000000\n",
      "15         0.016667\n",
      "16         0.033333\n",
      "17        10.000000\n",
      "18         0.166667\n",
      "19        10.000000\n",
      "20         5.000000\n",
      "21         5.000000\n",
      "22         0.016667\n",
      "23        10.000000\n",
      "24         0.050000\n",
      "25        60.000000\n",
      "26        10.000000\n",
      "27         2.000000\n",
      "28        60.000000\n",
      "29         0.050000\n",
      "            ...    \n",
      "423822    60.000000\n",
      "423823    60.000000\n",
      "423824     0.033333\n",
      "423825    60.000000\n",
      "423826     2.000000\n",
      "423827    10.000000\n",
      "423828     0.033333\n",
      "423829     5.000000\n",
      "423830     2.000000\n",
      "423831     0.033333\n",
      "423832     0.033333\n",
      "423833     0.166667\n",
      "423834    10.000000\n",
      "423835     0.033333\n",
      "423836     5.000000\n",
      "423837     0.166667\n",
      "423838     0.050000\n",
      "423839    10.000000\n",
      "423840    60.000000\n",
      "423841     0.083333\n",
      "423842     0.050000\n",
      "423843     0.050000\n",
      "423844    60.000000\n",
      "423845     0.166667\n",
      "423846    60.000000\n",
      "423847     0.016667\n",
      "423848     0.016667\n",
      "423849     0.033333\n",
      "423850     0.050000\n",
      "423851     0.166667\n",
      "Name: time difference, Length: 423852, dtype: float64\n"
     ]
    }
   ],
   "source": [
    "# Calculating date/time difference between two columns using the pandas datetime support (time difference in minutes)\n",
    "df['time difference'] = ((pd.to_datetime(df['datetime_opened']) - \n",
    "                            pd.to_datetime(df['datetime_received']))\n",
    "                                .dt.total_seconds() / 60)\n",
    "print(df['time difference'])"
   ]
  },
  {
   "cell_type": "code",
   "execution_count": 10,
   "metadata": {},
   "outputs": [
    {
     "name": "stderr",
     "output_type": "stream",
     "text": [
      "C:\\Users\\hp\\Anaconda3\\lib\\site-packages\\scipy\\stats\\stats.py:1713: FutureWarning: Using a non-tuple sequence for multidimensional indexing is deprecated; use `arr[tuple(seq)]` instead of `arr[seq]`. In the future this will be interpreted as an array index, `arr[np.array(seq)]`, which will result either in an error or a different result.\n",
      "  return np.add.reduce(sorted[indexer] * weights, axis=axis) / sumval\n"
     ]
    },
    {
     "name": "stdout",
     "output_type": "stream",
     "text": [
      "Mean number of time an user takes to open a received message (in minutes) 11.095532166864736\n"
     ]
    },
    {
     "data": {
      "image/png": "[encoded data removed]",
      "text/plain": [
       "<Figure size 864x576 with 1 Axes>"
      ]
     },
     "metadata": {
      "needs_background": "light"
     },
     "output_type": "display_data"
    }
   ],
   "source": [
    "plt.figure(figsize = (12,8))\n",
    "sns.distplot(df['time difference'])\n",
    "plt.title(\"Distribution of how long does it take for an user to open a message (in minutes)\")\n",
    "print(\"Mean number of time an user takes to open a received message (in minutes)\",np.mean(df['time difference']))"
   ]
  },
  {
   "cell_type": "code",
   "execution_count": 11,
   "metadata": {},
   "outputs": [
    {
     "name": "stdout",
     "output_type": "stream",
     "text": [
      "0            2.0\n",
      "1            3.0\n",
      "2            1.0\n",
      "3          600.0\n",
      "4          120.0\n",
      "5          600.0\n",
      "6            2.0\n",
      "7            3.0\n",
      "8            5.0\n",
      "9           30.0\n",
      "10           2.0\n",
      "11           3.0\n",
      "12           2.0\n",
      "13           5.0\n",
      "14         600.0\n",
      "15           1.0\n",
      "16           2.0\n",
      "17         600.0\n",
      "18          10.0\n",
      "19         600.0\n",
      "20         300.0\n",
      "21         300.0\n",
      "22           1.0\n",
      "23         600.0\n",
      "24           3.0\n",
      "25        3600.0\n",
      "26         600.0\n",
      "27         120.0\n",
      "28        3600.0\n",
      "29           3.0\n",
      "           ...  \n",
      "423822    3600.0\n",
      "423823    3600.0\n",
      "423824       2.0\n",
      "423825    3600.0\n",
      "423826     120.0\n",
      "423827     600.0\n",
      "423828       2.0\n",
      "423829     300.0\n",
      "423830     120.0\n",
      "423831       2.0\n",
      "423832       2.0\n",
      "423833      10.0\n",
      "423834     600.0\n",
      "423835       2.0\n",
      "423836     300.0\n",
      "423837      10.0\n",
      "423838       3.0\n",
      "423839     600.0\n",
      "423840    3600.0\n",
      "423841       5.0\n",
      "423842       3.0\n",
      "423843       3.0\n",
      "423844    3600.0\n",
      "423845      10.0\n",
      "423846    3600.0\n",
      "423847       1.0\n",
      "423848       1.0\n",
      "423849       2.0\n",
      "423850       3.0\n",
      "423851      10.0\n",
      "Name: time difference s, Length: 423852, dtype: float64\n"
     ]
    }
   ],
   "source": [
    "# Calculating date/time difference between two columns using the pandas datetime support (time difference in seconds)\n",
    "df['time difference s'] = ((pd.to_datetime(df['datetime_opened']) - \n",
    "                            pd.to_datetime(df['datetime_received']))\n",
    "                                .dt.total_seconds())\n",
    "print(df['time difference s'])"
   ]
  },
  {
   "cell_type": "code",
   "execution_count": 13,
   "metadata": {},
   "outputs": [
    {
     "name": "stderr",
     "output_type": "stream",
     "text": [
      "C:\\Users\\hp\\Anaconda3\\lib\\site-packages\\scipy\\stats\\stats.py:1713: FutureWarning: Using a non-tuple sequence for multidimensional indexing is deprecated; use `arr[tuple(seq)]` instead of `arr[seq]`. In the future this will be interpreted as an array index, `arr[np.array(seq)]`, which will result either in an error or a different result.\n",
      "  return np.add.reduce(sorted[indexer] * weights, axis=axis) / sumval\n"
     ]
    },
    {
     "name": "stdout",
     "output_type": "stream",
     "text": [
      "Mean number of time an user takes to open a received message (in seconds) 665.7319300133065\n"
     ]
    },
    {
     "data": {
      "image/png": "[encoded data removed]",
      "text/plain": [
       "<Figure size 864x576 with 1 Axes>"
      ]
     },
     "metadata": {
      "needs_background": "light"
     },
     "output_type": "display_data"
    }
   ],
   "source": [
    "plt.figure(figsize = (12,8))\n",
    "sns.distplot(df['time difference s'])\n",
    "plt.title(\"Distribution of how long does it take for an user to open a message (in seconds)\")\n",
    "print(\"Mean number of time an user takes to open a received message (in seconds)\",np.mean(df['time difference s']))"
   ]
  },
  {
   "cell_type": "code",
   "execution_count": 85,
   "metadata": {},
   "outputs": [],
   "source": [
    "# Creating a dataframe called dfsorted containing the columns I am interested in and then sort the timedifference column in \n",
    "# descending order. The user_id_receiver rows also change order to be correclty paired with their time difference correspective\n",
    "dfsorted = df[['user_id_receiver', 'time difference']]\n",
    "dfsorted = dfsorted.sort_values('time difference', ascending=False)"
   ]
  },
  {
   "cell_type": "code",
   "execution_count": 76,
   "metadata": {},
   "outputs": [],
   "source": [
    "# Checking how many duplicates there are in time difference\n",
    "import numpy as np\n",
    "x = np.array(df['time difference'].values.astype('int64'))\n",
    "y = np.bincount(x)\n",
    "ii = np.nonzero(y)[0]"
   ]
  },
  {
   "cell_type": "code",
   "execution_count": 77,
   "metadata": {},
   "outputs": [
    {
     "name": "stdout",
     "output_type": "stream",
     "text": [
      "[[     0 237409]\n",
      " [     2  17121]\n",
      " [     5  42407]\n",
      " [    10  63574]\n",
      " [    60  63341]]\n"
     ]
    }
   ],
   "source": [
    "# In the array, the first number is the number in time difference and the second number is the number of duplicates presents\n",
    "# in timedifference of the first number\n",
    "r= np.vstack((ii,y[ii])).T\n",
    "print(r)"
   ]
  },
  {
   "cell_type": "code",
   "execution_count": 79,
   "metadata": {},
   "outputs": [
    {
     "data": {
      "text/html": [
       "<div>\n",
       "<style scoped>\n",
       "    .dataframe tbody tr th:only-of-type {\n",
       "        vertical-align: middle;\n",
       "    }\n",
       "\n",
       "    .dataframe tbody tr th {\n",
       "        vertical-align: top;\n",
       "    }\n",
       "\n",
       "    .dataframe thead th {\n",
       "        text-align: right;\n",
       "    }\n",
       "</style>\n",
       "<table border=\"1\" class=\"dataframe\">\n",
       "  <thead>\n",
       "    <tr style=\"text-align: right;\">\n",
       "      <th></th>\n",
       "      <th>user_id_receiver</th>\n",
       "      <th>time difference</th>\n",
       "    </tr>\n",
       "  </thead>\n",
       "  <tbody>\n",
       "    <tr>\n",
       "      <th>137964</th>\n",
       "      <td>121571932788</td>\n",
       "      <td>60.0</td>\n",
       "    </tr>\n",
       "    <tr>\n",
       "      <th>126335</th>\n",
       "      <td>968598345638</td>\n",
       "      <td>60.0</td>\n",
       "    </tr>\n",
       "    <tr>\n",
       "      <th>356161</th>\n",
       "      <td>790685877584</td>\n",
       "      <td>60.0</td>\n",
       "    </tr>\n",
       "    <tr>\n",
       "      <th>126364</th>\n",
       "      <td>96878256840</td>\n",
       "      <td>60.0</td>\n",
       "    </tr>\n",
       "    <tr>\n",
       "      <th>126362</th>\n",
       "      <td>96878256840</td>\n",
       "      <td>60.0</td>\n",
       "    </tr>\n",
       "    <tr>\n",
       "      <th>126361</th>\n",
       "      <td>96878256840</td>\n",
       "      <td>60.0</td>\n",
       "    </tr>\n",
       "    <tr>\n",
       "      <th>356164</th>\n",
       "      <td>790685877584</td>\n",
       "      <td>60.0</td>\n",
       "    </tr>\n",
       "    <tr>\n",
       "      <th>356166</th>\n",
       "      <td>790685877584</td>\n",
       "      <td>60.0</td>\n",
       "    </tr>\n",
       "    <tr>\n",
       "      <th>356170</th>\n",
       "      <td>790685877584</td>\n",
       "      <td>60.0</td>\n",
       "    </tr>\n",
       "    <tr>\n",
       "      <th>126344</th>\n",
       "      <td>968708308668</td>\n",
       "      <td>60.0</td>\n",
       "    </tr>\n",
       "    <tr>\n",
       "      <th>356181</th>\n",
       "      <td>791103131230</td>\n",
       "      <td>60.0</td>\n",
       "    </tr>\n",
       "    <tr>\n",
       "      <th>126339</th>\n",
       "      <td>968598345638</td>\n",
       "      <td>60.0</td>\n",
       "    </tr>\n",
       "    <tr>\n",
       "      <th>126331</th>\n",
       "      <td>968598345638</td>\n",
       "      <td>60.0</td>\n",
       "    </tr>\n",
       "    <tr>\n",
       "      <th>356095</th>\n",
       "      <td>790678243073</td>\n",
       "      <td>60.0</td>\n",
       "    </tr>\n",
       "    <tr>\n",
       "      <th>356186</th>\n",
       "      <td>791103131230</td>\n",
       "      <td>60.0</td>\n",
       "    </tr>\n",
       "    <tr>\n",
       "      <th>126325</th>\n",
       "      <td>968598345638</td>\n",
       "      <td>60.0</td>\n",
       "    </tr>\n",
       "    <tr>\n",
       "      <th>356189</th>\n",
       "      <td>791103131230</td>\n",
       "      <td>60.0</td>\n",
       "    </tr>\n",
       "    <tr>\n",
       "      <th>126315</th>\n",
       "      <td>968598345638</td>\n",
       "      <td>60.0</td>\n",
       "    </tr>\n",
       "    <tr>\n",
       "      <th>356196</th>\n",
       "      <td>791103131230</td>\n",
       "      <td>60.0</td>\n",
       "    </tr>\n",
       "    <tr>\n",
       "      <th>126310</th>\n",
       "      <td>96854336439</td>\n",
       "      <td>60.0</td>\n",
       "    </tr>\n",
       "    <tr>\n",
       "      <th>126302</th>\n",
       "      <td>96854336439</td>\n",
       "      <td>60.0</td>\n",
       "    </tr>\n",
       "    <tr>\n",
       "      <th>126299</th>\n",
       "      <td>96854336439</td>\n",
       "      <td>60.0</td>\n",
       "    </tr>\n",
       "    <tr>\n",
       "      <th>356203</th>\n",
       "      <td>791103131230</td>\n",
       "      <td>60.0</td>\n",
       "    </tr>\n",
       "    <tr>\n",
       "      <th>356204</th>\n",
       "      <td>791103131230</td>\n",
       "      <td>60.0</td>\n",
       "    </tr>\n",
       "    <tr>\n",
       "      <th>356156</th>\n",
       "      <td>790685877584</td>\n",
       "      <td>60.0</td>\n",
       "    </tr>\n",
       "    <tr>\n",
       "      <th>126370</th>\n",
       "      <td>96878256840</td>\n",
       "      <td>60.0</td>\n",
       "    </tr>\n",
       "    <tr>\n",
       "      <th>356155</th>\n",
       "      <td>790685877584</td>\n",
       "      <td>60.0</td>\n",
       "    </tr>\n",
       "    <tr>\n",
       "      <th>356151</th>\n",
       "      <td>790685877584</td>\n",
       "      <td>60.0</td>\n",
       "    </tr>\n",
       "    <tr>\n",
       "      <th>126476</th>\n",
       "      <td>969031501703</td>\n",
       "      <td>60.0</td>\n",
       "    </tr>\n",
       "    <tr>\n",
       "      <th>126467</th>\n",
       "      <td>969031501703</td>\n",
       "      <td>60.0</td>\n",
       "    </tr>\n",
       "    <tr>\n",
       "      <th>...</th>\n",
       "      <td>...</td>\n",
       "      <td>...</td>\n",
       "    </tr>\n",
       "    <tr>\n",
       "      <th>22595</th>\n",
       "      <td>25731368053</td>\n",
       "      <td>60.0</td>\n",
       "    </tr>\n",
       "    <tr>\n",
       "      <th>421795</th>\n",
       "      <td>993642434736</td>\n",
       "      <td>60.0</td>\n",
       "    </tr>\n",
       "    <tr>\n",
       "      <th>417844</th>\n",
       "      <td>980441359655</td>\n",
       "      <td>60.0</td>\n",
       "    </tr>\n",
       "    <tr>\n",
       "      <th>19286</th>\n",
       "      <td>232442680485</td>\n",
       "      <td>60.0</td>\n",
       "    </tr>\n",
       "    <tr>\n",
       "      <th>413985</th>\n",
       "      <td>96776670299</td>\n",
       "      <td>60.0</td>\n",
       "    </tr>\n",
       "    <tr>\n",
       "      <th>11654</th>\n",
       "      <td>180530756542</td>\n",
       "      <td>60.0</td>\n",
       "    </tr>\n",
       "    <tr>\n",
       "      <th>44668</th>\n",
       "      <td>404194893587</td>\n",
       "      <td>60.0</td>\n",
       "    </tr>\n",
       "    <tr>\n",
       "      <th>404519</th>\n",
       "      <td>9384039835</td>\n",
       "      <td>60.0</td>\n",
       "    </tr>\n",
       "    <tr>\n",
       "      <th>400765</th>\n",
       "      <td>925875490902</td>\n",
       "      <td>60.0</td>\n",
       "    </tr>\n",
       "    <tr>\n",
       "      <th>23311</th>\n",
       "      <td>264438537493</td>\n",
       "      <td>60.0</td>\n",
       "    </tr>\n",
       "    <tr>\n",
       "      <th>413495</th>\n",
       "      <td>966116497935</td>\n",
       "      <td>60.0</td>\n",
       "    </tr>\n",
       "    <tr>\n",
       "      <th>11640</th>\n",
       "      <td>179956257120</td>\n",
       "      <td>60.0</td>\n",
       "    </tr>\n",
       "    <tr>\n",
       "      <th>35826</th>\n",
       "      <td>345982197355</td>\n",
       "      <td>60.0</td>\n",
       "    </tr>\n",
       "    <tr>\n",
       "      <th>28734</th>\n",
       "      <td>298692511623</td>\n",
       "      <td>60.0</td>\n",
       "    </tr>\n",
       "    <tr>\n",
       "      <th>34905</th>\n",
       "      <td>339295744934</td>\n",
       "      <td>60.0</td>\n",
       "    </tr>\n",
       "    <tr>\n",
       "      <th>28616</th>\n",
       "      <td>297907260896</td>\n",
       "      <td>60.0</td>\n",
       "    </tr>\n",
       "    <tr>\n",
       "      <th>46854</th>\n",
       "      <td>416467179960</td>\n",
       "      <td>60.0</td>\n",
       "    </tr>\n",
       "    <tr>\n",
       "      <th>2505</th>\n",
       "      <td>116766143105</td>\n",
       "      <td>60.0</td>\n",
       "    </tr>\n",
       "    <tr>\n",
       "      <th>400030</th>\n",
       "      <td>923991374281</td>\n",
       "      <td>60.0</td>\n",
       "    </tr>\n",
       "    <tr>\n",
       "      <th>2813</th>\n",
       "      <td>119779630391</td>\n",
       "      <td>60.0</td>\n",
       "    </tr>\n",
       "    <tr>\n",
       "      <th>38839</th>\n",
       "      <td>364095267933</td>\n",
       "      <td>60.0</td>\n",
       "    </tr>\n",
       "    <tr>\n",
       "      <th>50178</th>\n",
       "      <td>439127627273</td>\n",
       "      <td>60.0</td>\n",
       "    </tr>\n",
       "    <tr>\n",
       "      <th>22594</th>\n",
       "      <td>25731368053</td>\n",
       "      <td>60.0</td>\n",
       "    </tr>\n",
       "    <tr>\n",
       "      <th>411805</th>\n",
       "      <td>96167289350</td>\n",
       "      <td>60.0</td>\n",
       "    </tr>\n",
       "    <tr>\n",
       "      <th>4074</th>\n",
       "      <td>127956338250</td>\n",
       "      <td>60.0</td>\n",
       "    </tr>\n",
       "    <tr>\n",
       "      <th>39237</th>\n",
       "      <td>365527977711</td>\n",
       "      <td>60.0</td>\n",
       "    </tr>\n",
       "    <tr>\n",
       "      <th>421718</th>\n",
       "      <td>993068342986</td>\n",
       "      <td>60.0</td>\n",
       "    </tr>\n",
       "    <tr>\n",
       "      <th>18581</th>\n",
       "      <td>227870756716</td>\n",
       "      <td>60.0</td>\n",
       "    </tr>\n",
       "    <tr>\n",
       "      <th>159588</th>\n",
       "      <td>190256165656</td>\n",
       "      <td>10.0</td>\n",
       "    </tr>\n",
       "    <tr>\n",
       "      <th>338565</th>\n",
       "      <td>737669637656</td>\n",
       "      <td>10.0</td>\n",
       "    </tr>\n",
       "  </tbody>\n",
       "</table>\n",
       "<p>63343 rows × 2 columns</p>\n",
       "</div>"
      ],
      "text/plain": [
       "        user_id_receiver  time difference\n",
       "137964      121571932788             60.0\n",
       "126335      968598345638             60.0\n",
       "356161      790685877584             60.0\n",
       "126364       96878256840             60.0\n",
       "126362       96878256840             60.0\n",
       "126361       96878256840             60.0\n",
       "356164      790685877584             60.0\n",
       "356166      790685877584             60.0\n",
       "356170      790685877584             60.0\n",
       "126344      968708308668             60.0\n",
       "356181      791103131230             60.0\n",
       "126339      968598345638             60.0\n",
       "126331      968598345638             60.0\n",
       "356095      790678243073             60.0\n",
       "356186      791103131230             60.0\n",
       "126325      968598345638             60.0\n",
       "356189      791103131230             60.0\n",
       "126315      968598345638             60.0\n",
       "356196      791103131230             60.0\n",
       "126310       96854336439             60.0\n",
       "126302       96854336439             60.0\n",
       "126299       96854336439             60.0\n",
       "356203      791103131230             60.0\n",
       "356204      791103131230             60.0\n",
       "356156      790685877584             60.0\n",
       "126370       96878256840             60.0\n",
       "356155      790685877584             60.0\n",
       "356151      790685877584             60.0\n",
       "126476      969031501703             60.0\n",
       "126467      969031501703             60.0\n",
       "...                  ...              ...\n",
       "22595        25731368053             60.0\n",
       "421795      993642434736             60.0\n",
       "417844      980441359655             60.0\n",
       "19286       232442680485             60.0\n",
       "413985       96776670299             60.0\n",
       "11654       180530756542             60.0\n",
       "44668       404194893587             60.0\n",
       "404519        9384039835             60.0\n",
       "400765      925875490902             60.0\n",
       "23311       264438537493             60.0\n",
       "413495      966116497935             60.0\n",
       "11640       179956257120             60.0\n",
       "35826       345982197355             60.0\n",
       "28734       298692511623             60.0\n",
       "34905       339295744934             60.0\n",
       "28616       297907260896             60.0\n",
       "46854       416467179960             60.0\n",
       "2505        116766143105             60.0\n",
       "400030      923991374281             60.0\n",
       "2813        119779630391             60.0\n",
       "38839       364095267933             60.0\n",
       "50178       439127627273             60.0\n",
       "22594        25731368053             60.0\n",
       "411805       96167289350             60.0\n",
       "4074        127956338250             60.0\n",
       "39237       365527977711             60.0\n",
       "421718      993068342986             60.0\n",
       "18581       227870756716             60.0\n",
       "159588      190256165656             10.0\n",
       "338565      737669637656             10.0\n",
       "\n",
       "[63343 rows x 2 columns]"
      ]
     },
     "execution_count": 79,
     "metadata": {},
     "output_type": "execute_result"
    }
   ],
   "source": [
    "# Checking our sorted dataframe\n",
    "dfsorted[['user_id_receiver', 'time difference']].head(63343)"
   ]
  },
  {
   "cell_type": "code",
   "execution_count": 81,
   "metadata": {},
   "outputs": [
    {
     "data": {
      "text/plain": [
       "Text(0,0.5,'User ID')"
      ]
     },
     "execution_count": 81,
     "metadata": {},
     "output_type": "execute_result"
    },
    {
     "data": {
      "image/png": "[encoded data removed]",
      "text/plain": [
       "<Figure size 1080x864 with 1 Axes>"
      ]
     },
     "metadata": {
      "needs_background": "light"
     },
     "output_type": "display_data"
    }
   ],
   "source": [
    "plt.figure(figsize = (15,12))\n",
    "y_pos = np.arange(len(dfsorted['user_id_receiver'][0:20]))\n",
    "sns.barplot(y =y_pos, x=dfsorted['time difference'][0:20], palette = 'rocket', orient = 'h')\n",
    "plt.title(\"Slowest users to open their messages (Top 20)\")\n",
    "plt.yticks(y_pos, dfsorted['user_id_receiver'][0:20])\n",
    "plt.ylabel('User ID')"
   ]
  },
  {
   "cell_type": "code",
   "execution_count": 84,
   "metadata": {},
   "outputs": [
    {
     "data": {
      "text/plain": [
       "Text(0,0.5,'User ID')"
      ]
     },
     "execution_count": 84,
     "metadata": {},
     "output_type": "execute_result"
    },
    {
     "data": {
      "image/png": "[encoded data removed]",
      "text/plain": [
       "<Figure size 1080x864 with 1 Axes>"
      ]
     },
     "metadata": {
      "needs_background": "light"
     },
     "output_type": "display_data"
    }
   ],
   "source": [
    "plt.figure(figsize = (15,12))\n",
    "y_pos = np.arange(len(dfsorted['user_id_receiver'].tail(20)))\n",
    "sns.barplot(y =y_pos, x=dfsorted['time difference'].tail(20), palette = 'rocket', orient = 'h')\n",
    "plt.title(\"Fastest users to open their messages (Top 20)\")\n",
    "plt.yticks(y_pos, dfsorted['user_id_receiver'].tail(20))\n",
    "plt.ylabel('User ID')"
   ]
  }
 ],
 "metadata": {
  "kernelspec": {
   "display_name": "Python 3",
   "language": "python",
   "name": "python3"
  },
  "language_info": {
   "codemirror_mode": {
    "name": "ipython",
    "version": 3
   },
   "file_extension": ".py",
   "mimetype": "text/x-python",
   "name": "python",
   "nbconvert_exporter": "python",
   "pygments_lexer": "ipython3",
   "version": "3.7.0"
  }
 },
 "nbformat": 4,
 "nbformat_minor": 2
}
